{
 "cells": [
  {
   "cell_type": "code",
   "execution_count": 1,
   "metadata": {},
   "outputs": [],
   "source": [
    "import torch\n",
    "import torch.nn as nn \n",
    "import torchvision"
   ]
  },
  {
   "cell_type": "code",
   "execution_count": 10,
   "metadata": {},
   "outputs": [],
   "source": [
    "class SAE_block(nn.Module):\n",
    "    def __init__(self, in_channels, r):\n",
    "        super(SAE_block, self).__init__()\n",
    "        self.in_channels = in_channels\n",
    "        self.r = r                     # r is reduction rate in excitation part of the block\n",
    "\n",
    "        self.block = nn.Sequential(\n",
    "            nn.AdaptiveAvgPool2d(1), # Squeeze (b, c, h, w) ---> (b, c, 1, 1)\n",
    "            nn.Conv2d(in_channels, out_channels=in_channels//r, kernel_size=1),\n",
    "            nn.ReLU(),\n",
    "            nn.Conv2d(in_channels//r, in_channels, 1),\n",
    "            nn.Sigmoid())\n",
    "    def forward(self, x):\n",
    "        return  x * self.block(x)"
   ]
  },
  {
   "cell_type": "code",
   "execution_count": 12,
   "metadata": {},
   "outputs": [
    {
     "name": "stdout",
     "output_type": "stream",
     "text": [
      "torch.Size([64, 16, 224, 224])\n"
     ]
    }
   ],
   "source": [
    "device = torch.device('cuda:0' if torch.cuda.is_available() else 'cpu')\n",
    "input = torch.randn(64, 16, 224, 224).to(device)\n",
    "layer = SAE_block(16, r=4).to(device)\n",
    "output = layer(input)\n",
    "print(output.shape)"
   ]
  },
  {
   "cell_type": "code",
   "execution_count": 13,
   "metadata": {},
   "outputs": [],
   "source": [
    "class InvertedResidual(nn.Module):\n",
    "    def __init__(self, in_channels, expansion_rate, *kwargs):\n",
    "        super(self, InvertedResidual).__init__()\n",
    "        self.in_channels= in_channels\n",
    "        self.expansion_rate = expansion_rate\n",
    "        \n",
    "        self.expansion_layer = nn.Sequential(\n",
    "            nn.Conv2d(in_channels, in_channels*expansion_rate, kernel_size=1),\n",
    "            nn.BatchNorm2d(in_channels*expansion_rate),\n",
    "            nn.ReLU())\n",
    "        \n",
    "        self.depthwise_layer = nn.Sequential(\n",
    "            nn.Conv2d(in_channels*expansion_rate, in_channels*expansion_rate, kernel_size=3, groups=in_channels*expansion_rate, *kwargs),\n",
    "            nn.BatchNorm2d(in_channels*expansion_rate),\n",
    "            nn.ReLU())\n",
    "        \n",
    "        self.pointwise_layer = nn.Sequential(\n",
    "            nn.Conv2d(in_channels*expansion_rate, in_channels, kernel_size=1),\n",
    "            nn.BatchNorm2d(in_channels))\n",
    "        \n",
    "    def forward(self, x):\n",
    "        el = self.expansion_layer(x)\n",
    "        dl = self.depthwise_layer(el)\n",
    "        pl = self.pointwise_layer(dl)\n",
    "        return x + pl"
   ]
  },
  {
   "cell_type": "code",
   "execution_count": null,
   "metadata": {},
   "outputs": [],
   "source": [
    "x = torch.randn(64, 16, 224, 224).to(device)\n",
    "layer1 = InvertedResidual(16, 6, stride=1).to(device)\n",
    "layer2 = InvertedResidual(16, 6, stride=2).to(device)\n"
   ]
  }
 ],
 "metadata": {
  "kernelspec": {
   "display_name": "ict11-smp",
   "language": "python",
   "name": "python3"
  },
  "language_info": {
   "codemirror_mode": {
    "name": "ipython",
    "version": 3
   },
   "file_extension": ".py",
   "mimetype": "text/x-python",
   "name": "python",
   "nbconvert_exporter": "python",
   "pygments_lexer": "ipython3",
   "version": "3.8.12"
  }
 },
 "nbformat": 4,
 "nbformat_minor": 2
}
