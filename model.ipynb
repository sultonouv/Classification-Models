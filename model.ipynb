{
 "cells": [
  {
   "cell_type": "code",
   "execution_count": 1,
   "metadata": {},
   "outputs": [],
   "source": [
    "import torch\n",
    "import torch.nn as nn"
   ]
  },
  {
   "cell_type": "code",
   "execution_count": 26,
   "metadata": {},
   "outputs": [],
   "source": [
    "class InvertedResidual(nn.Module):\n",
    "    def __init__(self, in_channels, out_channels, expansion_rate, stride=1):\n",
    "        super(InvertedResidual, self).__init__()\n",
    "        self.in_channels= in_channels\n",
    "        self.out_channels = out_channels\n",
    "        self.expansion_rate = expansion_rate\n",
    "        self.stride = stride\n",
    "        \n",
    "        self.expansion_layer = nn.Sequential(\n",
    "            nn.Conv2d(in_channels, in_channels*expansion_rate, kernel_size=1),\n",
    "            nn.BatchNorm2d(in_channels*expansion_rate),\n",
    "            nn.ReLU())\n",
    "        \n",
    "        self.depthwise_layer = nn.Sequential(\n",
    "            nn.Conv2d(in_channels*expansion_rate, in_channels*expansion_rate, kernel_size=3, groups=in_channels*expansion_rate, stride=stride, padding=1),\n",
    "            nn.BatchNorm2d(in_channels*expansion_rate),\n",
    "            nn.ReLU())\n",
    "        \n",
    "        self.pointwise_layer = nn.Sequential(\n",
    "            nn.Conv2d(in_channels*expansion_rate, out_channels, kernel_size=1),\n",
    "            nn.BatchNorm2d(out_channels))\n",
    "        \n",
    "    def forward(self, x):\n",
    "        el = self.expansion_layer(x)\n",
    "        dl = self.depthwise_layer(el)\n",
    "        pl = self.pointwise_layer(dl)\n",
    "        if self.stride == 1 and self.in_channels==self.out_channels:\n",
    "            return x + pl\n",
    "        else:\n",
    "            return pl"
   ]
  },
  {
   "cell_type": "code",
   "execution_count": 40,
   "metadata": {},
   "outputs": [],
   "source": [
    "class MobileNetV2(nn.Module):\n",
    "    def __init__(self, in_channels, num_classes):\n",
    "        super().__init__()\n",
    "        self.in_channels = in_channels\n",
    "        self.num_classes = num_classes\n",
    "\n",
    "        self.conv1 = nn.Sequential(\n",
    "            nn.Conv2d(in_channels, 32, 3, stride=2, padding=1),\n",
    "            nn.BatchNorm2d(32),\n",
    "            nn.ReLU6())\n",
    "        \n",
    "        self.bk1 = InvertedResidual(32, 16, 1, 1)\n",
    "        self.bk2 = nn.Sequential(\n",
    "            InvertedResidual(16, 24, 6, 1),\n",
    "            InvertedResidual(24, 24, 6, 2))\n",
    "        \n",
    "        self.bk3 = nn.Sequential(\n",
    "            InvertedResidual(24, 32, 6, 1),\n",
    "            InvertedResidual(32, 32, 6, 1),\n",
    "            InvertedResidual(32, 32, 6, 2))\n",
    "        \n",
    "        self.bk4 = nn.Sequential(\n",
    "            InvertedResidual(32, 64, 6, 1),\n",
    "            InvertedResidual(64, 64, 6, 1),\n",
    "            InvertedResidual(64, 64, 6, 1),\n",
    "            InvertedResidual(64, 64, 6, 2))\n",
    "        \n",
    "        self.bk5 = nn.Sequential(\n",
    "            InvertedResidual(64, 96, 6, 1),\n",
    "            InvertedResidual(96, 96, 6, 1),\n",
    "            InvertedResidual(96, 96, 6, 1))\n",
    "        \n",
    "        self.bk6 = nn.Sequential(\n",
    "            InvertedResidual(96, 160, 6, 1),\n",
    "            InvertedResidual(160, 160, 6, 1),\n",
    "            InvertedResidual(160, 160, 6, 2))\n",
    "        \n",
    "        self.bk7 = InvertedResidual(160, 320, 6, 1)\n",
    "\n",
    "        self.conv1x1 = nn.Conv2d(320, 1280, 1)\n",
    "\n",
    "        self.pool = nn.AvgPool2d(7)\n",
    "\n",
    "        self.classifier = nn.Sequential(\n",
    "            nn.Dropout(p=0.5),\n",
    "            nn.Linear(1280, num_classes)\n",
    "        )\n",
    "        \n",
    "    def forward(self, x):\n",
    "        conv1 = self.conv1(x)\n",
    "        bk1 = self.bk1(conv1)\n",
    "        bk2 = self.bk2(bk1)\n",
    "        bk3 = self.bk3(bk2)\n",
    "        bk4 = self.bk4(bk3)\n",
    "        bk5 = self.bk5(bk4)\n",
    "        bk6 = self.bk6(bk5)\n",
    "        bk7 = self.bk7(bk6)\n",
    "        conv1x1 = self.conv1x1(bk7)\n",
    "        pool = self.pool(conv1x1)\n",
    "        flatten = torch.flatten(pool, 1)\n",
    "        classifier = self.classifier(flatten)\n",
    "\n",
    "        return classifier"
   ]
  },
  {
   "cell_type": "code",
   "execution_count": 41,
   "metadata": {},
   "outputs": [
    {
     "name": "stdout",
     "output_type": "stream",
     "text": [
      "torch.Size([64, 10])\n"
     ]
    }
   ],
   "source": [
    "x = torch.randn(64, 3, 224, 224)\n",
    "model = MobileNetV2(3, 10)\n",
    "print(model(x).shape)"
   ]
  },
  {
   "cell_type": "code",
   "execution_count": null,
   "metadata": {},
   "outputs": [],
   "source": []
  }
 ],
 "metadata": {
  "kernelspec": {
   "display_name": "ict11-smp",
   "language": "python",
   "name": "python3"
  },
  "language_info": {
   "codemirror_mode": {
    "name": "ipython",
    "version": 3
   },
   "file_extension": ".py",
   "mimetype": "text/x-python",
   "name": "python",
   "nbconvert_exporter": "python",
   "pygments_lexer": "ipython3",
   "version": "3.8.12"
  }
 },
 "nbformat": 4,
 "nbformat_minor": 2
}
