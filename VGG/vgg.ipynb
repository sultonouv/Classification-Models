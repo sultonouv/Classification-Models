{
 "cells": [
  {
   "cell_type": "code",
   "execution_count": 1,
   "id": "110ae4d3-7cbc-45a2-a59c-24dee25a21e3",
   "metadata": {},
   "outputs": [],
   "source": [
    "import torch\n",
    "import torch.nn as nn\n",
    "import torchvision\n",
    "import torchvision.datasets as datasets\n",
    "import torchvision.transforms as transforms\n",
    "from torch.utils.data import DataLoader\n",
    "import torch.nn.functional as F\n",
    "import torch.optim as optim\n",
    "from tqdm import tqdm\n",
    "import pandas as pd\n",
    "import numpy as np\n",
    "import matplotlib.pyplot as plt\n",
    "import torch.nn.init as init"
   ]
  },
  {
   "cell_type": "code",
   "execution_count": 2,
   "id": "efbeabe6",
   "metadata": {},
   "outputs": [],
   "source": [
    "# Hyperparams\n",
    "BATCH_SIZE = 16\n",
    "LR = 3e-4\n",
    "NUM_WORKERS = 8\n",
    "EPOCHS=100\n",
    "MOMENTUM = 0.9\n",
    "WEIGHT_DECAY = 1e-4\n",
    "DEVICE = torch.device('cuda:1')"
   ]
  },
  {
   "cell_type": "code",
   "execution_count": 3,
   "id": "3e74d5e9",
   "metadata": {},
   "outputs": [],
   "source": [
    "normMean = [0.485, 0.456, 0.406]\n",
    "normStd = [0.229, 0.224, 0.225]\n",
    "normTransform = transforms.Normalize(normMean, normStd)\n",
    "\n",
    "trainTransform = transforms.Compose([\n",
    "        transforms.Resize(224),\n",
    "        transforms.RandomHorizontalFlip(),\n",
    "        transforms.ToTensor(),\n",
    "        normTransform\n",
    "    ])\n",
    "testTransform = transforms.Compose([\n",
    "        transforms.Resize(224),\n",
    "        transforms.ToTensor(),\n",
    "        normTransform\n",
    "    ])"
   ]
  },
  {
   "cell_type": "code",
   "execution_count": 4,
   "id": "176433d8",
   "metadata": {},
   "outputs": [
    {
     "name": "stdout",
     "output_type": "stream",
     "text": [
      "Files already downloaded and verified\n",
      "Files already downloaded and verified\n"
     ]
    }
   ],
   "source": [
    "train_dataset = datasets.CIFAR10(root='../DATASETS/classification_datasets', train=True, download=True, transform=trainTransform)\n",
    "test_dataset = datasets.CIFAR10(root='../DATASETS/classification_datasets', train=False, download=True, transform=testTransform)\n",
    "\n",
    "train_loader = DataLoader(dataset=train_dataset, batch_size=BATCH_SIZE, shuffle=True, num_workers=NUM_WORKERS, pin_memory=True)\n",
    "test_loader = DataLoader(dataset=test_dataset, batch_size=BATCH_SIZE, shuffle=True, num_workers=NUM_WORKERS, pin_memory=True)"
   ]
  },
  {
   "cell_type": "code",
   "execution_count": 5,
   "id": "abd187c6",
   "metadata": {},
   "outputs": [],
   "source": [
    "vgg16 = [64, 64, \"M\", 128, 128, \"M\", 256, 256, \"M\", 512, 512, 512, \"M\", 512, 512, 512, \"M\"]\n",
    "vgg19 = [64, 64, \"M\", 128, 128, \"M\", 256, 256, \"M\", 512, 512, 512, 512, \"M\", 512, 512, 512, 512, \"M\"]"
   ]
  },
  {
   "cell_type": "code",
   "execution_count": 6,
   "id": "5de524b4",
   "metadata": {},
   "outputs": [],
   "source": [
    "class ConvBlock(nn.Module):\n",
    "    def __init__(self, in_channels, out_channels):\n",
    "        super(ConvBlock, self).__init__()\n",
    "        self.in_channels = in_channels\n",
    "        self.out_channels = out_channels \n",
    "\n",
    "        self.block = nn.Sequential(\n",
    "            nn.Conv2d(in_channels=in_channels, out_channels = out_channels, kernel_size=3, padding=1, stride=1),\n",
    "            nn.BatchNorm2d(out_channels),\n",
    "            nn.ReLU()\n",
    "        )\n",
    "\n",
    "    def forward(self, x):\n",
    "        return self.block(x)"
   ]
  },
  {
   "cell_type": "code",
   "execution_count": 7,
   "id": "79fe348a",
   "metadata": {},
   "outputs": [],
   "source": [
    "class VGGConstructor(nn.Module):\n",
    "    def __init__(self, in_channels, num_classes, depth):\n",
    "        super().__init__()\n",
    "        self.in_channels = in_channels\n",
    "        self.num_classes = num_classes\n",
    "        self.depth = depth\n",
    "        self.conv_layers = self.layers_maker(depth)\n",
    "        self.classifier = nn.Sequential(\n",
    "                    nn.Linear(512*7*7, 4096),\n",
    "                    nn.ReLU(),\n",
    "                    nn.Dropout(p=0.5),\n",
    "                    nn.Linear(4096, 4096),\n",
    "                    nn.ReLU(),\n",
    "                    nn.Dropout(p=0.5),\n",
    "                    nn.Linear(4096, num_classes))\n",
    "\n",
    "    def layers_maker(self, depth):\n",
    "        in_channels = self.in_channels\n",
    "        layers = []\n",
    "        for x in  depth:\n",
    "            if type(x) is int:\n",
    "                layer = ConvBlock(in_channels, out_channels=x)\n",
    "                layers.append(layer)\n",
    "                in_channels = x\n",
    "            elif x == \"M\":\n",
    "                layer = nn.MaxPool2d(kernel_size=2, stride=2)\n",
    "                layers.append(layer)\n",
    "\n",
    "        return nn.Sequential(*layers)\n",
    "    \n",
    "    def forward(self, x):\n",
    "        x = self.conv_layers(x)\n",
    "        x = torch.flatten(x, start_dim=1)\n",
    "        x = self.classifier(x)\n",
    "        return x"
   ]
  },
  {
   "cell_type": "code",
   "execution_count": 8,
   "id": "122ff320",
   "metadata": {},
   "outputs": [],
   "source": [
    "model = VGGConstructor(3, 10, vgg19)\n",
    "model = model.to(DEVICE)"
   ]
  },
  {
   "cell_type": "code",
   "execution_count": 9,
   "id": "8086889a",
   "metadata": {},
   "outputs": [
    {
     "data": {
      "text/plain": [
       "VGGConstructor(\n",
       "  (conv_layers): Sequential(\n",
       "    (0): ConvBlock(\n",
       "      (block): Sequential(\n",
       "        (0): Conv2d(3, 64, kernel_size=(3, 3), stride=(1, 1), padding=(1, 1))\n",
       "        (1): BatchNorm2d(64, eps=1e-05, momentum=0.1, affine=True, track_running_stats=True)\n",
       "        (2): ReLU()\n",
       "      )\n",
       "    )\n",
       "    (1): ConvBlock(\n",
       "      (block): Sequential(\n",
       "        (0): Conv2d(64, 64, kernel_size=(3, 3), stride=(1, 1), padding=(1, 1))\n",
       "        (1): BatchNorm2d(64, eps=1e-05, momentum=0.1, affine=True, track_running_stats=True)\n",
       "        (2): ReLU()\n",
       "      )\n",
       "    )\n",
       "    (2): MaxPool2d(kernel_size=2, stride=2, padding=0, dilation=1, ceil_mode=False)\n",
       "    (3): ConvBlock(\n",
       "      (block): Sequential(\n",
       "        (0): Conv2d(64, 128, kernel_size=(3, 3), stride=(1, 1), padding=(1, 1))\n",
       "        (1): BatchNorm2d(128, eps=1e-05, momentum=0.1, affine=True, track_running_stats=True)\n",
       "        (2): ReLU()\n",
       "      )\n",
       "    )\n",
       "    (4): ConvBlock(\n",
       "      (block): Sequential(\n",
       "        (0): Conv2d(128, 128, kernel_size=(3, 3), stride=(1, 1), padding=(1, 1))\n",
       "        (1): BatchNorm2d(128, eps=1e-05, momentum=0.1, affine=True, track_running_stats=True)\n",
       "        (2): ReLU()\n",
       "      )\n",
       "    )\n",
       "    (5): MaxPool2d(kernel_size=2, stride=2, padding=0, dilation=1, ceil_mode=False)\n",
       "    (6): ConvBlock(\n",
       "      (block): Sequential(\n",
       "        (0): Conv2d(128, 256, kernel_size=(3, 3), stride=(1, 1), padding=(1, 1))\n",
       "        (1): BatchNorm2d(256, eps=1e-05, momentum=0.1, affine=True, track_running_stats=True)\n",
       "        (2): ReLU()\n",
       "      )\n",
       "    )\n",
       "    (7): ConvBlock(\n",
       "      (block): Sequential(\n",
       "        (0): Conv2d(256, 256, kernel_size=(3, 3), stride=(1, 1), padding=(1, 1))\n",
       "        (1): BatchNorm2d(256, eps=1e-05, momentum=0.1, affine=True, track_running_stats=True)\n",
       "        (2): ReLU()\n",
       "      )\n",
       "    )\n",
       "    (8): MaxPool2d(kernel_size=2, stride=2, padding=0, dilation=1, ceil_mode=False)\n",
       "    (9): ConvBlock(\n",
       "      (block): Sequential(\n",
       "        (0): Conv2d(256, 512, kernel_size=(3, 3), stride=(1, 1), padding=(1, 1))\n",
       "        (1): BatchNorm2d(512, eps=1e-05, momentum=0.1, affine=True, track_running_stats=True)\n",
       "        (2): ReLU()\n",
       "      )\n",
       "    )\n",
       "    (10): ConvBlock(\n",
       "      (block): Sequential(\n",
       "        (0): Conv2d(512, 512, kernel_size=(3, 3), stride=(1, 1), padding=(1, 1))\n",
       "        (1): BatchNorm2d(512, eps=1e-05, momentum=0.1, affine=True, track_running_stats=True)\n",
       "        (2): ReLU()\n",
       "      )\n",
       "    )\n",
       "    (11): ConvBlock(\n",
       "      (block): Sequential(\n",
       "        (0): Conv2d(512, 512, kernel_size=(3, 3), stride=(1, 1), padding=(1, 1))\n",
       "        (1): BatchNorm2d(512, eps=1e-05, momentum=0.1, affine=True, track_running_stats=True)\n",
       "        (2): ReLU()\n",
       "      )\n",
       "    )\n",
       "    (12): ConvBlock(\n",
       "      (block): Sequential(\n",
       "        (0): Conv2d(512, 512, kernel_size=(3, 3), stride=(1, 1), padding=(1, 1))\n",
       "        (1): BatchNorm2d(512, eps=1e-05, momentum=0.1, affine=True, track_running_stats=True)\n",
       "        (2): ReLU()\n",
       "      )\n",
       "    )\n",
       "    (13): MaxPool2d(kernel_size=2, stride=2, padding=0, dilation=1, ceil_mode=False)\n",
       "    (14): ConvBlock(\n",
       "      (block): Sequential(\n",
       "        (0): Conv2d(512, 512, kernel_size=(3, 3), stride=(1, 1), padding=(1, 1))\n",
       "        (1): BatchNorm2d(512, eps=1e-05, momentum=0.1, affine=True, track_running_stats=True)\n",
       "        (2): ReLU()\n",
       "      )\n",
       "    )\n",
       "    (15): ConvBlock(\n",
       "      (block): Sequential(\n",
       "        (0): Conv2d(512, 512, kernel_size=(3, 3), stride=(1, 1), padding=(1, 1))\n",
       "        (1): BatchNorm2d(512, eps=1e-05, momentum=0.1, affine=True, track_running_stats=True)\n",
       "        (2): ReLU()\n",
       "      )\n",
       "    )\n",
       "    (16): ConvBlock(\n",
       "      (block): Sequential(\n",
       "        (0): Conv2d(512, 512, kernel_size=(3, 3), stride=(1, 1), padding=(1, 1))\n",
       "        (1): BatchNorm2d(512, eps=1e-05, momentum=0.1, affine=True, track_running_stats=True)\n",
       "        (2): ReLU()\n",
       "      )\n",
       "    )\n",
       "    (17): ConvBlock(\n",
       "      (block): Sequential(\n",
       "        (0): Conv2d(512, 512, kernel_size=(3, 3), stride=(1, 1), padding=(1, 1))\n",
       "        (1): BatchNorm2d(512, eps=1e-05, momentum=0.1, affine=True, track_running_stats=True)\n",
       "        (2): ReLU()\n",
       "      )\n",
       "    )\n",
       "    (18): MaxPool2d(kernel_size=2, stride=2, padding=0, dilation=1, ceil_mode=False)\n",
       "  )\n",
       "  (classifier): Sequential(\n",
       "    (0): Linear(in_features=25088, out_features=4096, bias=True)\n",
       "    (1): ReLU()\n",
       "    (2): Dropout(p=0.5, inplace=False)\n",
       "    (3): Linear(in_features=4096, out_features=4096, bias=True)\n",
       "    (4): ReLU()\n",
       "    (5): Dropout(p=0.5, inplace=False)\n",
       "    (6): Linear(in_features=4096, out_features=10, bias=True)\n",
       "  )\n",
       ")"
      ]
     },
     "metadata": {},
     "output_type": "display_data"
    }
   ],
   "source": [
    "display(model)"
   ]
  },
  {
   "cell_type": "code",
   "execution_count": 10,
   "id": "6024f40d",
   "metadata": {},
   "outputs": [],
   "source": [
    "criterion = nn.CrossEntropyLoss()\n",
    "optimizer = torch.optim.Adam(model.parameters(), lr=LR)\n",
    "scheduler = torch.optim.lr_scheduler.CosineAnnealingLR(optimizer=optimizer, T_max=EPOCHS)"
   ]
  },
  {
   "cell_type": "code",
   "execution_count": 11,
   "id": "77d3bb9c",
   "metadata": {},
   "outputs": [],
   "source": [
    "def trainEpoch(device, model, loader, optimizer, criterion):\n",
    "    loop = tqdm(loader)\n",
    "    model.train()\n",
    "    \n",
    "    losses = []\n",
    "    correct = 0\n",
    "    total = 0\n",
    "    \n",
    "    for batch_id, (images, labels) in enumerate(loop):\n",
    "        images, labels=images.to(device), labels.to(device)\n",
    "        model = model.to(device)\n",
    "        \n",
    "        outputs = model(images)\n",
    "        \n",
    "        _, predicted = torch.max(outputs, 1)\n",
    "        total += labels.size(0)\n",
    "        batch_correct = (predicted==labels).sum().item()\n",
    "        batch_acc = 100*batch_correct/labels.size(0)\n",
    "        correct += batch_correct\n",
    "        \n",
    "        loss = criterion(outputs, labels)\n",
    "        losses.append(loss.item())\n",
    "        \n",
    "        optimizer.zero_grad()\n",
    "        loss.backward()\n",
    "        optimizer.step()\n",
    "        loop.set_postfix(train_loss = loss.item(), train_accuracy = batch_acc)\n",
    "        \n",
    "    return np.mean(losses), 100*correct/total\n",
    "\n",
    "def testEpoch(device, model, loader, criterion):\n",
    "    model.eval()\n",
    "    with torch.no_grad():\n",
    "        losses = []\n",
    "        correct = 0\n",
    "        total = 0\n",
    "        \n",
    "        loop = tqdm(loader)\n",
    "        for batch_id, (images, labels) in enumerate(loop):\n",
    "            images, labels = images.to(device), labels.to(device)\n",
    "            model = model.to(device)\n",
    "            \n",
    "            outputs = model(images)\n",
    "            \n",
    "            _, predicted = torch.max(outputs, 1)\n",
    "            total += labels.size(0)\n",
    "            batch_correct = (predicted==labels).sum().item()\n",
    "            batch_acc = 100*batch_correct/labels.size(0)\n",
    "            correct += batch_correct\n",
    "            \n",
    "            loss = criterion(outputs, labels)\n",
    "            losses.append(loss.item())\n",
    "            loop.set_postfix(test_loss = loss.item(), test_accuracy = batch_acc)\n",
    "        return np.mean(losses), 100*correct/total"
   ]
  },
  {
   "cell_type": "code",
   "execution_count": 12,
   "id": "9266f475",
   "metadata": {},
   "outputs": [
    {
     "name": "stderr",
     "output_type": "stream",
     "text": [
      "  0%|          | 0/3125 [00:00<?, ?it/s]100%|██████████| 3125/3125 [06:07<00:00,  8.51it/s, train_accuracy=56.2, train_loss=1.43] \n",
      "100%|██████████| 625/625 [00:31<00:00, 19.88it/s, test_accuracy=43.8, test_loss=1.33]\n"
     ]
    },
    {
     "name": "stdout",
     "output_type": "stream",
     "text": [
      "Saving new Best Model!\n",
      "Epoch-1 Train Loss: 1.9678 Train Accuracy: 26.2740\n",
      "Epoch-1 Test Loss: 1.7214 Test Accuracy: 38.2300\n"
     ]
    },
    {
     "name": "stderr",
     "output_type": "stream",
     "text": [
      "100%|██████████| 3125/3125 [06:29<00:00,  8.02it/s, train_accuracy=62.5, train_loss=1.07] \n",
      "100%|██████████| 625/625 [00:26<00:00, 23.88it/s, test_accuracy=68.8, test_loss=1.12] \n"
     ]
    },
    {
     "name": "stdout",
     "output_type": "stream",
     "text": [
      "Saving new Best Model!\n",
      "Epoch-2 Train Loss: 1.5329 Train Accuracy: 44.0200\n",
      "Epoch-2 Test Loss: 1.1855 Test Accuracy: 57.8900\n"
     ]
    },
    {
     "name": "stderr",
     "output_type": "stream",
     "text": [
      "100%|██████████| 3125/3125 [06:11<00:00,  8.42it/s, train_accuracy=75, train_loss=0.791]  \n",
      "100%|██████████| 625/625 [00:24<00:00, 25.41it/s, test_accuracy=75, test_loss=0.826]  \n"
     ]
    },
    {
     "name": "stdout",
     "output_type": "stream",
     "text": [
      "Saving new Best Model!\n",
      "Epoch-3 Train Loss: 1.1533 Train Accuracy: 59.1840\n",
      "Epoch-3 Test Loss: 0.9412 Test Accuracy: 67.5100\n"
     ]
    },
    {
     "name": "stderr",
     "output_type": "stream",
     "text": [
      "100%|██████████| 3125/3125 [06:06<00:00,  8.54it/s, train_accuracy=87.5, train_loss=0.448]\n",
      "100%|██████████| 625/625 [00:27<00:00, 22.35it/s, test_accuracy=62.5, test_loss=0.857]\n"
     ]
    },
    {
     "name": "stdout",
     "output_type": "stream",
     "text": [
      "Saving new Best Model!\n",
      "Epoch-4 Train Loss: 0.9506 Train Accuracy: 67.1600\n",
      "Epoch-4 Test Loss: 0.7715 Test Accuracy: 73.1600\n"
     ]
    },
    {
     "name": "stderr",
     "output_type": "stream",
     "text": [
      "100%|██████████| 3125/3125 [06:25<00:00,  8.10it/s, train_accuracy=68.8, train_loss=0.642]\n",
      "100%|██████████| 625/625 [00:23<00:00, 27.17it/s, test_accuracy=68.8, test_loss=0.827]\n"
     ]
    },
    {
     "name": "stdout",
     "output_type": "stream",
     "text": [
      "Saving new Best Model!\n",
      "Epoch-5 Train Loss: 0.8048 Train Accuracy: 72.2020\n",
      "Epoch-5 Test Loss: 0.7092 Test Accuracy: 75.7700\n"
     ]
    },
    {
     "name": "stderr",
     "output_type": "stream",
     "text": [
      "100%|██████████| 3125/3125 [06:00<00:00,  8.66it/s, train_accuracy=68.8, train_loss=0.989]\n",
      "100%|██████████| 625/625 [00:24<00:00, 25.69it/s, test_accuracy=68.8, test_loss=0.632]\n"
     ]
    },
    {
     "name": "stdout",
     "output_type": "stream",
     "text": [
      "Saving new Best Model!\n",
      "Epoch-6 Train Loss: 0.7168 Train Accuracy: 75.5520\n",
      "Epoch-6 Test Loss: 0.6410 Test Accuracy: 77.6600\n"
     ]
    },
    {
     "name": "stderr",
     "output_type": "stream",
     "text": [
      "100%|██████████| 3125/3125 [06:15<00:00,  8.33it/s, train_accuracy=62.5, train_loss=0.961] \n",
      "100%|██████████| 625/625 [00:30<00:00, 20.66it/s, test_accuracy=93.8, test_loss=0.171]\n"
     ]
    },
    {
     "name": "stdout",
     "output_type": "stream",
     "text": [
      "Saving new Best Model!\n",
      "Epoch-7 Train Loss: 0.6358 Train Accuracy: 78.3440\n",
      "Epoch-7 Test Loss: 0.5736 Test Accuracy: 80.2700\n"
     ]
    },
    {
     "name": "stderr",
     "output_type": "stream",
     "text": [
      "100%|██████████| 3125/3125 [06:10<00:00,  8.43it/s, train_accuracy=75, train_loss=0.494]   \n",
      "100%|██████████| 625/625 [00:26<00:00, 23.55it/s, test_accuracy=68.8, test_loss=0.659]\n"
     ]
    },
    {
     "name": "stdout",
     "output_type": "stream",
     "text": [
      "Saving new Best Model!\n",
      "Epoch-8 Train Loss: 0.5739 Train Accuracy: 80.6440\n",
      "Epoch-8 Test Loss: 0.5590 Test Accuracy: 81.0600\n"
     ]
    },
    {
     "name": "stderr",
     "output_type": "stream",
     "text": [
      "100%|██████████| 3125/3125 [06:00<00:00,  8.67it/s, train_accuracy=87.5, train_loss=0.403]\n",
      "100%|██████████| 625/625 [00:24<00:00, 25.50it/s, test_accuracy=81.2, test_loss=0.412]\n"
     ]
    },
    {
     "name": "stdout",
     "output_type": "stream",
     "text": [
      "Saving new Best Model!\n",
      "Epoch-9 Train Loss: 0.5156 Train Accuracy: 82.5340\n",
      "Epoch-9 Test Loss: 0.5339 Test Accuracy: 81.8700\n"
     ]
    },
    {
     "name": "stderr",
     "output_type": "stream",
     "text": [
      "100%|██████████| 3125/3125 [06:13<00:00,  8.38it/s, train_accuracy=87.5, train_loss=0.381] \n",
      "100%|██████████| 625/625 [00:36<00:00, 17.00it/s, test_accuracy=75, test_loss=0.507]  \n"
     ]
    },
    {
     "name": "stdout",
     "output_type": "stream",
     "text": [
      "Epoch-10 Train Loss: 0.4695 Train Accuracy: 84.1300\n",
      "Epoch-10 Test Loss: 0.5365 Test Accuracy: 81.8100\n"
     ]
    },
    {
     "name": "stderr",
     "output_type": "stream",
     "text": [
      "100%|██████████| 3125/3125 [06:21<00:00,  8.18it/s, train_accuracy=87.5, train_loss=0.383] \n",
      "100%|██████████| 625/625 [00:24<00:00, 25.47it/s, test_accuracy=87.5, test_loss=0.469] \n"
     ]
    },
    {
     "name": "stdout",
     "output_type": "stream",
     "text": [
      "Saving new Best Model!\n",
      "Epoch-11 Train Loss: 0.4274 Train Accuracy: 85.6120\n",
      "Epoch-11 Test Loss: 0.5027 Test Accuracy: 83.0600\n"
     ]
    },
    {
     "name": "stderr",
     "output_type": "stream",
     "text": [
      "100%|██████████| 3125/3125 [06:01<00:00,  8.64it/s, train_accuracy=75, train_loss=0.568]   \n",
      "100%|██████████| 625/625 [00:25<00:00, 24.40it/s, test_accuracy=81.2, test_loss=0.666] \n"
     ]
    },
    {
     "name": "stdout",
     "output_type": "stream",
     "text": [
      "Saving new Best Model!\n",
      "Epoch-12 Train Loss: 0.3719 Train Accuracy: 87.3040\n",
      "Epoch-12 Test Loss: 0.4713 Test Accuracy: 84.4900\n"
     ]
    },
    {
     "name": "stderr",
     "output_type": "stream",
     "text": [
      "100%|██████████| 3125/3125 [06:22<00:00,  8.18it/s, train_accuracy=87.5, train_loss=0.464] \n",
      "100%|██████████| 625/625 [00:28<00:00, 22.09it/s, test_accuracy=81.2, test_loss=0.306] \n"
     ]
    },
    {
     "name": "stdout",
     "output_type": "stream",
     "text": [
      "Epoch-13 Train Loss: 0.3681 Train Accuracy: 87.7420\n",
      "Epoch-13 Test Loss: 0.4777 Test Accuracy: 84.4300\n"
     ]
    },
    {
     "name": "stderr",
     "output_type": "stream",
     "text": [
      "100%|██████████| 3125/3125 [06:08<00:00,  8.48it/s, train_accuracy=93.8, train_loss=0.131] \n",
      "100%|██████████| 625/625 [00:24<00:00, 25.47it/s, test_accuracy=81.2, test_loss=0.522] \n"
     ]
    },
    {
     "name": "stdout",
     "output_type": "stream",
     "text": [
      "Saving new Best Model!\n",
      "Epoch-14 Train Loss: 0.3247 Train Accuracy: 88.9480\n",
      "Epoch-14 Test Loss: 0.4703 Test Accuracy: 84.7400\n"
     ]
    },
    {
     "name": "stderr",
     "output_type": "stream",
     "text": [
      "100%|██████████| 3125/3125 [05:57<00:00,  8.73it/s, train_accuracy=93.8, train_loss=0.205] \n",
      "100%|██████████| 625/625 [00:25<00:00, 24.30it/s, test_accuracy=100, test_loss=0.0418] \n"
     ]
    },
    {
     "name": "stdout",
     "output_type": "stream",
     "text": [
      "Epoch-15 Train Loss: 0.3139 Train Accuracy: 89.3320\n",
      "Epoch-15 Test Loss: 0.4804 Test Accuracy: 84.3200\n"
     ]
    },
    {
     "name": "stderr",
     "output_type": "stream",
     "text": [
      "100%|██████████| 3125/3125 [06:34<00:00,  7.92it/s, train_accuracy=81.2, train_loss=0.238] \n",
      "100%|██████████| 625/625 [00:29<00:00, 20.99it/s, test_accuracy=75, test_loss=1.01]    \n"
     ]
    },
    {
     "name": "stdout",
     "output_type": "stream",
     "text": [
      "Saving new Best Model!\n",
      "Epoch-16 Train Loss: 0.2666 Train Accuracy: 90.9980\n",
      "Epoch-16 Test Loss: 0.4866 Test Accuracy: 85.6500\n"
     ]
    },
    {
     "name": "stderr",
     "output_type": "stream",
     "text": [
      "100%|██████████| 3125/3125 [05:57<00:00,  8.73it/s, train_accuracy=93.8, train_loss=0.167]  \n",
      "100%|██████████| 625/625 [00:21<00:00, 28.86it/s, test_accuracy=81.2, test_loss=0.816] \n"
     ]
    },
    {
     "name": "stdout",
     "output_type": "stream",
     "text": [
      "Epoch-17 Train Loss: 0.2464 Train Accuracy: 91.4560\n",
      "Epoch-17 Test Loss: 0.4985 Test Accuracy: 85.6200\n"
     ]
    },
    {
     "name": "stderr",
     "output_type": "stream",
     "text": [
      "100%|██████████| 3125/3125 [05:49<00:00,  8.95it/s, train_accuracy=100, train_loss=0.0472]  \n",
      "100%|██████████| 625/625 [00:30<00:00, 20.76it/s, test_accuracy=81.2, test_loss=0.642] \n"
     ]
    },
    {
     "name": "stdout",
     "output_type": "stream",
     "text": [
      "Epoch-18 Train Loss: 0.2273 Train Accuracy: 92.3520\n",
      "Epoch-18 Test Loss: 0.4858 Test Accuracy: 84.9700\n"
     ]
    },
    {
     "name": "stderr",
     "output_type": "stream",
     "text": [
      "100%|██████████| 3125/3125 [06:06<00:00,  8.53it/s, train_accuracy=87.5, train_loss=0.436]  \n",
      "100%|██████████| 625/625 [00:23<00:00, 26.23it/s, test_accuracy=87.5, test_loss=0.646] \n"
     ]
    },
    {
     "name": "stdout",
     "output_type": "stream",
     "text": [
      "Saving new Best Model!\n",
      "Epoch-19 Train Loss: 0.2037 Train Accuracy: 93.1720\n",
      "Epoch-19 Test Loss: 0.4893 Test Accuracy: 85.7300\n"
     ]
    },
    {
     "name": "stderr",
     "output_type": "stream",
     "text": [
      "100%|██████████| 3125/3125 [06:03<00:00,  8.59it/s, train_accuracy=93.8, train_loss=0.132]  \n",
      "100%|██████████| 625/625 [00:24<00:00, 25.11it/s, test_accuracy=81.2, test_loss=0.307] \n"
     ]
    },
    {
     "name": "stdout",
     "output_type": "stream",
     "text": [
      "Epoch-20 Train Loss: 0.1979 Train Accuracy: 93.3740\n",
      "Epoch-20 Test Loss: 0.5055 Test Accuracy: 85.0500\n"
     ]
    },
    {
     "name": "stderr",
     "output_type": "stream",
     "text": [
      "100%|██████████| 3125/3125 [06:26<00:00,  8.08it/s, train_accuracy=93.8, train_loss=0.33]   \n",
      "100%|██████████| 625/625 [00:24<00:00, 25.69it/s, test_accuracy=100, test_loss=0.0928]  \n"
     ]
    },
    {
     "name": "stdout",
     "output_type": "stream",
     "text": [
      "Saving new Best Model!\n",
      "Epoch-21 Train Loss: 0.1723 Train Accuracy: 94.1900\n",
      "Epoch-21 Test Loss: 0.5221 Test Accuracy: 85.9900\n"
     ]
    },
    {
     "name": "stderr",
     "output_type": "stream",
     "text": [
      "100%|██████████| 3125/3125 [06:03<00:00,  8.59it/s, train_accuracy=93.8, train_loss=0.171]  \n",
      "100%|██████████| 625/625 [00:26<00:00, 23.18it/s, test_accuracy=87.5, test_loss=1.22]   \n"
     ]
    },
    {
     "name": "stdout",
     "output_type": "stream",
     "text": [
      "Epoch-22 Train Loss: 0.1692 Train Accuracy: 94.4440\n",
      "Epoch-22 Test Loss: 0.5241 Test Accuracy: 85.6500\n"
     ]
    },
    {
     "name": "stderr",
     "output_type": "stream",
     "text": [
      "100%|██████████| 3125/3125 [05:58<00:00,  8.71it/s, train_accuracy=81.2, train_loss=0.496]  \n",
      "100%|██████████| 625/625 [00:25<00:00, 24.32it/s, test_accuracy=93.8, test_loss=0.0846] \n"
     ]
    },
    {
     "name": "stdout",
     "output_type": "stream",
     "text": [
      "Saving new Best Model!\n",
      "Epoch-23 Train Loss: 0.1451 Train Accuracy: 95.2300\n",
      "Epoch-23 Test Loss: 0.5221 Test Accuracy: 86.0700\n"
     ]
    },
    {
     "name": "stderr",
     "output_type": "stream",
     "text": [
      "100%|██████████| 3125/3125 [06:37<00:00,  7.87it/s, train_accuracy=81.2, train_loss=0.354]  \n",
      "100%|██████████| 625/625 [00:23<00:00, 26.78it/s, test_accuracy=93.8, test_loss=0.214] \n"
     ]
    },
    {
     "name": "stdout",
     "output_type": "stream",
     "text": [
      "Epoch-24 Train Loss: 0.1314 Train Accuracy: 95.6300\n",
      "Epoch-24 Test Loss: 0.5654 Test Accuracy: 85.6300\n"
     ]
    },
    {
     "name": "stderr",
     "output_type": "stream",
     "text": [
      "100%|██████████| 3125/3125 [05:59<00:00,  8.69it/s, train_accuracy=100, train_loss=0.0123]  \n",
      "100%|██████████| 625/625 [00:25<00:00, 24.28it/s, test_accuracy=68.8, test_loss=1.38]  \n"
     ]
    },
    {
     "name": "stdout",
     "output_type": "stream",
     "text": [
      "Saving new Best Model!\n",
      "Epoch-25 Train Loss: 0.1501 Train Accuracy: 95.2440\n",
      "Epoch-25 Test Loss: 0.5334 Test Accuracy: 86.4300\n"
     ]
    },
    {
     "name": "stderr",
     "output_type": "stream",
     "text": [
      "100%|██████████| 3125/3125 [06:03<00:00,  8.59it/s, train_accuracy=93.8, train_loss=0.35]   \n",
      "100%|██████████| 625/625 [00:32<00:00, 19.03it/s, test_accuracy=100, test_loss=0.127]  \n"
     ]
    },
    {
     "name": "stdout",
     "output_type": "stream",
     "text": [
      "Saving new Best Model!\n",
      "Epoch-26 Train Loss: 0.1072 Train Accuracy: 96.5120\n",
      "Epoch-26 Test Loss: 0.5894 Test Accuracy: 86.4300\n"
     ]
    },
    {
     "name": "stderr",
     "output_type": "stream",
     "text": [
      "100%|██████████| 3125/3125 [06:16<00:00,  8.30it/s, train_accuracy=87.5, train_loss=0.227]  \n",
      "100%|██████████| 625/625 [00:24<00:00, 26.04it/s, test_accuracy=81.2, test_loss=0.607]  \n"
     ]
    },
    {
     "name": "stdout",
     "output_type": "stream",
     "text": [
      "Epoch-27 Train Loss: 0.1063 Train Accuracy: 96.5040\n",
      "Epoch-27 Test Loss: 0.6463 Test Accuracy: 84.8300\n"
     ]
    },
    {
     "name": "stderr",
     "output_type": "stream",
     "text": [
      "100%|██████████| 3125/3125 [06:07<00:00,  8.49it/s, train_accuracy=87.5, train_loss=0.256]  \n",
      "100%|██████████| 625/625 [00:25<00:00, 24.39it/s, test_accuracy=93.8, test_loss=0.332]  \n"
     ]
    },
    {
     "name": "stdout",
     "output_type": "stream",
     "text": [
      "Epoch-28 Train Loss: 0.1028 Train Accuracy: 96.6800\n",
      "Epoch-28 Test Loss: 0.5660 Test Accuracy: 85.8500\n"
     ]
    },
    {
     "name": "stderr",
     "output_type": "stream",
     "text": [
      "100%|██████████| 3125/3125 [06:11<00:00,  8.41it/s, train_accuracy=100, train_loss=0.0759]  \n",
      "100%|██████████| 625/625 [00:30<00:00, 20.27it/s, test_accuracy=87.5, test_loss=0.728] \n"
     ]
    },
    {
     "name": "stdout",
     "output_type": "stream",
     "text": [
      "Epoch-29 Train Loss: 0.2021 Train Accuracy: 95.4520\n",
      "Epoch-29 Test Loss: 0.5398 Test Accuracy: 84.4400\n"
     ]
    },
    {
     "name": "stderr",
     "output_type": "stream",
     "text": [
      "100%|██████████| 3125/3125 [06:26<00:00,  8.08it/s, train_accuracy=100, train_loss=0.0121]  \n",
      "100%|██████████| 625/625 [00:25<00:00, 24.99it/s, test_accuracy=93.8, test_loss=0.589]  \n"
     ]
    },
    {
     "name": "stdout",
     "output_type": "stream",
     "text": [
      "Saving new Best Model!\n",
      "Epoch-30 Train Loss: 0.1486 Train Accuracy: 95.3880\n",
      "Epoch-30 Test Loss: 0.5853 Test Accuracy: 87.0800\n"
     ]
    },
    {
     "name": "stderr",
     "output_type": "stream",
     "text": [
      "100%|██████████| 3125/3125 [06:13<00:00,  8.37it/s, train_accuracy=93.8, train_loss=0.159]  \n",
      "100%|██████████| 625/625 [00:26<00:00, 23.22it/s, test_accuracy=100, test_loss=0.0735]  \n"
     ]
    },
    {
     "name": "stdout",
     "output_type": "stream",
     "text": [
      "Epoch-31 Train Loss: 0.0875 Train Accuracy: 97.1400\n",
      "Epoch-31 Test Loss: 0.5977 Test Accuracy: 86.8300\n"
     ]
    },
    {
     "name": "stderr",
     "output_type": "stream",
     "text": [
      "100%|██████████| 3125/3125 [06:15<00:00,  8.32it/s, train_accuracy=100, train_loss=0.00192] \n",
      "100%|██████████| 625/625 [00:28<00:00, 22.18it/s, test_accuracy=87.5, test_loss=0.617] \n"
     ]
    },
    {
     "name": "stdout",
     "output_type": "stream",
     "text": [
      "Epoch-32 Train Loss: 0.0817 Train Accuracy: 97.3640\n",
      "Epoch-32 Test Loss: 0.6867 Test Accuracy: 86.1200\n"
     ]
    },
    {
     "name": "stderr",
     "output_type": "stream",
     "text": [
      "100%|██████████| 3125/3125 [06:14<00:00,  8.34it/s, train_accuracy=100, train_loss=0.0264]  \n",
      "100%|██████████| 625/625 [00:24<00:00, 25.36it/s, test_accuracy=81.2, test_loss=0.571] \n"
     ]
    },
    {
     "name": "stdout",
     "output_type": "stream",
     "text": [
      "Epoch-33 Train Loss: 0.0836 Train Accuracy: 97.3460\n",
      "Epoch-33 Test Loss: 0.5986 Test Accuracy: 86.5500\n"
     ]
    },
    {
     "name": "stderr",
     "output_type": "stream",
     "text": [
      "100%|██████████| 3125/3125 [05:56<00:00,  8.75it/s, train_accuracy=93.8, train_loss=0.174]  \n",
      "100%|██████████| 625/625 [00:24<00:00, 25.29it/s, test_accuracy=62.5, test_loss=1.91]  \n"
     ]
    },
    {
     "name": "stdout",
     "output_type": "stream",
     "text": [
      "Epoch-34 Train Loss: 0.2187 Train Accuracy: 94.4600\n",
      "Epoch-34 Test Loss: 0.5581 Test Accuracy: 86.2700\n"
     ]
    },
    {
     "name": "stderr",
     "output_type": "stream",
     "text": [
      "100%|██████████| 3125/3125 [06:19<00:00,  8.24it/s, train_accuracy=100, train_loss=0.0552]  \n",
      "100%|██████████| 625/625 [00:29<00:00, 21.03it/s, test_accuracy=93.8, test_loss=0.159]  \n"
     ]
    },
    {
     "name": "stdout",
     "output_type": "stream",
     "text": [
      "Epoch-35 Train Loss: 0.1058 Train Accuracy: 96.6140\n",
      "Epoch-35 Test Loss: 0.6012 Test Accuracy: 86.9500\n"
     ]
    },
    {
     "name": "stderr",
     "output_type": "stream",
     "text": [
      "100%|██████████| 3125/3125 [06:09<00:00,  8.45it/s, train_accuracy=93.8, train_loss=0.212]  \n",
      "100%|██████████| 625/625 [00:26<00:00, 23.52it/s, test_accuracy=93.8, test_loss=0.437]  \n"
     ]
    },
    {
     "name": "stdout",
     "output_type": "stream",
     "text": [
      "Saving new Best Model!\n",
      "Epoch-36 Train Loss: 0.0912 Train Accuracy: 97.2380\n",
      "Epoch-36 Test Loss: 0.5723 Test Accuracy: 87.1000\n"
     ]
    },
    {
     "name": "stderr",
     "output_type": "stream",
     "text": [
      "100%|██████████| 3125/3125 [06:00<00:00,  8.67it/s, train_accuracy=100, train_loss=0.0518]  \n",
      "100%|██████████| 625/625 [00:24<00:00, 25.05it/s, test_accuracy=93.8, test_loss=0.234]  \n"
     ]
    },
    {
     "name": "stdout",
     "output_type": "stream",
     "text": [
      "Epoch-37 Train Loss: 0.0958 Train Accuracy: 97.1480\n",
      "Epoch-37 Test Loss: 0.5759 Test Accuracy: 86.7900\n"
     ]
    },
    {
     "name": "stderr",
     "output_type": "stream",
     "text": [
      "100%|██████████| 3125/3125 [06:16<00:00,  8.29it/s, train_accuracy=93.8, train_loss=0.0653] \n",
      "100%|██████████| 625/625 [00:30<00:00, 20.76it/s, test_accuracy=87.5, test_loss=0.774]  \n"
     ]
    },
    {
     "name": "stdout",
     "output_type": "stream",
     "text": [
      "Epoch-38 Train Loss: 0.0844 Train Accuracy: 97.4020\n",
      "Epoch-38 Test Loss: 0.6329 Test Accuracy: 86.6900\n"
     ]
    },
    {
     "name": "stderr",
     "output_type": "stream",
     "text": [
      "100%|██████████| 3125/3125 [06:11<00:00,  8.42it/s, train_accuracy=100, train_loss=0.0158]  \n",
      "100%|██████████| 625/625 [00:26<00:00, 23.77it/s, test_accuracy=81.2, test_loss=0.266]  \n"
     ]
    },
    {
     "name": "stdout",
     "output_type": "stream",
     "text": [
      "Epoch-39 Train Loss: 0.0754 Train Accuracy: 97.6480\n",
      "Epoch-39 Test Loss: 0.5910 Test Accuracy: 86.7400\n"
     ]
    },
    {
     "name": "stderr",
     "output_type": "stream",
     "text": [
      "100%|██████████| 3125/3125 [06:01<00:00,  8.65it/s, train_accuracy=93.8, train_loss=0.131]  \n",
      "100%|██████████| 625/625 [00:27<00:00, 22.80it/s, test_accuracy=87.5, test_loss=0.8]   \n"
     ]
    },
    {
     "name": "stdout",
     "output_type": "stream",
     "text": [
      "Epoch-40 Train Loss: 0.0648 Train Accuracy: 97.9840\n",
      "Epoch-40 Test Loss: 0.8676 Test Accuracy: 85.4100\n"
     ]
    },
    {
     "name": "stderr",
     "output_type": "stream",
     "text": [
      "100%|██████████| 3125/3125 [06:29<00:00,  8.02it/s, train_accuracy=100, train_loss=0.0004]  \n",
      "100%|██████████| 625/625 [00:27<00:00, 22.97it/s, test_accuracy=93.8, test_loss=0.128]  \n"
     ]
    },
    {
     "name": "stdout",
     "output_type": "stream",
     "text": [
      "Epoch-41 Train Loss: 0.0646 Train Accuracy: 98.0620\n",
      "Epoch-41 Test Loss: 0.6587 Test Accuracy: 86.9300\n"
     ]
    },
    {
     "name": "stderr",
     "output_type": "stream",
     "text": [
      "100%|██████████| 3125/3125 [06:02<00:00,  8.62it/s, train_accuracy=93.8, train_loss=0.219]  \n",
      "100%|██████████| 625/625 [00:26<00:00, 23.57it/s, test_accuracy=75, test_loss=1.86]     \n"
     ]
    },
    {
     "name": "stdout",
     "output_type": "stream",
     "text": [
      "Epoch-42 Train Loss: 0.0527 Train Accuracy: 98.3720\n",
      "Epoch-42 Test Loss: 0.6054 Test Accuracy: 86.9100\n"
     ]
    },
    {
     "name": "stderr",
     "output_type": "stream",
     "text": [
      "100%|██████████| 3125/3125 [06:00<00:00,  8.66it/s, train_accuracy=100, train_loss=4.22e-5] \n",
      "100%|██████████| 625/625 [00:24<00:00, 25.51it/s, test_accuracy=87.5, test_loss=0.434]  \n"
     ]
    },
    {
     "name": "stdout",
     "output_type": "stream",
     "text": [
      "Epoch-43 Train Loss: 0.0493 Train Accuracy: 98.4420\n",
      "Epoch-43 Test Loss: 0.7728 Test Accuracy: 86.7600\n"
     ]
    },
    {
     "name": "stderr",
     "output_type": "stream",
     "text": [
      "100%|██████████| 3125/3125 [06:41<00:00,  7.79it/s, train_accuracy=93.8, train_loss=0.152]  \n",
      "100%|██████████| 625/625 [00:25<00:00, 24.99it/s, test_accuracy=75, test_loss=1.33]     \n"
     ]
    },
    {
     "name": "stdout",
     "output_type": "stream",
     "text": [
      "Epoch-44 Train Loss: 0.0513 Train Accuracy: 98.3860\n",
      "Epoch-44 Test Loss: 0.8113 Test Accuracy: 86.7900\n"
     ]
    },
    {
     "name": "stderr",
     "output_type": "stream",
     "text": [
      "100%|██████████| 3125/3125 [05:57<00:00,  8.73it/s, train_accuracy=100, train_loss=0.00519] \n",
      "100%|██████████| 625/625 [00:25<00:00, 24.93it/s, test_accuracy=81.2, test_loss=0.601] \n"
     ]
    },
    {
     "name": "stdout",
     "output_type": "stream",
     "text": [
      "Saving new Best Model!\n",
      "Epoch-45 Train Loss: 0.0717 Train Accuracy: 97.9940\n",
      "Epoch-45 Test Loss: 0.6902 Test Accuracy: 87.1500\n"
     ]
    },
    {
     "name": "stderr",
     "output_type": "stream",
     "text": [
      "100%|██████████| 3125/3125 [06:05<00:00,  8.55it/s, train_accuracy=100, train_loss=0.00984] \n",
      "100%|██████████| 625/625 [00:24<00:00, 25.84it/s, test_accuracy=93.8, test_loss=0.43]   \n"
     ]
    },
    {
     "name": "stdout",
     "output_type": "stream",
     "text": [
      "Epoch-46 Train Loss: 0.0524 Train Accuracy: 98.4920\n",
      "Epoch-46 Test Loss: 0.8439 Test Accuracy: 86.1200\n"
     ]
    },
    {
     "name": "stderr",
     "output_type": "stream",
     "text": [
      "100%|██████████| 3125/3125 [06:21<00:00,  8.20it/s, train_accuracy=100, train_loss=0.000348]\n",
      "100%|██████████| 625/625 [00:24<00:00, 25.47it/s, test_accuracy=87.5, test_loss=0.444]  \n"
     ]
    },
    {
     "name": "stdout",
     "output_type": "stream",
     "text": [
      "Saving new Best Model!\n",
      "Epoch-47 Train Loss: 0.0511 Train Accuracy: 98.4400\n",
      "Epoch-47 Test Loss: 0.7988 Test Accuracy: 87.1900\n"
     ]
    },
    {
     "name": "stderr",
     "output_type": "stream",
     "text": [
      "100%|██████████| 3125/3125 [06:04<00:00,  8.56it/s, train_accuracy=100, train_loss=0.00013] \n",
      "100%|██████████| 625/625 [00:26<00:00, 23.95it/s, test_accuracy=100, test_loss=0.0425]  \n"
     ]
    },
    {
     "name": "stdout",
     "output_type": "stream",
     "text": [
      "Saving new Best Model!\n",
      "Epoch-48 Train Loss: 0.0499 Train Accuracy: 98.5000\n",
      "Epoch-48 Test Loss: 0.8578 Test Accuracy: 87.2600\n"
     ]
    },
    {
     "name": "stderr",
     "output_type": "stream",
     "text": [
      "100%|██████████| 3125/3125 [06:06<00:00,  8.53it/s, train_accuracy=100, train_loss=2.54e-5] \n",
      "100%|██████████| 625/625 [00:34<00:00, 17.94it/s, test_accuracy=100, test_loss=0.000385]\n"
     ]
    },
    {
     "name": "stdout",
     "output_type": "stream",
     "text": [
      "Epoch-49 Train Loss: 0.0392 Train Accuracy: 98.8700\n",
      "Epoch-49 Test Loss: 0.7805 Test Accuracy: 87.1400\n"
     ]
    },
    {
     "name": "stderr",
     "output_type": "stream",
     "text": [
      "100%|██████████| 3125/3125 [06:29<00:00,  8.03it/s, train_accuracy=100, train_loss=0.000408]\n",
      "100%|██████████| 625/625 [00:24<00:00, 25.02it/s, test_accuracy=100, test_loss=0.00154] \n"
     ]
    },
    {
     "name": "stdout",
     "output_type": "stream",
     "text": [
      "Epoch-50 Train Loss: 0.9378 Train Accuracy: 97.9520\n",
      "Epoch-50 Test Loss: 0.6225 Test Accuracy: 87.0900\n"
     ]
    },
    {
     "name": "stderr",
     "output_type": "stream",
     "text": [
      "100%|██████████| 3125/3125 [05:59<00:00,  8.70it/s, train_accuracy=100, train_loss=0.0131]  \n",
      "100%|██████████| 625/625 [00:27<00:00, 22.84it/s, test_accuracy=93.8, test_loss=0.2]    \n"
     ]
    },
    {
     "name": "stdout",
     "output_type": "stream",
     "text": [
      "Saving new Best Model!\n",
      "Epoch-51 Train Loss: 0.0360 Train Accuracy: 98.8500\n",
      "Epoch-51 Test Loss: 0.7514 Test Accuracy: 87.3800\n"
     ]
    },
    {
     "name": "stderr",
     "output_type": "stream",
     "text": [
      "100%|██████████| 3125/3125 [06:10<00:00,  8.43it/s, train_accuracy=100, train_loss=0.0105]  \n",
      "100%|██████████| 625/625 [00:29<00:00, 20.85it/s, test_accuracy=93.8, test_loss=0.4]    \n"
     ]
    },
    {
     "name": "stdout",
     "output_type": "stream",
     "text": [
      "Saving new Best Model!\n",
      "Epoch-52 Train Loss: 0.0263 Train Accuracy: 99.2500\n",
      "Epoch-52 Test Loss: 0.8086 Test Accuracy: 87.7600\n"
     ]
    },
    {
     "name": "stderr",
     "output_type": "stream",
     "text": [
      "100%|██████████| 3125/3125 [06:16<00:00,  8.30it/s, train_accuracy=93.8, train_loss=0.0825] \n",
      "100%|██████████| 625/625 [00:24<00:00, 25.72it/s, test_accuracy=93.8, test_loss=0.407]  \n"
     ]
    },
    {
     "name": "stdout",
     "output_type": "stream",
     "text": [
      "Epoch-53 Train Loss: 0.0299 Train Accuracy: 99.1320\n",
      "Epoch-53 Test Loss: 0.8542 Test Accuracy: 87.1200\n"
     ]
    },
    {
     "name": "stderr",
     "output_type": "stream",
     "text": [
      "100%|██████████| 3125/3125 [05:57<00:00,  8.74it/s, train_accuracy=100, train_loss=0.00175] \n",
      "100%|██████████| 625/625 [00:25<00:00, 24.98it/s, test_accuracy=93.8, test_loss=1.23]   \n"
     ]
    },
    {
     "name": "stdout",
     "output_type": "stream",
     "text": [
      "Epoch-54 Train Loss: 0.0290 Train Accuracy: 99.1260\n",
      "Epoch-54 Test Loss: 0.9855 Test Accuracy: 87.0600\n"
     ]
    },
    {
     "name": "stderr",
     "output_type": "stream",
     "text": [
      "100%|██████████| 3125/3125 [06:43<00:00,  7.75it/s, train_accuracy=100, train_loss=0.00668] \n",
      "100%|██████████| 625/625 [00:31<00:00, 19.58it/s, test_accuracy=93.8, test_loss=0.215]  \n"
     ]
    },
    {
     "name": "stdout",
     "output_type": "stream",
     "text": [
      "Epoch-55 Train Loss: 0.0366 Train Accuracy: 98.9320\n",
      "Epoch-55 Test Loss: 0.7735 Test Accuracy: 86.8000\n"
     ]
    },
    {
     "name": "stderr",
     "output_type": "stream",
     "text": [
      "100%|██████████| 3125/3125 [06:15<00:00,  8.31it/s, train_accuracy=100, train_loss=0.000312]\n",
      "100%|██████████| 625/625 [00:24<00:00, 25.75it/s, test_accuracy=75, test_loss=1.03]     \n"
     ]
    },
    {
     "name": "stdout",
     "output_type": "stream",
     "text": [
      "Epoch-56 Train Loss: 0.0349 Train Accuracy: 98.9260\n",
      "Epoch-56 Test Loss: 0.8331 Test Accuracy: 87.1200\n"
     ]
    },
    {
     "name": "stderr",
     "output_type": "stream",
     "text": [
      "100%|██████████| 3125/3125 [06:13<00:00,  8.37it/s, train_accuracy=100, train_loss=0.0299]  \n",
      "100%|██████████| 625/625 [00:26<00:00, 23.48it/s, test_accuracy=87.5, test_loss=1.34]   \n"
     ]
    },
    {
     "name": "stdout",
     "output_type": "stream",
     "text": [
      "Epoch-57 Train Loss: 0.0316 Train Accuracy: 99.1040\n",
      "Epoch-57 Test Loss: 0.7720 Test Accuracy: 87.3700\n"
     ]
    },
    {
     "name": "stderr",
     "output_type": "stream",
     "text": [
      "100%|██████████| 3125/3125 [06:18<00:00,  8.26it/s, train_accuracy=100, train_loss=5.96e-5] \n",
      "100%|██████████| 625/625 [00:34<00:00, 18.20it/s, test_accuracy=81.2, test_loss=0.762]  \n"
     ]
    },
    {
     "name": "stdout",
     "output_type": "stream",
     "text": [
      "Epoch-58 Train Loss: 0.0325 Train Accuracy: 99.0440\n",
      "Epoch-58 Test Loss: 0.7046 Test Accuracy: 87.2800\n"
     ]
    },
    {
     "name": "stderr",
     "output_type": "stream",
     "text": [
      "100%|██████████| 3125/3125 [06:32<00:00,  7.97it/s, train_accuracy=100, train_loss=0.000563]\n",
      "100%|██████████| 625/625 [00:25<00:00, 24.49it/s, test_accuracy=87.5, test_loss=0.536]  \n"
     ]
    },
    {
     "name": "stdout",
     "output_type": "stream",
     "text": [
      "Epoch-59 Train Loss: 0.0307 Train Accuracy: 99.1100\n",
      "Epoch-59 Test Loss: 0.8432 Test Accuracy: 86.9900\n"
     ]
    },
    {
     "name": "stderr",
     "output_type": "stream",
     "text": [
      "100%|██████████| 3125/3125 [06:00<00:00,  8.67it/s, train_accuracy=100, train_loss=0.00942] \n",
      "100%|██████████| 625/625 [00:25<00:00, 24.54it/s, test_accuracy=81.2, test_loss=0.788]  \n"
     ]
    },
    {
     "name": "stdout",
     "output_type": "stream",
     "text": [
      "Epoch-60 Train Loss: 0.0291 Train Accuracy: 99.1960\n",
      "Epoch-60 Test Loss: 0.9143 Test Accuracy: 86.6700\n"
     ]
    },
    {
     "name": "stderr",
     "output_type": "stream",
     "text": [
      "100%|██████████| 3125/3125 [06:15<00:00,  8.32it/s, train_accuracy=100, train_loss=4.33e-5] \n",
      "100%|██████████| 625/625 [00:28<00:00, 21.59it/s, test_accuracy=100, test_loss=0.000118]\n"
     ]
    },
    {
     "name": "stdout",
     "output_type": "stream",
     "text": [
      "Epoch-61 Train Loss: 0.0261 Train Accuracy: 99.2240\n",
      "Epoch-61 Test Loss: 0.8544 Test Accuracy: 87.3300\n"
     ]
    },
    {
     "name": "stderr",
     "output_type": "stream",
     "text": [
      "100%|██████████| 3125/3125 [06:07<00:00,  8.50it/s, train_accuracy=100, train_loss=0.000562]\n",
      "100%|██████████| 625/625 [00:26<00:00, 23.37it/s, test_accuracy=93.8, test_loss=0.264]  \n"
     ]
    },
    {
     "name": "stdout",
     "output_type": "stream",
     "text": [
      "Epoch-62 Train Loss: 0.0212 Train Accuracy: 99.3620\n",
      "Epoch-62 Test Loss: 0.9547 Test Accuracy: 87.5500\n"
     ]
    },
    {
     "name": "stderr",
     "output_type": "stream",
     "text": [
      "100%|██████████| 3125/3125 [06:01<00:00,  8.64it/s, train_accuracy=100, train_loss=4.97e-6] \n",
      "100%|██████████| 625/625 [00:24<00:00, 25.24it/s, test_accuracy=81.2, test_loss=0.954]  \n"
     ]
    },
    {
     "name": "stdout",
     "output_type": "stream",
     "text": [
      "Epoch-63 Train Loss: 0.0217 Train Accuracy: 99.3680\n",
      "Epoch-63 Test Loss: 0.8903 Test Accuracy: 87.5500\n"
     ]
    },
    {
     "name": "stderr",
     "output_type": "stream",
     "text": [
      "100%|██████████| 3125/3125 [06:22<00:00,  8.17it/s, train_accuracy=100, train_loss=0.000253]\n",
      "100%|██████████| 625/625 [00:38<00:00, 16.44it/s, test_accuracy=87.5, test_loss=0.186]  \n"
     ]
    },
    {
     "name": "stdout",
     "output_type": "stream",
     "text": [
      "Epoch-64 Train Loss: 0.0200 Train Accuracy: 99.3780\n",
      "Epoch-64 Test Loss: 0.8458 Test Accuracy: 87.2000\n"
     ]
    },
    {
     "name": "stderr",
     "output_type": "stream",
     "text": [
      "100%|██████████| 3125/3125 [06:13<00:00,  8.37it/s, train_accuracy=100, train_loss=0.045]   \n",
      "100%|██████████| 625/625 [00:25<00:00, 24.72it/s, test_accuracy=93.8, test_loss=0.873]  \n"
     ]
    },
    {
     "name": "stdout",
     "output_type": "stream",
     "text": [
      "Epoch-65 Train Loss: 0.0205 Train Accuracy: 99.4260\n",
      "Epoch-65 Test Loss: 1.0138 Test Accuracy: 87.1600\n"
     ]
    },
    {
     "name": "stderr",
     "output_type": "stream",
     "text": [
      "100%|██████████| 3125/3125 [06:08<00:00,  8.48it/s, train_accuracy=100, train_loss=7.12e-5] \n",
      "100%|██████████| 625/625 [00:23<00:00, 26.54it/s, test_accuracy=87.5, test_loss=0.389]  \n"
     ]
    },
    {
     "name": "stdout",
     "output_type": "stream",
     "text": [
      "Epoch-66 Train Loss: 0.0198 Train Accuracy: 99.4660\n",
      "Epoch-66 Test Loss: 1.2594 Test Accuracy: 87.3100\n"
     ]
    },
    {
     "name": "stderr",
     "output_type": "stream",
     "text": [
      "100%|██████████| 3125/3125 [06:20<00:00,  8.22it/s, train_accuracy=100, train_loss=0.0442]  \n",
      "100%|██████████| 625/625 [00:31<00:00, 19.90it/s, test_accuracy=81.2, test_loss=1.84]   \n"
     ]
    },
    {
     "name": "stdout",
     "output_type": "stream",
     "text": [
      "Epoch-67 Train Loss: 0.0177 Train Accuracy: 99.5320\n",
      "Epoch-67 Test Loss: 0.9573 Test Accuracy: 87.0900\n"
     ]
    },
    {
     "name": "stderr",
     "output_type": "stream",
     "text": [
      "100%|██████████| 3125/3125 [06:03<00:00,  8.59it/s, train_accuracy=100, train_loss=2.24e-7] \n",
      "100%|██████████| 625/625 [00:24<00:00, 25.87it/s, test_accuracy=87.5, test_loss=1.05]   \n"
     ]
    },
    {
     "name": "stdout",
     "output_type": "stream",
     "text": [
      "Epoch-68 Train Loss: 0.0148 Train Accuracy: 99.6020\n",
      "Epoch-68 Test Loss: 1.0143 Test Accuracy: 87.3900\n"
     ]
    },
    {
     "name": "stderr",
     "output_type": "stream",
     "text": [
      "100%|██████████| 3125/3125 [05:59<00:00,  8.70it/s, train_accuracy=100, train_loss=4.23e-6] \n",
      "100%|██████████| 625/625 [00:23<00:00, 26.23it/s, test_accuracy=81.2, test_loss=2.28]   \n"
     ]
    },
    {
     "name": "stdout",
     "output_type": "stream",
     "text": [
      "Epoch-69 Train Loss: 0.0154 Train Accuracy: 99.5680\n",
      "Epoch-69 Test Loss: 1.0768 Test Accuracy: 87.4800\n"
     ]
    },
    {
     "name": "stderr",
     "output_type": "stream",
     "text": [
      "100%|██████████| 3125/3125 [06:32<00:00,  7.97it/s, train_accuracy=93.8, train_loss=0.0904] \n",
      "100%|██████████| 625/625 [00:26<00:00, 23.56it/s, test_accuracy=93.8, test_loss=2.03]   \n"
     ]
    },
    {
     "name": "stdout",
     "output_type": "stream",
     "text": [
      "Epoch-70 Train Loss: 0.0148 Train Accuracy: 99.5820\n",
      "Epoch-70 Test Loss: 0.8223 Test Accuracy: 87.4400\n"
     ]
    },
    {
     "name": "stderr",
     "output_type": "stream",
     "text": [
      "100%|██████████| 3125/3125 [05:58<00:00,  8.72it/s, train_accuracy=100, train_loss=0.00351] \n",
      "100%|██████████| 625/625 [00:24<00:00, 25.08it/s, test_accuracy=81.2, test_loss=1.1]    \n"
     ]
    },
    {
     "name": "stdout",
     "output_type": "stream",
     "text": [
      "Epoch-71 Train Loss: 0.0125 Train Accuracy: 99.6360\n",
      "Epoch-71 Test Loss: 1.0215 Test Accuracy: 87.5000\n"
     ]
    },
    {
     "name": "stderr",
     "output_type": "stream",
     "text": [
      "100%|██████████| 3125/3125 [06:05<00:00,  8.56it/s, train_accuracy=100, train_loss=1.63e-5] \n",
      "100%|██████████| 625/625 [00:25<00:00, 24.14it/s, test_accuracy=93.8, test_loss=0.135]  \n"
     ]
    },
    {
     "name": "stdout",
     "output_type": "stream",
     "text": [
      "Epoch-72 Train Loss: 0.0145 Train Accuracy: 99.6340\n",
      "Epoch-72 Test Loss: 1.0682 Test Accuracy: 87.7400\n"
     ]
    },
    {
     "name": "stderr",
     "output_type": "stream",
     "text": [
      "100%|██████████| 3125/3125 [06:24<00:00,  8.12it/s, train_accuracy=100, train_loss=0.000107]\n",
      "100%|██████████| 625/625 [00:27<00:00, 23.10it/s, test_accuracy=87.5, test_loss=0.621]  \n"
     ]
    },
    {
     "name": "stdout",
     "output_type": "stream",
     "text": [
      "Epoch-73 Train Loss: 0.0118 Train Accuracy: 99.6680\n",
      "Epoch-73 Test Loss: 1.1522 Test Accuracy: 87.7400\n"
     ]
    },
    {
     "name": "stderr",
     "output_type": "stream",
     "text": [
      "100%|██████████| 3125/3125 [06:11<00:00,  8.42it/s, train_accuracy=100, train_loss=3.87e-7] \n",
      "100%|██████████| 625/625 [00:24<00:00, 25.84it/s, test_accuracy=81.2, test_loss=1.69]   \n"
     ]
    },
    {
     "name": "stdout",
     "output_type": "stream",
     "text": [
      "Saving new Best Model!\n",
      "Epoch-74 Train Loss: 0.0105 Train Accuracy: 99.7040\n",
      "Epoch-74 Test Loss: 1.1137 Test Accuracy: 87.8600\n"
     ]
    },
    {
     "name": "stderr",
     "output_type": "stream",
     "text": [
      "100%|██████████| 3125/3125 [06:07<00:00,  8.50it/s, train_accuracy=100, train_loss=0.000323]\n",
      "100%|██████████| 625/625 [00:29<00:00, 21.46it/s, test_accuracy=87.5, test_loss=0.239]  \n"
     ]
    },
    {
     "name": "stdout",
     "output_type": "stream",
     "text": [
      "Epoch-75 Train Loss: 0.0086 Train Accuracy: 99.7540\n",
      "Epoch-75 Test Loss: 0.8763 Test Accuracy: 87.1300\n"
     ]
    },
    {
     "name": "stderr",
     "output_type": "stream",
     "text": [
      "100%|██████████| 3125/3125 [06:17<00:00,  8.27it/s, train_accuracy=100, train_loss=3.58e-7] \n",
      "100%|██████████| 625/625 [00:24<00:00, 25.93it/s, test_accuracy=87.5, test_loss=0.38]   \n"
     ]
    },
    {
     "name": "stdout",
     "output_type": "stream",
     "text": [
      "Epoch-76 Train Loss: 0.0099 Train Accuracy: 99.7160\n",
      "Epoch-76 Test Loss: 1.1037 Test Accuracy: 87.6900\n"
     ]
    },
    {
     "name": "stderr",
     "output_type": "stream",
     "text": [
      "100%|██████████| 3125/3125 [06:05<00:00,  8.55it/s, train_accuracy=100, train_loss=3.13e-7] \n",
      "100%|██████████| 625/625 [00:23<00:00, 26.60it/s, test_accuracy=93.8, test_loss=0.451]  \n"
     ]
    },
    {
     "name": "stdout",
     "output_type": "stream",
     "text": [
      "Epoch-77 Train Loss: 0.0083 Train Accuracy: 99.7800\n",
      "Epoch-77 Test Loss: 1.1261 Test Accuracy: 87.8100\n"
     ]
    },
    {
     "name": "stderr",
     "output_type": "stream",
     "text": [
      "100%|██████████| 3125/3125 [05:55<00:00,  8.79it/s, train_accuracy=100, train_loss=2e-5]    \n",
      "100%|██████████| 625/625 [00:33<00:00, 18.72it/s, test_accuracy=93.8, test_loss=0.638]  \n"
     ]
    },
    {
     "name": "stdout",
     "output_type": "stream",
     "text": [
      "Epoch-78 Train Loss: 0.0099 Train Accuracy: 99.7540\n",
      "Epoch-78 Test Loss: 1.3351 Test Accuracy: 87.7800\n"
     ]
    },
    {
     "name": "stderr",
     "output_type": "stream",
     "text": [
      "100%|██████████| 3125/3125 [06:00<00:00,  8.67it/s, train_accuracy=100, train_loss=1.94e-7] \n",
      "100%|██████████| 625/625 [00:23<00:00, 26.42it/s, test_accuracy=87.5, test_loss=0.663]  \n"
     ]
    },
    {
     "name": "stdout",
     "output_type": "stream",
     "text": [
      "Epoch-79 Train Loss: 0.0089 Train Accuracy: 99.7560\n",
      "Epoch-79 Test Loss: 0.9557 Test Accuracy: 87.4100\n"
     ]
    },
    {
     "name": "stderr",
     "output_type": "stream",
     "text": [
      "100%|██████████| 3125/3125 [05:48<00:00,  8.97it/s, train_accuracy=100, train_loss=0.000198]\n",
      "100%|██████████| 625/625 [00:23<00:00, 26.06it/s, test_accuracy=93.8, test_loss=0.966]  \n"
     ]
    },
    {
     "name": "stdout",
     "output_type": "stream",
     "text": [
      "Saving new Best Model!\n",
      "Epoch-80 Train Loss: 0.0060 Train Accuracy: 99.8260\n",
      "Epoch-80 Test Loss: 1.2275 Test Accuracy: 88.1500\n"
     ]
    },
    {
     "name": "stderr",
     "output_type": "stream",
     "text": [
      "100%|██████████| 3125/3125 [06:09<00:00,  8.46it/s, train_accuracy=100, train_loss=2.37e-5] \n",
      "100%|██████████| 625/625 [00:23<00:00, 26.62it/s, test_accuracy=81.2, test_loss=0.894]  \n"
     ]
    },
    {
     "name": "stdout",
     "output_type": "stream",
     "text": [
      "Epoch-81 Train Loss: 0.0065 Train Accuracy: 99.8120\n",
      "Epoch-81 Test Loss: 0.9445 Test Accuracy: 87.8300\n"
     ]
    },
    {
     "name": "stderr",
     "output_type": "stream",
     "text": [
      "100%|██████████| 3125/3125 [05:52<00:00,  8.86it/s, train_accuracy=100, train_loss=0.000228]\n",
      "100%|██████████| 625/625 [00:22<00:00, 27.33it/s, test_accuracy=100, test_loss=5.96e-8] \n"
     ]
    },
    {
     "name": "stdout",
     "output_type": "stream",
     "text": [
      "Epoch-82 Train Loss: 0.0353 Train Accuracy: 99.7340\n",
      "Epoch-82 Test Loss: 0.9858 Test Accuracy: 87.8100\n"
     ]
    },
    {
     "name": "stderr",
     "output_type": "stream",
     "text": [
      "100%|██████████| 3125/3125 [06:07<00:00,  8.49it/s, train_accuracy=100, train_loss=0.0102]  \n",
      "100%|██████████| 625/625 [00:27<00:00, 22.35it/s, test_accuracy=93.8, test_loss=0.318]  \n"
     ]
    },
    {
     "name": "stdout",
     "output_type": "stream",
     "text": [
      "Saving new Best Model!\n",
      "Epoch-83 Train Loss: 0.0052 Train Accuracy: 99.8360\n",
      "Epoch-83 Test Loss: 1.0055 Test Accuracy: 88.1700\n"
     ]
    },
    {
     "name": "stderr",
     "output_type": "stream",
     "text": [
      "100%|██████████| 3125/3125 [05:58<00:00,  8.72it/s, train_accuracy=100, train_loss=0.000372]\n",
      "100%|██████████| 625/625 [00:22<00:00, 27.29it/s, test_accuracy=87.5, test_loss=0.781]  \n"
     ]
    },
    {
     "name": "stdout",
     "output_type": "stream",
     "text": [
      "Epoch-84 Train Loss: 0.0051 Train Accuracy: 99.8540\n",
      "Epoch-84 Test Loss: 1.1129 Test Accuracy: 88.1100\n"
     ]
    },
    {
     "name": "stderr",
     "output_type": "stream",
     "text": [
      "100%|██████████| 3125/3125 [05:49<00:00,  8.95it/s, train_accuracy=100, train_loss=0.000178]\n",
      "100%|██████████| 625/625 [00:23<00:00, 26.75it/s, test_accuracy=75, test_loss=1.42]     \n"
     ]
    },
    {
     "name": "stdout",
     "output_type": "stream",
     "text": [
      "Epoch-85 Train Loss: 0.0058 Train Accuracy: 99.8580\n",
      "Epoch-85 Test Loss: 1.0633 Test Accuracy: 87.8900\n"
     ]
    },
    {
     "name": "stderr",
     "output_type": "stream",
     "text": [
      "100%|██████████| 3125/3125 [06:11<00:00,  8.41it/s, train_accuracy=100, train_loss=0.00122] \n",
      "100%|██████████| 625/625 [00:23<00:00, 27.10it/s, test_accuracy=100, test_loss=0.0188]  \n"
     ]
    },
    {
     "name": "stdout",
     "output_type": "stream",
     "text": [
      "Saving new Best Model!\n",
      "Epoch-86 Train Loss: 0.0046 Train Accuracy: 99.8720\n",
      "Epoch-86 Test Loss: 1.1653 Test Accuracy: 88.3500\n"
     ]
    },
    {
     "name": "stderr",
     "output_type": "stream",
     "text": [
      "100%|██████████| 3125/3125 [05:50<00:00,  8.92it/s, train_accuracy=100, train_loss=0.000446]\n",
      "100%|██████████| 625/625 [00:22<00:00, 28.15it/s, test_accuracy=87.5, test_loss=0.358]  \n"
     ]
    },
    {
     "name": "stdout",
     "output_type": "stream",
     "text": [
      "Epoch-87 Train Loss: 0.0050 Train Accuracy: 99.8520\n",
      "Epoch-87 Test Loss: 1.0962 Test Accuracy: 88.2800\n"
     ]
    },
    {
     "name": "stderr",
     "output_type": "stream",
     "text": [
      "100%|██████████| 3125/3125 [06:09<00:00,  8.45it/s, train_accuracy=100, train_loss=8.45e-5] \n",
      "100%|██████████| 625/625 [00:28<00:00, 21.68it/s, test_accuracy=87.5, test_loss=0.582]  \n"
     ]
    },
    {
     "name": "stdout",
     "output_type": "stream",
     "text": [
      "Epoch-88 Train Loss: 0.0052 Train Accuracy: 99.8720\n",
      "Epoch-88 Test Loss: 0.9719 Test Accuracy: 88.1700\n"
     ]
    },
    {
     "name": "stderr",
     "output_type": "stream",
     "text": [
      "100%|██████████| 3125/3125 [05:55<00:00,  8.80it/s, train_accuracy=100, train_loss=9.36e-6] \n",
      "100%|██████████| 625/625 [00:23<00:00, 26.70it/s, test_accuracy=75, test_loss=1.13]     \n"
     ]
    },
    {
     "name": "stdout",
     "output_type": "stream",
     "text": [
      "Epoch-89 Train Loss: 0.0036 Train Accuracy: 99.9080\n",
      "Epoch-89 Test Loss: 1.0919 Test Accuracy: 88.2000\n"
     ]
    },
    {
     "name": "stderr",
     "output_type": "stream",
     "text": [
      "100%|██████████| 3125/3125 [05:54<00:00,  8.82it/s, train_accuracy=100, train_loss=0.000133]\n",
      "100%|██████████| 625/625 [00:28<00:00, 21.86it/s, test_accuracy=93.8, test_loss=0.775]  \n"
     ]
    },
    {
     "name": "stdout",
     "output_type": "stream",
     "text": [
      "Epoch-90 Train Loss: 0.0032 Train Accuracy: 99.8960\n",
      "Epoch-90 Test Loss: 1.2819 Test Accuracy: 88.3100\n"
     ]
    },
    {
     "name": "stderr",
     "output_type": "stream",
     "text": [
      "100%|██████████| 3125/3125 [06:06<00:00,  8.52it/s, train_accuracy=100, train_loss=0]       \n",
      "100%|██████████| 625/625 [00:23<00:00, 27.07it/s, test_accuracy=100, test_loss=0.0434]  \n"
     ]
    },
    {
     "name": "stdout",
     "output_type": "stream",
     "text": [
      "Epoch-91 Train Loss: 0.0031 Train Accuracy: 99.9300\n",
      "Epoch-91 Test Loss: 1.1620 Test Accuracy: 88.2400\n"
     ]
    },
    {
     "name": "stderr",
     "output_type": "stream",
     "text": [
      "100%|██████████| 3125/3125 [05:52<00:00,  8.88it/s, train_accuracy=100, train_loss=2.24e-8] \n",
      "100%|██████████| 625/625 [00:24<00:00, 25.96it/s, test_accuracy=93.8, test_loss=0.201]  \n"
     ]
    },
    {
     "name": "stdout",
     "output_type": "stream",
     "text": [
      "Epoch-92 Train Loss: 0.0036 Train Accuracy: 99.8920\n",
      "Epoch-92 Test Loss: 1.0683 Test Accuracy: 88.1200\n"
     ]
    },
    {
     "name": "stderr",
     "output_type": "stream",
     "text": [
      "100%|██████████| 3125/3125 [06:14<00:00,  8.34it/s, train_accuracy=100, train_loss=0]       \n",
      "100%|██████████| 625/625 [00:28<00:00, 21.63it/s, test_accuracy=68.8, test_loss=2.4]    \n"
     ]
    },
    {
     "name": "stdout",
     "output_type": "stream",
     "text": [
      "Epoch-93 Train Loss: 0.0032 Train Accuracy: 99.9180\n",
      "Epoch-93 Test Loss: 1.1985 Test Accuracy: 88.1400\n"
     ]
    },
    {
     "name": "stderr",
     "output_type": "stream",
     "text": [
      "100%|██████████| 3125/3125 [05:47<00:00,  8.98it/s, train_accuracy=100, train_loss=6.5e-6]  \n",
      "100%|██████████| 625/625 [00:24<00:00, 25.96it/s, test_accuracy=93.8, test_loss=0.0863] \n"
     ]
    },
    {
     "name": "stdout",
     "output_type": "stream",
     "text": [
      "Epoch-94 Train Loss: 0.0037 Train Accuracy: 99.8900\n",
      "Epoch-94 Test Loss: 1.2231 Test Accuracy: 88.2900\n"
     ]
    },
    {
     "name": "stderr",
     "output_type": "stream",
     "text": [
      "100%|██████████| 3125/3125 [05:55<00:00,  8.78it/s, train_accuracy=100, train_loss=2.17e-5] \n",
      "100%|██████████| 625/625 [00:29<00:00, 21.26it/s, test_accuracy=100, test_loss=0.000207]\n"
     ]
    },
    {
     "name": "stdout",
     "output_type": "stream",
     "text": [
      "Epoch-95 Train Loss: 0.0035 Train Accuracy: 99.9080\n",
      "Epoch-95 Test Loss: 1.1941 Test Accuracy: 88.2700\n"
     ]
    },
    {
     "name": "stderr",
     "output_type": "stream",
     "text": [
      "100%|██████████| 3125/3125 [06:08<00:00,  8.47it/s, train_accuracy=100, train_loss=2.46e-5] \n",
      "100%|██████████| 625/625 [00:22<00:00, 27.39it/s, test_accuracy=87.5, test_loss=0.274]  \n"
     ]
    },
    {
     "name": "stdout",
     "output_type": "stream",
     "text": [
      "Epoch-96 Train Loss: 0.0031 Train Accuracy: 99.9080\n",
      "Epoch-96 Test Loss: 1.1793 Test Accuracy: 88.1100\n"
     ]
    },
    {
     "name": "stderr",
     "output_type": "stream",
     "text": [
      "100%|██████████| 3125/3125 [05:51<00:00,  8.90it/s, train_accuracy=100, train_loss=8.79e-7] \n",
      "100%|██████████| 625/625 [00:23<00:00, 27.10it/s, test_accuracy=100, test_loss=0.0162]  \n"
     ]
    },
    {
     "name": "stdout",
     "output_type": "stream",
     "text": [
      "Epoch-97 Train Loss: 0.0029 Train Accuracy: 99.9040\n",
      "Epoch-97 Test Loss: 1.2124 Test Accuracy: 88.3300\n"
     ]
    },
    {
     "name": "stderr",
     "output_type": "stream",
     "text": [
      "100%|██████████| 3125/3125 [06:12<00:00,  8.39it/s, train_accuracy=100, train_loss=2.24e-8] \n",
      "100%|██████████| 625/625 [00:24<00:00, 25.91it/s, test_accuracy=93.8, test_loss=0.95]   \n"
     ]
    },
    {
     "name": "stdout",
     "output_type": "stream",
     "text": [
      "Epoch-98 Train Loss: 0.0040 Train Accuracy: 99.9040\n",
      "Epoch-98 Test Loss: 1.1211 Test Accuracy: 88.2400\n"
     ]
    },
    {
     "name": "stderr",
     "output_type": "stream",
     "text": [
      "100%|██████████| 3125/3125 [05:51<00:00,  8.90it/s, train_accuracy=100, train_loss=1.49e-8] \n",
      "100%|██████████| 625/625 [00:23<00:00, 26.78it/s, test_accuracy=87.5, test_loss=1.31]   \n"
     ]
    },
    {
     "name": "stdout",
     "output_type": "stream",
     "text": [
      "Epoch-99 Train Loss: 0.0046 Train Accuracy: 99.8940\n",
      "Epoch-99 Test Loss: 1.1554 Test Accuracy: 88.2800\n"
     ]
    },
    {
     "name": "stderr",
     "output_type": "stream",
     "text": [
      "100%|██████████| 3125/3125 [05:55<00:00,  8.79it/s, train_accuracy=100, train_loss=9.37e-6] \n",
      "100%|██████████| 625/625 [00:28<00:00, 21.87it/s, test_accuracy=93.8, test_loss=0.0505] "
     ]
    },
    {
     "name": "stdout",
     "output_type": "stream",
     "text": [
      "Epoch-100 Train Loss: 0.0023 Train Accuracy: 99.9360\n",
      "Epoch-100 Test Loss: 1.1507 Test Accuracy: 88.2700\n"
     ]
    },
    {
     "name": "stderr",
     "output_type": "stream",
     "text": [
      "\n"
     ]
    }
   ],
   "source": [
    "last_best = 0\n",
    "train_losses = []\n",
    "train_acc = []\n",
    "test_losses = []\n",
    "test_acc = []\n",
    "for epoch in range (EPOCHS):\n",
    "    \n",
    "    train_loss, train_accuracy = trainEpoch(DEVICE, model, train_loader, optimizer, criterion)\n",
    "    test_loss, test_accuracy = testEpoch(DEVICE, model, test_loader, criterion)\n",
    "\n",
    "    train_losses.append(train_loss)\n",
    "    train_acc.append(train_accuracy)\n",
    "    test_losses.append(test_loss)\n",
    "    test_acc.append(test_accuracy)\n",
    "\n",
    "    scheduler.step()\n",
    "\n",
    "    if last_best <= test_accuracy:\n",
    "        torch.save(model.state_dict(), 'vgg19.pt')\n",
    "        print(\"Saving new Best Model!\")\n",
    "        last_best = test_accuracy\n",
    "\n",
    "    print(f\"Epoch-{epoch+1} Train Loss: {train_losses[-1]:.4f} Train Accuracy: {train_acc[-1]:.4f}\")\n",
    "    print(f\"Epoch-{epoch+1} Test Loss: {test_losses[-1]:.4f} Test Accuracy: {test_acc[-1]:.4f}\")\n",
    "\n",
    "dict = {'train_loss': train_losses, 'train_accuracy': train_acc, 'test_loss': test_losses, 'test_accuracy': test_acc}\n",
    "df = pd.DataFrame(dict)\n",
    "df.to_csv('loss_and_acc_vgg19.csv')"
   ]
  },
  {
   "cell_type": "code",
   "execution_count": null,
   "id": "0eb9456c",
   "metadata": {},
   "outputs": [],
   "source": []
  }
 ],
 "metadata": {
  "kernelspec": {
   "display_name": "Python 3",
   "language": "python",
   "name": "python3"
  },
  "language_info": {
   "codemirror_mode": {
    "name": "ipython",
    "version": 3
   },
   "file_extension": ".py",
   "mimetype": "text/x-python",
   "name": "python",
   "nbconvert_exporter": "python",
   "pygments_lexer": "ipython3",
   "version": "3.8.12"
  }
 },
 "nbformat": 4,
 "nbformat_minor": 5
}
