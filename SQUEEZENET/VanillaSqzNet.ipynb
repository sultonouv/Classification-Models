{
 "cells": [
  {
   "cell_type": "code",
   "execution_count": 1,
   "id": "647d3203-4116-47ae-ac21-bc44619f0beb",
   "metadata": {},
   "outputs": [],
   "source": [
    "import torch\n",
    "import torch.nn as nn\n",
    "import torchvision\n",
    "import torchvision.datasets as datasets\n",
    "import torchvision.transforms as transforms\n",
    "from torch.utils.data import DataLoader\n",
    "import torch.nn.functional as F\n",
    "import torch.optim as optim\n",
    "from tqdm import tqdm\n",
    "import pandas as pd\n",
    "import numpy as np\n",
    "import matplotlib.pyplot as plt\n",
    "import torch.nn.init as init"
   ]
  },
  {
   "cell_type": "code",
   "execution_count": 2,
   "id": "1bc4df7d-5029-4a25-bcc9-2331e088d5e3",
   "metadata": {},
   "outputs": [],
   "source": [
    "# Hyperparams\n",
    "BATCH_SIZE = 16\n",
    "LR = 3e-4\n",
    "NUM_WORKERS = 8\n",
    "EPOCHS=100\n",
    "MOMENTUM = 0.9\n",
    "WEIGHT_DECAY = 1e-4\n",
    "DEVICE = torch.device('cuda:4')"
   ]
  },
  {
   "cell_type": "code",
   "execution_count": 3,
   "id": "2cae8628-9706-4b30-a304-22257819953d",
   "metadata": {},
   "outputs": [],
   "source": [
    "normMean = [0.485, 0.456, 0.406]\n",
    "normStd = [0.229, 0.224, 0.225]\n",
    "normTransform = transforms.Normalize(normMean, normStd)\n",
    "\n",
    "trainTransform = transforms.Compose([\n",
    "        transforms.Resize(224),\n",
    "        transforms.RandomHorizontalFlip(),\n",
    "        transforms.ToTensor(),\n",
    "        normTransform\n",
    "    ])\n",
    "testTransform = transforms.Compose([\n",
    "        transforms.Resize(224),\n",
    "        transforms.ToTensor(),\n",
    "        normTransform\n",
    "    ])"
   ]
  },
  {
   "cell_type": "code",
   "execution_count": 4,
   "id": "714bbe48-79dd-4e9b-8ba6-8fb429c48de7",
   "metadata": {},
   "outputs": [
    {
     "name": "stdout",
     "output_type": "stream",
     "text": [
      "Files already downloaded and verified\n",
      "Files already downloaded and verified\n"
     ]
    }
   ],
   "source": [
    "train_dataset = datasets.CIFAR10(root='../../DATASETS/classification_datasets/cifar-10-batches-py/', train=True, download=True, transform=trainTransform)\n",
    "test_dataset = datasets.CIFAR10(root='../../DATASETS/classification_datasets/cifar-10-batches-py/', train=False, download=True, transform=testTransform)\n",
    "\n",
    "train_loader = DataLoader(dataset=train_dataset, batch_size=BATCH_SIZE, shuffle=True, num_workers=NUM_WORKERS, pin_memory=True)\n",
    "test_loader = DataLoader(dataset=test_dataset, batch_size=BATCH_SIZE, shuffle=True, num_workers=NUM_WORKERS, pin_memory=True)"
   ]
  },
  {
   "cell_type": "code",
   "execution_count": 5,
   "id": "e16a636d-ab83-47e7-a243-90473a2ffdc0",
   "metadata": {},
   "outputs": [],
   "source": [
    "class Fire(nn.Module):\n",
    "    def __init__(self, in_channels, num_s1, num_e1, num_e3):\n",
    "        super().__init__()\n",
    "        '''num_s1 = number of 1x1 convolutions in the squeeze layer\n",
    "           num_e1 = number of 1x1 convolutions in the expand layer\n",
    "           num_e3 = number of 3x3 convolutions in the expand layer\n",
    "           in_channels = number of input channels'''\n",
    "\n",
    "        self.in_channels = in_channels\n",
    "        self.num_s1 = num_s1\n",
    "        self.num_e1 = num_e1\n",
    "        self.num_e3 = num_e3\n",
    "        \n",
    "\n",
    "        self.sqz = nn.Conv2d(in_channels=in_channels, out_channels=num_s1, kernel_size=1) # the squeeze part of the Fire module\n",
    "        self.relu = nn.ReLU()\n",
    "        self.expand_ones = nn.Conv2d(in_channels=num_s1, out_channels=num_e1, kernel_size=1) # the expand part-1x1 convolutions of the Fire module\n",
    "        self.expand_threes = nn.Conv2d(in_channels=num_s1, out_channels=num_e3, kernel_size=3, padding=1) # the expand part-3x convolutions of the Fire module\n",
    "\n",
    "    def forward(self, x):\n",
    "        sqz_out = self.relu(self.sqz(x))\n",
    "        expand1_out = self.relu(self.expand_ones(sqz_out))\n",
    "        expand3_out = self.relu(self.expand_threes(sqz_out))\n",
    "        expand_out = torch.cat((expand1_out, expand3_out), dim=1)\n",
    "        out = expand_out\n",
    "\n",
    "        return out"
   ]
  },
  {
   "cell_type": "code",
   "execution_count": 6,
   "id": "4536f0d4-53a8-487a-8180-35898144f106",
   "metadata": {},
   "outputs": [],
   "source": [
    "class VanillaSqueezeNet(nn.Module):\n",
    "    def __init__(self, classes):\n",
    "        super().__init__()\n",
    "        self.classes = classes\n",
    "        \n",
    "        self.features = nn.Sequential(\n",
    "            nn.Conv2d(in_channels=3, out_channels=96, kernel_size=7, stride=2),\n",
    "            nn.ReLU(inplace=True),\n",
    "            nn.MaxPool2d(kernel_size=3, stride=2, ceil_mode=True),\n",
    "            \n",
    "            Fire(96, 16, 64, 64),\n",
    "            Fire(128, 16, 64, 64),\n",
    "            Fire(128, 32, 128, 128),\n",
    "            nn.MaxPool2d(kernel_size=3, stride=2, ceil_mode=True),\n",
    "\n",
    "            Fire(256, 32, 128, 128),\n",
    "            Fire(256, 48, 192, 192),\n",
    "            Fire(384, 48, 192, 192),\n",
    "            Fire(384, 64, 256, 256),\n",
    "  \n",
    "            nn.MaxPool2d(kernel_size=3, stride=2, ceil_mode=True),\n",
    "\n",
    "            Fire(512, 64, 256, 256),\n",
    "            nn.BatchNorm2d(512)\n",
    "        )\n",
    "        \n",
    "\n",
    "        final_conv = nn.Conv2d(512, classes, kernel_size=1)\n",
    "        \n",
    "        self.classifier = nn.Sequential(\n",
    "            nn.Dropout(p=0.5),\n",
    "            final_conv,\n",
    "            nn.ReLU(inplace=True),\n",
    "            nn.AdaptiveAvgPool2d((1,1))\n",
    "            \n",
    "        )\n",
    "\n",
    "        for m in self.modules():\n",
    "            if isinstance(m, nn.Conv2d):\n",
    "                if m is final_conv:\n",
    "                    init.normal_(m.weight, mean=0.0, std=0.01)\n",
    "                else:\n",
    "                    init.kaiming_uniform_(m.weight)\n",
    "                if m.bias is not None:\n",
    "                    init.constant_(m.bias, 0)\n",
    "        \n",
    "\n",
    "    def forward(self, x):\n",
    "        x = self.features(x)\n",
    "        x = self.classifier(x)\n",
    "\n",
    "        return torch.flatten(x,1)"
   ]
  },
  {
   "cell_type": "code",
   "execution_count": 8,
   "id": "9fd3481a-3f9f-46f4-92c3-35163f856fff",
   "metadata": {},
   "outputs": [
    {
     "name": "stdout",
     "output_type": "stream",
     "text": [
      "torch.Size([8, 10])\n"
     ]
    }
   ],
   "source": [
    "x = torch.randn(8, 3, 224, 224)\n",
    "\n",
    "x = x.to(DEVICE)\n",
    "model = VanillaSqueezeNet(10).to(DEVICE)\n",
    "out = model(x)\n",
    "print(out.shape)"
   ]
  },
  {
   "cell_type": "code",
   "execution_count": 11,
   "id": "51af1aea-94ef-42fb-95bc-13aff4f66a26",
   "metadata": {},
   "outputs": [],
   "source": [
    "criterion = nn.CrossEntropyLoss()\n",
    "\n",
    "# optimizer = torch.optim.SGD(model.parameters(), LR,\n",
    "#                             momentum=MOMENTUM,\n",
    "#                             weight_decay=WEIGHT_DECAY, nesterov=True)\n",
    "optimizer = torch.optim.Adam(model.parameters(), LR)\n",
    "scheduler = torch.optim.lr_scheduler.CosineAnnealingLR(optimizer, T_max = EPOCHS)"
   ]
  },
  {
   "cell_type": "code",
   "execution_count": 13,
   "id": "0312c450-58c5-42da-86ba-221c968c4856",
   "metadata": {},
   "outputs": [],
   "source": [
    "def trainEpoch(device, model, loader, optimizer, criterion):\n",
    "    loop = tqdm(loader)\n",
    "    model.train()\n",
    "\n",
    "    losses = []\n",
    "    correct = 0\n",
    "    total = 0\n",
    "    for batch_id, (images, labels) in enumerate(loop):\n",
    "        images, labels = images.to(device), labels.to(device)\n",
    "        model = model.to(device)\n",
    "       \n",
    "        outputs = model(images)\n",
    "\n",
    "        _, predicted = torch.max(outputs, 1)\n",
    "        total += labels.size(0)\n",
    "        correct += (predicted==labels).sum().item()\n",
    "\n",
    "        loss = criterion(outputs, labels)\n",
    "        losses.append(loss.item())\n",
    "\n",
    "\n",
    "        optimizer.zero_grad()\n",
    "        loss.backward()\n",
    "        optimizer.step()\n",
    "        loop.set_postfix(train_loss=loss.item(), train_accuracy=(100*correct/total))\n",
    "\n",
    "    return np.mean(losses), 100*correct/total\n",
    "\n",
    "\n",
    "def testEpoch(device, model, loader, criterion):\n",
    "    \n",
    "    model.eval()\n",
    "    with torch.no_grad():\n",
    "        losses = []\n",
    "        correct = 0\n",
    "        total = 0\n",
    "        loop = tqdm(loader)\n",
    "        for batch_id, (images, labels) in enumerate(loop):\n",
    "            images, labels = images.to(device), labels.to(device)\n",
    "            model = model.to(device)\n",
    "        \n",
    "            outputs = model(images)\n",
    "\n",
    "            _, predicted = torch.max(outputs, 1)\n",
    "            total += labels.size(0)\n",
    "            correct += (predicted==labels).sum().item()\n",
    "\n",
    "            loss = criterion(outputs, labels)\n",
    "            losses.append(loss.item())\n",
    "\n",
    "            loop.set_postfix(test_loss=loss.item(), test_accuracy=(100*correct/total))\n",
    "\n",
    "        return np.mean(losses), 100*correct/total"
   ]
  },
  {
   "cell_type": "code",
   "execution_count": 15,
   "id": "1232e7a1-985f-48af-ab1f-0cb109eaa83a",
   "metadata": {},
   "outputs": [
    {
     "name": "stderr",
     "output_type": "stream",
     "text": [
      "100%|██████████| 3125/3125 [01:20<00:00, 38.92it/s, train_accuracy=60.2, train_loss=1.26] \n",
      "100%|██████████| 625/625 [00:06<00:00, 95.09it/s, test_accuracy=59.3, test_loss=1.22]  \n"
     ]
    },
    {
     "name": "stdout",
     "output_type": "stream",
     "text": [
      "Saving new Best Model!\n",
      "Epoch-1 Train Loss: 1.1263 Train Accuracy: 60.1620\n",
      "Epoch-1 Test Loss: 1.1549 Test Accuracy: 59.3300\n"
     ]
    },
    {
     "name": "stderr",
     "output_type": "stream",
     "text": [
      "100%|██████████| 3125/3125 [01:21<00:00, 38.22it/s, train_accuracy=65.3, train_loss=0.702]\n",
      "100%|██████████| 625/625 [00:06<00:00, 92.89it/s, test_accuracy=66.3, test_loss=0.992] \n"
     ]
    },
    {
     "name": "stdout",
     "output_type": "stream",
     "text": [
      "Saving new Best Model!\n",
      "Epoch-2 Train Loss: 0.9852 Train Accuracy: 65.3020\n",
      "Epoch-2 Test Loss: 0.9459 Test Accuracy: 66.2700\n"
     ]
    },
    {
     "name": "stderr",
     "output_type": "stream",
     "text": [
      "100%|██████████| 3125/3125 [01:21<00:00, 38.11it/s, train_accuracy=69.2, train_loss=0.542]\n",
      "100%|██████████| 625/625 [00:06<00:00, 91.02it/s, test_accuracy=69.9, test_loss=0.627] \n"
     ]
    },
    {
     "name": "stdout",
     "output_type": "stream",
     "text": [
      "Saving new Best Model!\n",
      "Epoch-3 Train Loss: 0.8850 Train Accuracy: 69.2360\n",
      "Epoch-3 Test Loss: 0.8613 Test Accuracy: 69.8900\n"
     ]
    },
    {
     "name": "stderr",
     "output_type": "stream",
     "text": [
      "100%|██████████| 3125/3125 [01:21<00:00, 38.31it/s, train_accuracy=72.2, train_loss=0.552]\n",
      "100%|██████████| 625/625 [00:06<00:00, 91.03it/s, test_accuracy=62.3, test_loss=1.5]   \n"
     ]
    },
    {
     "name": "stdout",
     "output_type": "stream",
     "text": [
      "Epoch-4 Train Loss: 0.8049 Train Accuracy: 72.2200\n",
      "Epoch-4 Test Loss: 1.2165 Test Accuracy: 62.3300\n"
     ]
    },
    {
     "name": "stderr",
     "output_type": "stream",
     "text": [
      "100%|██████████| 3125/3125 [01:19<00:00, 39.32it/s, train_accuracy=74.2, train_loss=0.893]\n",
      "100%|██████████| 625/625 [00:06<00:00, 91.25it/s, test_accuracy=74.2, test_loss=0.753]  \n"
     ]
    },
    {
     "name": "stdout",
     "output_type": "stream",
     "text": [
      "Saving new Best Model!\n",
      "Epoch-5 Train Loss: 0.7432 Train Accuracy: 74.2400\n",
      "Epoch-5 Test Loss: 0.7550 Test Accuracy: 74.2000\n"
     ]
    },
    {
     "name": "stderr",
     "output_type": "stream",
     "text": [
      "100%|██████████| 3125/3125 [01:19<00:00, 39.38it/s, train_accuracy=76.1, train_loss=0.303]\n",
      "100%|██████████| 625/625 [00:06<00:00, 94.69it/s, test_accuracy=75.9, test_loss=1.11]  \n"
     ]
    },
    {
     "name": "stdout",
     "output_type": "stream",
     "text": [
      "Saving new Best Model!\n",
      "Epoch-6 Train Loss: 0.6934 Train Accuracy: 76.0740\n",
      "Epoch-6 Test Loss: 0.7127 Test Accuracy: 75.8700\n"
     ]
    },
    {
     "name": "stderr",
     "output_type": "stream",
     "text": [
      "100%|██████████| 3125/3125 [01:20<00:00, 38.79it/s, train_accuracy=77.5, train_loss=0.448] \n",
      "100%|██████████| 625/625 [00:06<00:00, 95.51it/s, test_accuracy=68.2, test_loss=1.29]  \n"
     ]
    },
    {
     "name": "stdout",
     "output_type": "stream",
     "text": [
      "Epoch-7 Train Loss: 0.6523 Train Accuracy: 77.4500\n",
      "Epoch-7 Test Loss: 0.9902 Test Accuracy: 68.1800\n"
     ]
    },
    {
     "name": "stderr",
     "output_type": "stream",
     "text": [
      "100%|██████████| 3125/3125 [01:19<00:00, 39.46it/s, train_accuracy=79, train_loss=0.851]  \n",
      "100%|██████████| 625/625 [00:06<00:00, 95.39it/s, test_accuracy=79.5, test_loss=0.456] \n"
     ]
    },
    {
     "name": "stdout",
     "output_type": "stream",
     "text": [
      "Saving new Best Model!\n",
      "Epoch-8 Train Loss: 0.6149 Train Accuracy: 78.9740\n",
      "Epoch-8 Test Loss: 0.6009 Test Accuracy: 79.5200\n"
     ]
    },
    {
     "name": "stderr",
     "output_type": "stream",
     "text": [
      "100%|██████████| 3125/3125 [01:19<00:00, 39.07it/s, train_accuracy=80.2, train_loss=0.416]\n",
      "100%|██████████| 625/625 [00:06<00:00, 93.47it/s, test_accuracy=80.3, test_loss=0.39]   \n"
     ]
    },
    {
     "name": "stdout",
     "output_type": "stream",
     "text": [
      "Saving new Best Model!\n",
      "Epoch-9 Train Loss: 0.5794 Train Accuracy: 80.1600\n",
      "Epoch-9 Test Loss: 0.5751 Test Accuracy: 80.3500\n"
     ]
    },
    {
     "name": "stderr",
     "output_type": "stream",
     "text": [
      "100%|██████████| 3125/3125 [01:19<00:00, 39.28it/s, train_accuracy=81.1, train_loss=0.694] \n",
      "100%|██████████| 625/625 [00:06<00:00, 94.35it/s, test_accuracy=75.6, test_loss=0.872] \n"
     ]
    },
    {
     "name": "stdout",
     "output_type": "stream",
     "text": [
      "Epoch-10 Train Loss: 0.5506 Train Accuracy: 81.0720\n",
      "Epoch-10 Test Loss: 0.7138 Test Accuracy: 75.5700\n"
     ]
    },
    {
     "name": "stderr",
     "output_type": "stream",
     "text": [
      "100%|██████████| 3125/3125 [01:20<00:00, 38.79it/s, train_accuracy=81.7, train_loss=0.294] \n",
      "100%|██████████| 625/625 [00:06<00:00, 94.01it/s, test_accuracy=79.9, test_loss=0.243]  \n"
     ]
    },
    {
     "name": "stdout",
     "output_type": "stream",
     "text": [
      "Epoch-11 Train Loss: 0.5339 Train Accuracy: 81.7440\n",
      "Epoch-11 Test Loss: 0.5998 Test Accuracy: 79.9300\n"
     ]
    },
    {
     "name": "stderr",
     "output_type": "stream",
     "text": [
      "100%|██████████| 3125/3125 [01:19<00:00, 39.45it/s, train_accuracy=82.8, train_loss=0.729] \n",
      "100%|██████████| 625/625 [00:06<00:00, 95.47it/s, test_accuracy=82.1, test_loss=0.44]   \n"
     ]
    },
    {
     "name": "stdout",
     "output_type": "stream",
     "text": [
      "Saving new Best Model!\n",
      "Epoch-12 Train Loss: 0.5055 Train Accuracy: 82.8100\n",
      "Epoch-12 Test Loss: 0.5260 Test Accuracy: 82.1100\n"
     ]
    },
    {
     "name": "stderr",
     "output_type": "stream",
     "text": [
      "100%|██████████| 3125/3125 [01:19<00:00, 39.27it/s, train_accuracy=83.5, train_loss=0.776] \n",
      "100%|██████████| 625/625 [00:06<00:00, 93.39it/s, test_accuracy=81.9, test_loss=0.69]   \n"
     ]
    },
    {
     "name": "stdout",
     "output_type": "stream",
     "text": [
      "Epoch-13 Train Loss: 0.4823 Train Accuracy: 83.5120\n",
      "Epoch-13 Test Loss: 0.5354 Test Accuracy: 81.9300\n"
     ]
    },
    {
     "name": "stderr",
     "output_type": "stream",
     "text": [
      "100%|██████████| 3125/3125 [01:20<00:00, 38.94it/s, train_accuracy=84.4, train_loss=0.381] \n",
      "100%|██████████| 625/625 [00:06<00:00, 95.41it/s, test_accuracy=81.2, test_loss=0.733]  \n"
     ]
    },
    {
     "name": "stdout",
     "output_type": "stream",
     "text": [
      "Epoch-14 Train Loss: 0.4620 Train Accuracy: 84.3860\n",
      "Epoch-14 Test Loss: 0.5519 Test Accuracy: 81.2000\n"
     ]
    },
    {
     "name": "stderr",
     "output_type": "stream",
     "text": [
      "100%|██████████| 3125/3125 [01:19<00:00, 39.18it/s, train_accuracy=84.8, train_loss=0.207] \n",
      "100%|██████████| 625/625 [00:06<00:00, 94.74it/s, test_accuracy=82.6, test_loss=0.298]  \n"
     ]
    },
    {
     "name": "stdout",
     "output_type": "stream",
     "text": [
      "Saving new Best Model!\n",
      "Epoch-15 Train Loss: 0.4446 Train Accuracy: 84.7540\n",
      "Epoch-15 Test Loss: 0.5212 Test Accuracy: 82.6100\n"
     ]
    },
    {
     "name": "stderr",
     "output_type": "stream",
     "text": [
      "100%|██████████| 3125/3125 [01:19<00:00, 39.15it/s, train_accuracy=85.3, train_loss=0.346] \n",
      "100%|██████████| 625/625 [00:06<00:00, 93.45it/s, test_accuracy=82.7, test_loss=0.819]  \n"
     ]
    },
    {
     "name": "stdout",
     "output_type": "stream",
     "text": [
      "Saving new Best Model!\n",
      "Epoch-16 Train Loss: 0.4240 Train Accuracy: 85.2640\n",
      "Epoch-16 Test Loss: 0.5233 Test Accuracy: 82.7200\n"
     ]
    },
    {
     "name": "stderr",
     "output_type": "stream",
     "text": [
      "100%|██████████| 3125/3125 [01:18<00:00, 39.91it/s, train_accuracy=85.8, train_loss=0.362] \n",
      "100%|██████████| 625/625 [00:06<00:00, 96.99it/s, test_accuracy=82.4, test_loss=0.288]  \n"
     ]
    },
    {
     "name": "stdout",
     "output_type": "stream",
     "text": [
      "Epoch-17 Train Loss: 0.4099 Train Accuracy: 85.8060\n",
      "Epoch-17 Test Loss: 0.5268 Test Accuracy: 82.4400\n"
     ]
    },
    {
     "name": "stderr",
     "output_type": "stream",
     "text": [
      "100%|██████████| 3125/3125 [01:19<00:00, 39.37it/s, train_accuracy=86.4, train_loss=0.696] \n",
      "100%|██████████| 625/625 [00:06<00:00, 94.74it/s, test_accuracy=82.2, test_loss=0.852]  \n"
     ]
    },
    {
     "name": "stdout",
     "output_type": "stream",
     "text": [
      "Epoch-18 Train Loss: 0.3943 Train Accuracy: 86.4460\n",
      "Epoch-18 Test Loss: 0.5338 Test Accuracy: 82.1900\n"
     ]
    },
    {
     "name": "stderr",
     "output_type": "stream",
     "text": [
      "100%|██████████| 3125/3125 [01:17<00:00, 40.56it/s, train_accuracy=87, train_loss=0.272]   \n",
      "100%|██████████| 625/625 [00:06<00:00, 90.94it/s, test_accuracy=84.1, test_loss=0.49]    \n"
     ]
    },
    {
     "name": "stdout",
     "output_type": "stream",
     "text": [
      "Saving new Best Model!\n",
      "Epoch-19 Train Loss: 0.3774 Train Accuracy: 86.9920\n",
      "Epoch-19 Test Loss: 0.5016 Test Accuracy: 84.0900\n"
     ]
    },
    {
     "name": "stderr",
     "output_type": "stream",
     "text": [
      "100%|██████████| 3125/3125 [01:18<00:00, 39.95it/s, train_accuracy=87.6, train_loss=0.157] \n",
      "100%|██████████| 625/625 [00:06<00:00, 93.11it/s, test_accuracy=83.7, test_loss=0.743]  \n"
     ]
    },
    {
     "name": "stdout",
     "output_type": "stream",
     "text": [
      "Epoch-20 Train Loss: 0.3584 Train Accuracy: 87.5760\n",
      "Epoch-20 Test Loss: 0.5033 Test Accuracy: 83.6700\n"
     ]
    },
    {
     "name": "stderr",
     "output_type": "stream",
     "text": [
      "100%|██████████| 3125/3125 [01:16<00:00, 40.68it/s, train_accuracy=87.9, train_loss=0.0992]\n",
      "100%|██████████| 625/625 [00:06<00:00, 93.15it/s, test_accuracy=83.6, test_loss=0.485]  \n"
     ]
    },
    {
     "name": "stdout",
     "output_type": "stream",
     "text": [
      "Epoch-21 Train Loss: 0.3469 Train Accuracy: 87.9440\n",
      "Epoch-21 Test Loss: 0.4984 Test Accuracy: 83.6400\n"
     ]
    },
    {
     "name": "stderr",
     "output_type": "stream",
     "text": [
      "100%|██████████| 3125/3125 [01:18<00:00, 39.82it/s, train_accuracy=88.4, train_loss=0.614] \n",
      "100%|██████████| 625/625 [00:06<00:00, 91.79it/s, test_accuracy=83.2, test_loss=0.659]  \n"
     ]
    },
    {
     "name": "stdout",
     "output_type": "stream",
     "text": [
      "Epoch-22 Train Loss: 0.3349 Train Accuracy: 88.4060\n",
      "Epoch-22 Test Loss: 0.5142 Test Accuracy: 83.2100\n"
     ]
    },
    {
     "name": "stderr",
     "output_type": "stream",
     "text": [
      "100%|██████████| 3125/3125 [01:18<00:00, 39.81it/s, train_accuracy=89, train_loss=0.289]   \n",
      "100%|██████████| 625/625 [00:06<00:00, 94.55it/s, test_accuracy=84.8, test_loss=0.921]  \n"
     ]
    },
    {
     "name": "stdout",
     "output_type": "stream",
     "text": [
      "Saving new Best Model!\n",
      "Epoch-23 Train Loss: 0.3190 Train Accuracy: 89.0300\n",
      "Epoch-23 Test Loss: 0.4653 Test Accuracy: 84.8400\n"
     ]
    },
    {
     "name": "stderr",
     "output_type": "stream",
     "text": [
      "100%|██████████| 3125/3125 [01:17<00:00, 40.25it/s, train_accuracy=89.4, train_loss=0.133] \n",
      "100%|██████████| 625/625 [00:06<00:00, 91.09it/s, test_accuracy=82.4, test_loss=1.08]   \n"
     ]
    },
    {
     "name": "stdout",
     "output_type": "stream",
     "text": [
      "Epoch-24 Train Loss: 0.3068 Train Accuracy: 89.4380\n",
      "Epoch-24 Test Loss: 0.5516 Test Accuracy: 82.3900\n"
     ]
    },
    {
     "name": "stderr",
     "output_type": "stream",
     "text": [
      "100%|██████████| 3125/3125 [01:16<00:00, 41.10it/s, train_accuracy=89.9, train_loss=0.12]  \n",
      "100%|██████████| 625/625 [00:06<00:00, 91.84it/s, test_accuracy=84.2, test_loss=0.742]   \n"
     ]
    },
    {
     "name": "stdout",
     "output_type": "stream",
     "text": [
      "Epoch-25 Train Loss: 0.2918 Train Accuracy: 89.9160\n",
      "Epoch-25 Test Loss: 0.5069 Test Accuracy: 84.1700\n"
     ]
    },
    {
     "name": "stderr",
     "output_type": "stream",
     "text": [
      "100%|██████████| 3125/3125 [01:16<00:00, 40.59it/s, train_accuracy=90.5, train_loss=0.354]  \n",
      "100%|██████████| 625/625 [00:06<00:00, 91.90it/s, test_accuracy=84.2, test_loss=0.147]  \n"
     ]
    },
    {
     "name": "stdout",
     "output_type": "stream",
     "text": [
      "Epoch-26 Train Loss: 0.2799 Train Accuracy: 90.4820\n",
      "Epoch-26 Test Loss: 0.5322 Test Accuracy: 84.2400\n"
     ]
    },
    {
     "name": "stderr",
     "output_type": "stream",
     "text": [
      "100%|██████████| 3125/3125 [01:19<00:00, 39.26it/s, train_accuracy=90.8, train_loss=0.281] \n",
      "100%|██████████| 625/625 [00:06<00:00, 91.37it/s, test_accuracy=84.6, test_loss=0.65]   \n"
     ]
    },
    {
     "name": "stdout",
     "output_type": "stream",
     "text": [
      "Epoch-27 Train Loss: 0.2682 Train Accuracy: 90.7800\n",
      "Epoch-27 Test Loss: 0.4933 Test Accuracy: 84.5900\n"
     ]
    },
    {
     "name": "stderr",
     "output_type": "stream",
     "text": [
      "100%|██████████| 3125/3125 [01:19<00:00, 39.41it/s, train_accuracy=91.1, train_loss=0.236]  \n",
      "100%|██████████| 625/625 [00:06<00:00, 92.93it/s, test_accuracy=84.3, test_loss=0.647]  \n"
     ]
    },
    {
     "name": "stdout",
     "output_type": "stream",
     "text": [
      "Epoch-28 Train Loss: 0.2576 Train Accuracy: 91.1300\n",
      "Epoch-28 Test Loss: 0.5170 Test Accuracy: 84.3300\n"
     ]
    },
    {
     "name": "stderr",
     "output_type": "stream",
     "text": [
      "100%|██████████| 3125/3125 [01:16<00:00, 40.99it/s, train_accuracy=91.7, train_loss=0.0448] \n",
      "100%|██████████| 625/625 [00:07<00:00, 87.37it/s, test_accuracy=85, test_loss=0.262]    \n"
     ]
    },
    {
     "name": "stdout",
     "output_type": "stream",
     "text": [
      "Saving new Best Model!\n",
      "Epoch-29 Train Loss: 0.2417 Train Accuracy: 91.7420\n",
      "Epoch-29 Test Loss: 0.4664 Test Accuracy: 85.0300\n"
     ]
    },
    {
     "name": "stderr",
     "output_type": "stream",
     "text": [
      "100%|██████████| 3125/3125 [01:17<00:00, 40.40it/s, train_accuracy=91.8, train_loss=0.0986] \n",
      "100%|██████████| 625/625 [00:06<00:00, 89.76it/s, test_accuracy=83.8, test_loss=0.405]   \n"
     ]
    },
    {
     "name": "stdout",
     "output_type": "stream",
     "text": [
      "Epoch-30 Train Loss: 0.2352 Train Accuracy: 91.8240\n",
      "Epoch-30 Test Loss: 0.5250 Test Accuracy: 83.8400\n"
     ]
    },
    {
     "name": "stderr",
     "output_type": "stream",
     "text": [
      "100%|██████████| 3125/3125 [01:18<00:00, 39.97it/s, train_accuracy=92.4, train_loss=0.126]  \n",
      "100%|██████████| 625/625 [00:06<00:00, 91.47it/s, test_accuracy=84.9, test_loss=0.444]  \n"
     ]
    },
    {
     "name": "stdout",
     "output_type": "stream",
     "text": [
      "Epoch-31 Train Loss: 0.2233 Train Accuracy: 92.3540\n",
      "Epoch-31 Test Loss: 0.4892 Test Accuracy: 84.9400\n"
     ]
    },
    {
     "name": "stderr",
     "output_type": "stream",
     "text": [
      "100%|██████████| 3125/3125 [01:19<00:00, 39.23it/s, train_accuracy=92.5, train_loss=0.0308] \n",
      "100%|██████████| 625/625 [00:06<00:00, 89.74it/s, test_accuracy=84.2, test_loss=0.401]   \n"
     ]
    },
    {
     "name": "stdout",
     "output_type": "stream",
     "text": [
      "Epoch-32 Train Loss: 0.2170 Train Accuracy: 92.4500\n",
      "Epoch-32 Test Loss: 0.5117 Test Accuracy: 84.2000\n"
     ]
    },
    {
     "name": "stderr",
     "output_type": "stream",
     "text": [
      "100%|██████████| 3125/3125 [01:19<00:00, 39.16it/s, train_accuracy=92.9, train_loss=0.154]  \n",
      "100%|██████████| 625/625 [00:06<00:00, 91.20it/s, test_accuracy=85.1, test_loss=0.405]  \n"
     ]
    },
    {
     "name": "stdout",
     "output_type": "stream",
     "text": [
      "Saving new Best Model!\n",
      "Epoch-33 Train Loss: 0.2036 Train Accuracy: 92.9080\n",
      "Epoch-33 Test Loss: 0.5004 Test Accuracy: 85.1300\n"
     ]
    },
    {
     "name": "stderr",
     "output_type": "stream",
     "text": [
      "100%|██████████| 3125/3125 [01:16<00:00, 40.65it/s, train_accuracy=93.6, train_loss=0.55]   \n",
      "100%|██████████| 625/625 [00:06<00:00, 92.10it/s, test_accuracy=85.7, test_loss=0.806]  \n"
     ]
    },
    {
     "name": "stdout",
     "output_type": "stream",
     "text": [
      "Saving new Best Model!\n",
      "Epoch-34 Train Loss: 0.1896 Train Accuracy: 93.5700\n",
      "Epoch-34 Test Loss: 0.4920 Test Accuracy: 85.7300\n"
     ]
    },
    {
     "name": "stderr",
     "output_type": "stream",
     "text": [
      "100%|██████████| 3125/3125 [01:19<00:00, 39.23it/s, train_accuracy=93.6, train_loss=0.0536] \n",
      "100%|██████████| 625/625 [00:06<00:00, 89.47it/s, test_accuracy=85.1, test_loss=0.542]   \n"
     ]
    },
    {
     "name": "stdout",
     "output_type": "stream",
     "text": [
      "Epoch-35 Train Loss: 0.1819 Train Accuracy: 93.6480\n",
      "Epoch-35 Test Loss: 0.4961 Test Accuracy: 85.1400\n"
     ]
    },
    {
     "name": "stderr",
     "output_type": "stream",
     "text": [
      "100%|██████████| 3125/3125 [01:18<00:00, 39.85it/s, train_accuracy=94, train_loss=0.536]    \n",
      "100%|██████████| 625/625 [00:06<00:00, 93.44it/s, test_accuracy=85.1, test_loss=0.734]  \n"
     ]
    },
    {
     "name": "stdout",
     "output_type": "stream",
     "text": [
      "Epoch-36 Train Loss: 0.1738 Train Accuracy: 94.0180\n",
      "Epoch-36 Test Loss: 0.5229 Test Accuracy: 85.1300\n"
     ]
    },
    {
     "name": "stderr",
     "output_type": "stream",
     "text": [
      "100%|██████████| 3125/3125 [01:19<00:00, 39.42it/s, train_accuracy=94.2, train_loss=0.44]   \n",
      "100%|██████████| 625/625 [00:06<00:00, 90.27it/s, test_accuracy=83.3, test_loss=0.236]   \n"
     ]
    },
    {
     "name": "stdout",
     "output_type": "stream",
     "text": [
      "Epoch-37 Train Loss: 0.1658 Train Accuracy: 94.1680\n",
      "Epoch-37 Test Loss: 0.5922 Test Accuracy: 83.2800\n"
     ]
    },
    {
     "name": "stderr",
     "output_type": "stream",
     "text": [
      "100%|██████████| 3125/3125 [01:19<00:00, 39.20it/s, train_accuracy=94.6, train_loss=0.0428] \n",
      "100%|██████████| 625/625 [00:07<00:00, 87.24it/s, test_accuracy=84.8, test_loss=1.33]    \n"
     ]
    },
    {
     "name": "stdout",
     "output_type": "stream",
     "text": [
      "Epoch-38 Train Loss: 0.1566 Train Accuracy: 94.6020\n",
      "Epoch-38 Test Loss: 0.5445 Test Accuracy: 84.7500\n"
     ]
    },
    {
     "name": "stderr",
     "output_type": "stream",
     "text": [
      "100%|██████████| 3125/3125 [01:21<00:00, 38.44it/s, train_accuracy=95, train_loss=0.0135]   \n",
      "100%|██████████| 625/625 [00:06<00:00, 93.94it/s, test_accuracy=84.4, test_loss=0.816]  \n"
     ]
    },
    {
     "name": "stdout",
     "output_type": "stream",
     "text": [
      "Epoch-39 Train Loss: 0.1459 Train Accuracy: 94.9680\n",
      "Epoch-39 Test Loss: 0.5551 Test Accuracy: 84.3700\n"
     ]
    },
    {
     "name": "stderr",
     "output_type": "stream",
     "text": [
      "100%|██████████| 3125/3125 [01:18<00:00, 39.69it/s, train_accuracy=95, train_loss=0.231]    \n",
      "100%|██████████| 625/625 [00:06<00:00, 94.32it/s, test_accuracy=84.7, test_loss=0.661]   \n"
     ]
    },
    {
     "name": "stdout",
     "output_type": "stream",
     "text": [
      "Epoch-40 Train Loss: 0.1422 Train Accuracy: 95.0480\n",
      "Epoch-40 Test Loss: 0.5395 Test Accuracy: 84.6500\n"
     ]
    },
    {
     "name": "stderr",
     "output_type": "stream",
     "text": [
      "100%|██████████| 3125/3125 [01:18<00:00, 39.61it/s, train_accuracy=95.7, train_loss=0.346]  \n",
      "100%|██████████| 625/625 [00:06<00:00, 95.24it/s, test_accuracy=85.2, test_loss=0.596]   \n"
     ]
    },
    {
     "name": "stdout",
     "output_type": "stream",
     "text": [
      "Epoch-41 Train Loss: 0.1268 Train Accuracy: 95.6620\n",
      "Epoch-41 Test Loss: 0.5558 Test Accuracy: 85.1500\n"
     ]
    },
    {
     "name": "stderr",
     "output_type": "stream",
     "text": [
      "100%|██████████| 3125/3125 [01:20<00:00, 38.96it/s, train_accuracy=95.7, train_loss=0.19]   \n",
      "100%|██████████| 625/625 [00:06<00:00, 93.97it/s, test_accuracy=85.9, test_loss=0.438]   \n"
     ]
    },
    {
     "name": "stdout",
     "output_type": "stream",
     "text": [
      "Saving new Best Model!\n",
      "Epoch-42 Train Loss: 0.1247 Train Accuracy: 95.6960\n",
      "Epoch-42 Test Loss: 0.5158 Test Accuracy: 85.8800\n"
     ]
    },
    {
     "name": "stderr",
     "output_type": "stream",
     "text": [
      "100%|██████████| 3125/3125 [01:19<00:00, 39.40it/s, train_accuracy=96, train_loss=0.222]    \n",
      "100%|██████████| 625/625 [00:06<00:00, 95.02it/s, test_accuracy=84.7, test_loss=1.02]    \n"
     ]
    },
    {
     "name": "stdout",
     "output_type": "stream",
     "text": [
      "Epoch-43 Train Loss: 0.1148 Train Accuracy: 96.0160\n",
      "Epoch-43 Test Loss: 0.5629 Test Accuracy: 84.6600\n"
     ]
    },
    {
     "name": "stderr",
     "output_type": "stream",
     "text": [
      "100%|██████████| 3125/3125 [01:19<00:00, 39.44it/s, train_accuracy=96.3, train_loss=0.067]  \n",
      "100%|██████████| 625/625 [00:06<00:00, 92.58it/s, test_accuracy=85.4, test_loss=0.597]  \n"
     ]
    },
    {
     "name": "stdout",
     "output_type": "stream",
     "text": [
      "Epoch-44 Train Loss: 0.1089 Train Accuracy: 96.2860\n",
      "Epoch-44 Test Loss: 0.5401 Test Accuracy: 85.3700\n"
     ]
    },
    {
     "name": "stderr",
     "output_type": "stream",
     "text": [
      "100%|██████████| 3125/3125 [01:17<00:00, 40.26it/s, train_accuracy=96.5, train_loss=0.178]   \n",
      "100%|██████████| 625/625 [00:06<00:00, 93.79it/s, test_accuracy=85.4, test_loss=0.41]     \n"
     ]
    },
    {
     "name": "stdout",
     "output_type": "stream",
     "text": [
      "Epoch-45 Train Loss: 0.1017 Train Accuracy: 96.5160\n",
      "Epoch-45 Test Loss: 0.5497 Test Accuracy: 85.3700\n"
     ]
    },
    {
     "name": "stderr",
     "output_type": "stream",
     "text": [
      "100%|██████████| 3125/3125 [01:17<00:00, 40.08it/s, train_accuracy=96.7, train_loss=0.307]   \n",
      "100%|██████████| 625/625 [00:06<00:00, 92.52it/s, test_accuracy=85.6, test_loss=0.181]   \n"
     ]
    },
    {
     "name": "stdout",
     "output_type": "stream",
     "text": [
      "Epoch-46 Train Loss: 0.0953 Train Accuracy: 96.7260\n",
      "Epoch-46 Test Loss: 0.5462 Test Accuracy: 85.6100\n"
     ]
    },
    {
     "name": "stderr",
     "output_type": "stream",
     "text": [
      "100%|██████████| 3125/3125 [01:17<00:00, 40.51it/s, train_accuracy=96.7, train_loss=0.124]   \n",
      "100%|██████████| 625/625 [00:06<00:00, 92.54it/s, test_accuracy=85.2, test_loss=0.203]   \n"
     ]
    },
    {
     "name": "stdout",
     "output_type": "stream",
     "text": [
      "Epoch-47 Train Loss: 0.0938 Train Accuracy: 96.7460\n",
      "Epoch-47 Test Loss: 0.5831 Test Accuracy: 85.1600\n"
     ]
    },
    {
     "name": "stderr",
     "output_type": "stream",
     "text": [
      "100%|██████████| 3125/3125 [01:17<00:00, 40.19it/s, train_accuracy=97.1, train_loss=0.0715]  \n",
      "100%|██████████| 625/625 [00:06<00:00, 93.64it/s, test_accuracy=85.7, test_loss=0.211]   \n"
     ]
    },
    {
     "name": "stdout",
     "output_type": "stream",
     "text": [
      "Epoch-48 Train Loss: 0.0837 Train Accuracy: 97.1320\n",
      "Epoch-48 Test Loss: 0.5744 Test Accuracy: 85.7400\n"
     ]
    },
    {
     "name": "stderr",
     "output_type": "stream",
     "text": [
      "100%|██████████| 3125/3125 [01:18<00:00, 39.68it/s, train_accuracy=97.4, train_loss=0.0169]  \n",
      "100%|██████████| 625/625 [00:06<00:00, 93.49it/s, test_accuracy=85.9, test_loss=0.455]   \n"
     ]
    },
    {
     "name": "stdout",
     "output_type": "stream",
     "text": [
      "Saving new Best Model!\n",
      "Epoch-49 Train Loss: 0.0778 Train Accuracy: 97.3620\n",
      "Epoch-49 Test Loss: 0.5824 Test Accuracy: 85.8900\n"
     ]
    },
    {
     "name": "stderr",
     "output_type": "stream",
     "text": [
      "100%|██████████| 3125/3125 [01:17<00:00, 40.22it/s, train_accuracy=97.5, train_loss=0.0254]  \n",
      "100%|██████████| 625/625 [00:06<00:00, 94.09it/s, test_accuracy=85.2, test_loss=0.216]    \n"
     ]
    },
    {
     "name": "stdout",
     "output_type": "stream",
     "text": [
      "Epoch-50 Train Loss: 0.0752 Train Accuracy: 97.4640\n",
      "Epoch-50 Test Loss: 0.6120 Test Accuracy: 85.1500\n"
     ]
    },
    {
     "name": "stderr",
     "output_type": "stream",
     "text": [
      "100%|██████████| 3125/3125 [01:17<00:00, 40.30it/s, train_accuracy=97.7, train_loss=0.181]   \n",
      "100%|██████████| 625/625 [00:06<00:00, 91.15it/s, test_accuracy=85.5, test_loss=0.4]     \n"
     ]
    },
    {
     "name": "stdout",
     "output_type": "stream",
     "text": [
      "Epoch-51 Train Loss: 0.0665 Train Accuracy: 97.7480\n",
      "Epoch-51 Test Loss: 0.5832 Test Accuracy: 85.5200\n"
     ]
    },
    {
     "name": "stderr",
     "output_type": "stream",
     "text": [
      "100%|██████████| 3125/3125 [01:18<00:00, 39.68it/s, train_accuracy=97.8, train_loss=0.121]   \n",
      "100%|██████████| 625/625 [00:06<00:00, 96.24it/s, test_accuracy=85.3, test_loss=0.901]    \n"
     ]
    },
    {
     "name": "stdout",
     "output_type": "stream",
     "text": [
      "Epoch-52 Train Loss: 0.0641 Train Accuracy: 97.8260\n",
      "Epoch-52 Test Loss: 0.5980 Test Accuracy: 85.3400\n"
     ]
    },
    {
     "name": "stderr",
     "output_type": "stream",
     "text": [
      "100%|██████████| 3125/3125 [01:19<00:00, 39.30it/s, train_accuracy=98, train_loss=0.0145]    \n",
      "100%|██████████| 625/625 [00:06<00:00, 93.81it/s, test_accuracy=85.2, test_loss=0.127]   \n"
     ]
    },
    {
     "name": "stdout",
     "output_type": "stream",
     "text": [
      "Epoch-53 Train Loss: 0.0591 Train Accuracy: 97.9760\n",
      "Epoch-53 Test Loss: 0.6121 Test Accuracy: 85.2100\n"
     ]
    },
    {
     "name": "stderr",
     "output_type": "stream",
     "text": [
      "100%|██████████| 3125/3125 [01:20<00:00, 39.02it/s, train_accuracy=98.2, train_loss=0.0403]  \n",
      "100%|██████████| 625/625 [00:06<00:00, 92.80it/s, test_accuracy=85.7, test_loss=0.313]   \n"
     ]
    },
    {
     "name": "stdout",
     "output_type": "stream",
     "text": [
      "Epoch-54 Train Loss: 0.0548 Train Accuracy: 98.1980\n",
      "Epoch-54 Test Loss: 0.5834 Test Accuracy: 85.7300\n"
     ]
    },
    {
     "name": "stderr",
     "output_type": "stream",
     "text": [
      "100%|██████████| 3125/3125 [01:20<00:00, 38.88it/s, train_accuracy=98.4, train_loss=0.057]   \n",
      "100%|██████████| 625/625 [00:06<00:00, 92.40it/s, test_accuracy=85.5, test_loss=0.369]   \n"
     ]
    },
    {
     "name": "stdout",
     "output_type": "stream",
     "text": [
      "Epoch-55 Train Loss: 0.0501 Train Accuracy: 98.4000\n",
      "Epoch-55 Test Loss: 0.6021 Test Accuracy: 85.4600\n"
     ]
    },
    {
     "name": "stderr",
     "output_type": "stream",
     "text": [
      "100%|██████████| 3125/3125 [01:16<00:00, 41.02it/s, train_accuracy=98.4, train_loss=0.106]   \n",
      "100%|██████████| 625/625 [00:06<00:00, 92.95it/s, test_accuracy=85.4, test_loss=0.0208]   \n"
     ]
    },
    {
     "name": "stdout",
     "output_type": "stream",
     "text": [
      "Epoch-56 Train Loss: 0.0477 Train Accuracy: 98.4400\n",
      "Epoch-56 Test Loss: 0.6313 Test Accuracy: 85.4000\n"
     ]
    },
    {
     "name": "stderr",
     "output_type": "stream",
     "text": [
      "100%|██████████| 3125/3125 [01:17<00:00, 40.14it/s, train_accuracy=98.6, train_loss=0.0218]  \n",
      "100%|██████████| 625/625 [00:06<00:00, 96.02it/s, test_accuracy=86, test_loss=0.884]     \n"
     ]
    },
    {
     "name": "stdout",
     "output_type": "stream",
     "text": [
      "Saving new Best Model!\n",
      "Epoch-57 Train Loss: 0.0437 Train Accuracy: 98.5740\n",
      "Epoch-57 Test Loss: 0.6150 Test Accuracy: 86.0300\n"
     ]
    },
    {
     "name": "stderr",
     "output_type": "stream",
     "text": [
      "100%|██████████| 3125/3125 [01:19<00:00, 39.53it/s, train_accuracy=98.6, train_loss=0.0445]  \n",
      "100%|██████████| 625/625 [00:06<00:00, 96.79it/s, test_accuracy=85.7, test_loss=0.727]   \n"
     ]
    },
    {
     "name": "stdout",
     "output_type": "stream",
     "text": [
      "Epoch-58 Train Loss: 0.0427 Train Accuracy: 98.5540\n",
      "Epoch-58 Test Loss: 0.6190 Test Accuracy: 85.7100\n"
     ]
    },
    {
     "name": "stderr",
     "output_type": "stream",
     "text": [
      "100%|██████████| 3125/3125 [01:18<00:00, 39.87it/s, train_accuracy=98.8, train_loss=0.163]   \n",
      "100%|██████████| 625/625 [00:06<00:00, 96.44it/s, test_accuracy=85.8, test_loss=0.169]   \n"
     ]
    },
    {
     "name": "stdout",
     "output_type": "stream",
     "text": [
      "Epoch-59 Train Loss: 0.0385 Train Accuracy: 98.7740\n",
      "Epoch-59 Test Loss: 0.6242 Test Accuracy: 85.7600\n"
     ]
    },
    {
     "name": "stderr",
     "output_type": "stream",
     "text": [
      "100%|██████████| 3125/3125 [01:19<00:00, 39.28it/s, train_accuracy=98.8, train_loss=0.0303]  \n",
      "100%|██████████| 625/625 [00:06<00:00, 96.16it/s, test_accuracy=85.7, test_loss=0.255]   \n"
     ]
    },
    {
     "name": "stdout",
     "output_type": "stream",
     "text": [
      "Epoch-60 Train Loss: 0.0374 Train Accuracy: 98.7840\n",
      "Epoch-60 Test Loss: 0.6389 Test Accuracy: 85.6600\n"
     ]
    },
    {
     "name": "stderr",
     "output_type": "stream",
     "text": [
      "100%|██████████| 3125/3125 [01:17<00:00, 40.55it/s, train_accuracy=99, train_loss=0.0276]   \n",
      "100%|██████████| 625/625 [00:06<00:00, 94.20it/s, test_accuracy=85.4, test_loss=1.27]    \n"
     ]
    },
    {
     "name": "stdout",
     "output_type": "stream",
     "text": [
      "Epoch-61 Train Loss: 0.0321 Train Accuracy: 98.9940\n",
      "Epoch-61 Test Loss: 0.6666 Test Accuracy: 85.4000\n"
     ]
    },
    {
     "name": "stderr",
     "output_type": "stream",
     "text": [
      "100%|██████████| 3125/3125 [01:16<00:00, 41.10it/s, train_accuracy=99, train_loss=0.00317]   \n",
      "100%|██████████| 625/625 [00:06<00:00, 95.42it/s, test_accuracy=85.8, test_loss=0.407]    \n"
     ]
    },
    {
     "name": "stdout",
     "output_type": "stream",
     "text": [
      "Epoch-62 Train Loss: 0.0302 Train Accuracy: 99.0440\n",
      "Epoch-62 Test Loss: 0.6501 Test Accuracy: 85.8200\n"
     ]
    },
    {
     "name": "stderr",
     "output_type": "stream",
     "text": [
      "100%|██████████| 3125/3125 [01:18<00:00, 39.73it/s, train_accuracy=99.2, train_loss=0.00363] \n",
      "100%|██████████| 625/625 [00:06<00:00, 95.86it/s, test_accuracy=86.2, test_loss=0.232]   \n"
     ]
    },
    {
     "name": "stdout",
     "output_type": "stream",
     "text": [
      "Saving new Best Model!\n",
      "Epoch-63 Train Loss: 0.0266 Train Accuracy: 99.2080\n",
      "Epoch-63 Test Loss: 0.6434 Test Accuracy: 86.1600\n"
     ]
    },
    {
     "name": "stderr",
     "output_type": "stream",
     "text": [
      "100%|██████████| 3125/3125 [01:18<00:00, 39.97it/s, train_accuracy=99.2, train_loss=0.119]   \n",
      "100%|██████████| 625/625 [00:06<00:00, 95.37it/s, test_accuracy=86.3, test_loss=1.29]     \n"
     ]
    },
    {
     "name": "stdout",
     "output_type": "stream",
     "text": [
      "Saving new Best Model!\n",
      "Epoch-64 Train Loss: 0.0250 Train Accuracy: 99.2380\n",
      "Epoch-64 Test Loss: 0.6373 Test Accuracy: 86.3000\n"
     ]
    },
    {
     "name": "stderr",
     "output_type": "stream",
     "text": [
      "100%|██████████| 3125/3125 [01:18<00:00, 39.87it/s, train_accuracy=99.3, train_loss=0.0288]  \n",
      "100%|██████████| 625/625 [00:06<00:00, 93.78it/s, test_accuracy=86.2, test_loss=1.98]    \n"
     ]
    },
    {
     "name": "stdout",
     "output_type": "stream",
     "text": [
      "Epoch-65 Train Loss: 0.0236 Train Accuracy: 99.3060\n",
      "Epoch-65 Test Loss: 0.6588 Test Accuracy: 86.1600\n"
     ]
    },
    {
     "name": "stderr",
     "output_type": "stream",
     "text": [
      "100%|██████████| 3125/3125 [01:19<00:00, 39.06it/s, train_accuracy=99.4, train_loss=0.000466]\n",
      "100%|██████████| 625/625 [00:06<00:00, 94.52it/s, test_accuracy=85.5, test_loss=0.74]     \n"
     ]
    },
    {
     "name": "stdout",
     "output_type": "stream",
     "text": [
      "Epoch-66 Train Loss: 0.0229 Train Accuracy: 99.3700\n",
      "Epoch-66 Test Loss: 0.6753 Test Accuracy: 85.5000\n"
     ]
    },
    {
     "name": "stderr",
     "output_type": "stream",
     "text": [
      "100%|██████████| 3125/3125 [01:18<00:00, 39.67it/s, train_accuracy=99.4, train_loss=0.0111]  \n",
      "100%|██████████| 625/625 [00:06<00:00, 94.26it/s, test_accuracy=86.2, test_loss=0.292]   \n"
     ]
    },
    {
     "name": "stdout",
     "output_type": "stream",
     "text": [
      "Epoch-67 Train Loss: 0.0205 Train Accuracy: 99.3800\n",
      "Epoch-67 Test Loss: 0.6588 Test Accuracy: 86.2000\n"
     ]
    },
    {
     "name": "stderr",
     "output_type": "stream",
     "text": [
      "100%|██████████| 3125/3125 [01:19<00:00, 39.46it/s, train_accuracy=99.5, train_loss=0.0972]  \n",
      "100%|██████████| 625/625 [00:06<00:00, 96.28it/s, test_accuracy=86.2, test_loss=0.499]    \n"
     ]
    },
    {
     "name": "stdout",
     "output_type": "stream",
     "text": [
      "Epoch-68 Train Loss: 0.0175 Train Accuracy: 99.5300\n",
      "Epoch-68 Test Loss: 0.6529 Test Accuracy: 86.2500\n"
     ]
    },
    {
     "name": "stderr",
     "output_type": "stream",
     "text": [
      "100%|██████████| 3125/3125 [01:17<00:00, 40.54it/s, train_accuracy=99.5, train_loss=0.0146]  \n",
      "100%|██████████| 625/625 [00:06<00:00, 94.48it/s, test_accuracy=86.2, test_loss=0.892]    \n"
     ]
    },
    {
     "name": "stdout",
     "output_type": "stream",
     "text": [
      "Epoch-69 Train Loss: 0.0171 Train Accuracy: 99.5100\n",
      "Epoch-69 Test Loss: 0.6911 Test Accuracy: 86.2100\n"
     ]
    },
    {
     "name": "stderr",
     "output_type": "stream",
     "text": [
      "100%|██████████| 3125/3125 [01:18<00:00, 39.65it/s, train_accuracy=99.6, train_loss=0.000805]\n",
      "100%|██████████| 625/625 [00:06<00:00, 97.72it/s, test_accuracy=85.9, test_loss=0.285]    \n"
     ]
    },
    {
     "name": "stdout",
     "output_type": "stream",
     "text": [
      "Epoch-70 Train Loss: 0.0153 Train Accuracy: 99.5780\n",
      "Epoch-70 Test Loss: 0.6936 Test Accuracy: 85.9000\n"
     ]
    },
    {
     "name": "stderr",
     "output_type": "stream",
     "text": [
      "100%|██████████| 3125/3125 [01:20<00:00, 38.79it/s, train_accuracy=99.6, train_loss=0.0598]  \n",
      "100%|██████████| 625/625 [00:06<00:00, 91.15it/s, test_accuracy=86.1, test_loss=0.278]    \n"
     ]
    },
    {
     "name": "stdout",
     "output_type": "stream",
     "text": [
      "Epoch-71 Train Loss: 0.0150 Train Accuracy: 99.6080\n",
      "Epoch-71 Test Loss: 0.6860 Test Accuracy: 86.0800\n"
     ]
    },
    {
     "name": "stderr",
     "output_type": "stream",
     "text": [
      "100%|██████████| 3125/3125 [01:17<00:00, 40.32it/s, train_accuracy=99.6, train_loss=0.0148]  \n",
      "100%|██████████| 625/625 [00:06<00:00, 90.90it/s, test_accuracy=85.8, test_loss=1.28]     \n"
     ]
    },
    {
     "name": "stdout",
     "output_type": "stream",
     "text": [
      "Epoch-72 Train Loss: 0.0140 Train Accuracy: 99.6280\n",
      "Epoch-72 Test Loss: 0.7209 Test Accuracy: 85.7600\n"
     ]
    },
    {
     "name": "stderr",
     "output_type": "stream",
     "text": [
      "100%|██████████| 3125/3125 [01:18<00:00, 39.77it/s, train_accuracy=99.7, train_loss=0.00554] \n",
      "100%|██████████| 625/625 [00:06<00:00, 90.79it/s, test_accuracy=86.4, test_loss=0.0796]   \n"
     ]
    },
    {
     "name": "stdout",
     "output_type": "stream",
     "text": [
      "Saving new Best Model!\n",
      "Epoch-73 Train Loss: 0.0110 Train Accuracy: 99.7480\n",
      "Epoch-73 Test Loss: 0.6877 Test Accuracy: 86.3600\n"
     ]
    },
    {
     "name": "stderr",
     "output_type": "stream",
     "text": [
      "100%|██████████| 3125/3125 [01:17<00:00, 40.57it/s, train_accuracy=99.7, train_loss=0.0438]  \n",
      "100%|██████████| 625/625 [00:06<00:00, 92.72it/s, test_accuracy=86.5, test_loss=0.787]    \n"
     ]
    },
    {
     "name": "stdout",
     "output_type": "stream",
     "text": [
      "Saving new Best Model!\n",
      "Epoch-74 Train Loss: 0.0111 Train Accuracy: 99.7200\n",
      "Epoch-74 Test Loss: 0.6898 Test Accuracy: 86.5100\n"
     ]
    },
    {
     "name": "stderr",
     "output_type": "stream",
     "text": [
      "100%|██████████| 3125/3125 [01:18<00:00, 40.05it/s, train_accuracy=99.8, train_loss=0.0251]  \n",
      "100%|██████████| 625/625 [00:06<00:00, 94.90it/s, test_accuracy=86.4, test_loss=0.926]    \n"
     ]
    },
    {
     "name": "stdout",
     "output_type": "stream",
     "text": [
      "Epoch-75 Train Loss: 0.0097 Train Accuracy: 99.7640\n",
      "Epoch-75 Test Loss: 0.6837 Test Accuracy: 86.3900\n"
     ]
    },
    {
     "name": "stderr",
     "output_type": "stream",
     "text": [
      "100%|██████████| 3125/3125 [01:17<00:00, 40.07it/s, train_accuracy=99.8, train_loss=0.00202] \n",
      "100%|██████████| 625/625 [00:07<00:00, 87.70it/s, test_accuracy=86.3, test_loss=0.259]   \n"
     ]
    },
    {
     "name": "stdout",
     "output_type": "stream",
     "text": [
      "Epoch-76 Train Loss: 0.0089 Train Accuracy: 99.7960\n",
      "Epoch-76 Test Loss: 0.6919 Test Accuracy: 86.2800\n"
     ]
    },
    {
     "name": "stderr",
     "output_type": "stream",
     "text": [
      "100%|██████████| 3125/3125 [01:18<00:00, 39.75it/s, train_accuracy=99.8, train_loss=0.161]   \n",
      "100%|██████████| 625/625 [00:06<00:00, 93.25it/s, test_accuracy=86.2, test_loss=0.352]    \n"
     ]
    },
    {
     "name": "stdout",
     "output_type": "stream",
     "text": [
      "Epoch-77 Train Loss: 0.0085 Train Accuracy: 99.7960\n",
      "Epoch-77 Test Loss: 0.7192 Test Accuracy: 86.1800\n"
     ]
    },
    {
     "name": "stderr",
     "output_type": "stream",
     "text": [
      "100%|██████████| 3125/3125 [01:17<00:00, 40.23it/s, train_accuracy=99.8, train_loss=0.00124] \n",
      "100%|██████████| 625/625 [00:06<00:00, 93.73it/s, test_accuracy=86.3, test_loss=0.308]    \n"
     ]
    },
    {
     "name": "stdout",
     "output_type": "stream",
     "text": [
      "Epoch-78 Train Loss: 0.0075 Train Accuracy: 99.8360\n",
      "Epoch-78 Test Loss: 0.6924 Test Accuracy: 86.3000\n"
     ]
    },
    {
     "name": "stderr",
     "output_type": "stream",
     "text": [
      "100%|██████████| 3125/3125 [01:19<00:00, 39.34it/s, train_accuracy=99.9, train_loss=0.00128] \n",
      "100%|██████████| 625/625 [00:06<00:00, 93.01it/s, test_accuracy=86.3, test_loss=0.288]    \n"
     ]
    },
    {
     "name": "stdout",
     "output_type": "stream",
     "text": [
      "Epoch-79 Train Loss: 0.0064 Train Accuracy: 99.8660\n",
      "Epoch-79 Test Loss: 0.6978 Test Accuracy: 86.3500\n"
     ]
    },
    {
     "name": "stderr",
     "output_type": "stream",
     "text": [
      "100%|██████████| 3125/3125 [01:19<00:00, 39.31it/s, train_accuracy=99.9, train_loss=0.00127] \n",
      "100%|██████████| 625/625 [00:06<00:00, 92.61it/s, test_accuracy=86.2, test_loss=0.261]    \n"
     ]
    },
    {
     "name": "stdout",
     "output_type": "stream",
     "text": [
      "Epoch-80 Train Loss: 0.0068 Train Accuracy: 99.8580\n",
      "Epoch-80 Test Loss: 0.7017 Test Accuracy: 86.2400\n"
     ]
    },
    {
     "name": "stderr",
     "output_type": "stream",
     "text": [
      "100%|██████████| 3125/3125 [01:19<00:00, 39.47it/s, train_accuracy=99.9, train_loss=0.00645] \n",
      "100%|██████████| 625/625 [00:06<00:00, 90.40it/s, test_accuracy=86.3, test_loss=1.35]    \n"
     ]
    },
    {
     "name": "stdout",
     "output_type": "stream",
     "text": [
      "Epoch-81 Train Loss: 0.0059 Train Accuracy: 99.8880\n",
      "Epoch-81 Test Loss: 0.6939 Test Accuracy: 86.2900\n"
     ]
    },
    {
     "name": "stderr",
     "output_type": "stream",
     "text": [
      "100%|██████████| 3125/3125 [01:18<00:00, 39.59it/s, train_accuracy=99.9, train_loss=0.000255]\n",
      "100%|██████████| 625/625 [00:06<00:00, 92.62it/s, test_accuracy=86.4, test_loss=0.844]    \n"
     ]
    },
    {
     "name": "stdout",
     "output_type": "stream",
     "text": [
      "Epoch-82 Train Loss: 0.0052 Train Accuracy: 99.9100\n",
      "Epoch-82 Test Loss: 0.7017 Test Accuracy: 86.4000\n"
     ]
    },
    {
     "name": "stderr",
     "output_type": "stream",
     "text": [
      "100%|██████████| 3125/3125 [01:18<00:00, 39.58it/s, train_accuracy=99.9, train_loss=0.000193]\n",
      "100%|██████████| 625/625 [00:07<00:00, 83.42it/s, test_accuracy=86.5, test_loss=1.14]     \n"
     ]
    },
    {
     "name": "stdout",
     "output_type": "stream",
     "text": [
      "Epoch-83 Train Loss: 0.0043 Train Accuracy: 99.9220\n",
      "Epoch-83 Test Loss: 0.7051 Test Accuracy: 86.4700\n"
     ]
    },
    {
     "name": "stderr",
     "output_type": "stream",
     "text": [
      "100%|██████████| 3125/3125 [01:19<00:00, 39.10it/s, train_accuracy=100, train_loss=0.000702] \n",
      "100%|██████████| 625/625 [00:07<00:00, 85.92it/s, test_accuracy=86.4, test_loss=0.0927]   \n"
     ]
    },
    {
     "name": "stdout",
     "output_type": "stream",
     "text": [
      "Epoch-84 Train Loss: 0.0043 Train Accuracy: 99.9520\n",
      "Epoch-84 Test Loss: 0.7065 Test Accuracy: 86.4400\n"
     ]
    },
    {
     "name": "stderr",
     "output_type": "stream",
     "text": [
      "100%|██████████| 3125/3125 [01:19<00:00, 39.44it/s, train_accuracy=99.9, train_loss=0.000105]\n",
      "100%|██████████| 625/625 [00:06<00:00, 92.92it/s, test_accuracy=86.3, test_loss=0.00302]  \n"
     ]
    },
    {
     "name": "stdout",
     "output_type": "stream",
     "text": [
      "Epoch-85 Train Loss: 0.0042 Train Accuracy: 99.9260\n",
      "Epoch-85 Test Loss: 0.7024 Test Accuracy: 86.3300\n"
     ]
    },
    {
     "name": "stderr",
     "output_type": "stream",
     "text": [
      "100%|██████████| 3125/3125 [01:19<00:00, 39.34it/s, train_accuracy=100, train_loss=0.000473]\n",
      "100%|██████████| 625/625 [00:06<00:00, 94.68it/s, test_accuracy=86.7, test_loss=1.57]     \n"
     ]
    },
    {
     "name": "stdout",
     "output_type": "stream",
     "text": [
      "Saving new Best Model!\n",
      "Epoch-86 Train Loss: 0.0033 Train Accuracy: 99.9680\n",
      "Epoch-86 Test Loss: 0.7203 Test Accuracy: 86.7200\n"
     ]
    },
    {
     "name": "stderr",
     "output_type": "stream",
     "text": [
      "100%|██████████| 3125/3125 [01:20<00:00, 39.02it/s, train_accuracy=100, train_loss=0.011]   \n",
      "100%|██████████| 625/625 [00:06<00:00, 91.32it/s, test_accuracy=86.3, test_loss=0.115]    \n"
     ]
    },
    {
     "name": "stdout",
     "output_type": "stream",
     "text": [
      "Epoch-87 Train Loss: 0.0032 Train Accuracy: 99.9560\n",
      "Epoch-87 Test Loss: 0.7203 Test Accuracy: 86.2800\n"
     ]
    },
    {
     "name": "stderr",
     "output_type": "stream",
     "text": [
      "100%|██████████| 3125/3125 [01:19<00:00, 39.39it/s, train_accuracy=99.9, train_loss=0.0056]  \n",
      "100%|██████████| 625/625 [00:06<00:00, 92.99it/s, test_accuracy=86.6, test_loss=0.787]    \n"
     ]
    },
    {
     "name": "stdout",
     "output_type": "stream",
     "text": [
      "Epoch-88 Train Loss: 0.0032 Train Accuracy: 99.9480\n",
      "Epoch-88 Test Loss: 0.7204 Test Accuracy: 86.5800\n"
     ]
    },
    {
     "name": "stderr",
     "output_type": "stream",
     "text": [
      "100%|██████████| 3125/3125 [01:19<00:00, 39.46it/s, train_accuracy=100, train_loss=0.000918] \n",
      "100%|██████████| 625/625 [00:06<00:00, 93.76it/s, test_accuracy=86.5, test_loss=1.07]     \n"
     ]
    },
    {
     "name": "stdout",
     "output_type": "stream",
     "text": [
      "Epoch-89 Train Loss: 0.0029 Train Accuracy: 99.9600\n",
      "Epoch-89 Test Loss: 0.7200 Test Accuracy: 86.4700\n"
     ]
    },
    {
     "name": "stderr",
     "output_type": "stream",
     "text": [
      "100%|██████████| 3125/3125 [01:17<00:00, 40.48it/s, train_accuracy=100, train_loss=0.00148] \n",
      "100%|██████████| 625/625 [00:06<00:00, 95.51it/s, test_accuracy=86.5, test_loss=1.49]     \n"
     ]
    },
    {
     "name": "stdout",
     "output_type": "stream",
     "text": [
      "Epoch-90 Train Loss: 0.0025 Train Accuracy: 99.9820\n",
      "Epoch-90 Test Loss: 0.7149 Test Accuracy: 86.4800\n"
     ]
    },
    {
     "name": "stderr",
     "output_type": "stream",
     "text": [
      "100%|██████████| 3125/3125 [01:19<00:00, 39.37it/s, train_accuracy=100, train_loss=0.000195]\n",
      "100%|██████████| 625/625 [00:07<00:00, 84.64it/s, test_accuracy=86.5, test_loss=0.204]    \n"
     ]
    },
    {
     "name": "stdout",
     "output_type": "stream",
     "text": [
      "Epoch-91 Train Loss: 0.0028 Train Accuracy: 99.9680\n",
      "Epoch-91 Test Loss: 0.7040 Test Accuracy: 86.4600\n"
     ]
    },
    {
     "name": "stderr",
     "output_type": "stream",
     "text": [
      "100%|██████████| 3125/3125 [01:18<00:00, 39.85it/s, train_accuracy=100, train_loss=0.00199] \n",
      "100%|██████████| 625/625 [00:07<00:00, 84.51it/s, test_accuracy=86.5, test_loss=0.64]     \n"
     ]
    },
    {
     "name": "stdout",
     "output_type": "stream",
     "text": [
      "Epoch-92 Train Loss: 0.0028 Train Accuracy: 99.9580\n",
      "Epoch-92 Test Loss: 0.7028 Test Accuracy: 86.5100\n"
     ]
    },
    {
     "name": "stderr",
     "output_type": "stream",
     "text": [
      "100%|██████████| 3125/3125 [01:19<00:00, 39.38it/s, train_accuracy=100, train_loss=0.000307]\n",
      "100%|██████████| 625/625 [00:06<00:00, 91.04it/s, test_accuracy=86.4, test_loss=0.664]    \n"
     ]
    },
    {
     "name": "stdout",
     "output_type": "stream",
     "text": [
      "Epoch-93 Train Loss: 0.0026 Train Accuracy: 99.9700\n",
      "Epoch-93 Test Loss: 0.7211 Test Accuracy: 86.3600\n"
     ]
    },
    {
     "name": "stderr",
     "output_type": "stream",
     "text": [
      "100%|██████████| 3125/3125 [01:16<00:00, 40.63it/s, train_accuracy=100, train_loss=0.00356] \n",
      "100%|██████████| 625/625 [00:06<00:00, 90.36it/s, test_accuracy=86.8, test_loss=1.27]     \n"
     ]
    },
    {
     "name": "stdout",
     "output_type": "stream",
     "text": [
      "Saving new Best Model!\n",
      "Epoch-94 Train Loss: 0.0025 Train Accuracy: 99.9660\n",
      "Epoch-94 Test Loss: 0.7095 Test Accuracy: 86.7500\n"
     ]
    },
    {
     "name": "stderr",
     "output_type": "stream",
     "text": [
      "100%|██████████| 3125/3125 [01:18<00:00, 40.02it/s, train_accuracy=100, train_loss=0.000539]\n",
      "100%|██████████| 625/625 [00:06<00:00, 94.76it/s, test_accuracy=86.3, test_loss=0.0789]   \n"
     ]
    },
    {
     "name": "stdout",
     "output_type": "stream",
     "text": [
      "Epoch-95 Train Loss: 0.0028 Train Accuracy: 99.9600\n",
      "Epoch-95 Test Loss: 0.7186 Test Accuracy: 86.3000\n"
     ]
    },
    {
     "name": "stderr",
     "output_type": "stream",
     "text": [
      "100%|██████████| 3125/3125 [01:15<00:00, 41.28it/s, train_accuracy=100, train_loss=0.000574]\n",
      "100%|██████████| 625/625 [00:06<00:00, 94.56it/s, test_accuracy=86.7, test_loss=0.517]    \n"
     ]
    },
    {
     "name": "stdout",
     "output_type": "stream",
     "text": [
      "Epoch-96 Train Loss: 0.0024 Train Accuracy: 99.9740\n",
      "Epoch-96 Test Loss: 0.7109 Test Accuracy: 86.6500\n"
     ]
    },
    {
     "name": "stderr",
     "output_type": "stream",
     "text": [
      "100%|██████████| 3125/3125 [01:18<00:00, 40.05it/s, train_accuracy=100, train_loss=0.000241]\n",
      "100%|██████████| 625/625 [00:06<00:00, 95.22it/s, test_accuracy=86.6, test_loss=1.34]     \n"
     ]
    },
    {
     "name": "stdout",
     "output_type": "stream",
     "text": [
      "Epoch-97 Train Loss: 0.0022 Train Accuracy: 99.9700\n",
      "Epoch-97 Test Loss: 0.7128 Test Accuracy: 86.5600\n"
     ]
    },
    {
     "name": "stderr",
     "output_type": "stream",
     "text": [
      "100%|██████████| 3125/3125 [01:18<00:00, 40.03it/s, train_accuracy=100, train_loss=0.000654]\n",
      "100%|██████████| 625/625 [00:06<00:00, 92.06it/s, test_accuracy=86.6, test_loss=0.488]    \n"
     ]
    },
    {
     "name": "stdout",
     "output_type": "stream",
     "text": [
      "Epoch-98 Train Loss: 0.0022 Train Accuracy: 99.9780\n",
      "Epoch-98 Test Loss: 0.7089 Test Accuracy: 86.5700\n"
     ]
    },
    {
     "name": "stderr",
     "output_type": "stream",
     "text": [
      "100%|██████████| 3125/3125 [01:17<00:00, 40.35it/s, train_accuracy=100, train_loss=0.00138] \n",
      "100%|██████████| 625/625 [00:06<00:00, 95.02it/s, test_accuracy=86.5, test_loss=0.798]    \n"
     ]
    },
    {
     "name": "stdout",
     "output_type": "stream",
     "text": [
      "Epoch-99 Train Loss: 0.0023 Train Accuracy: 99.9680\n",
      "Epoch-99 Test Loss: 0.7084 Test Accuracy: 86.5300\n"
     ]
    },
    {
     "name": "stderr",
     "output_type": "stream",
     "text": [
      "100%|██████████| 3125/3125 [01:15<00:00, 41.14it/s, train_accuracy=100, train_loss=0.00415] \n",
      "100%|██████████| 625/625 [00:06<00:00, 96.32it/s, test_accuracy=86.7, test_loss=1.07]     "
     ]
    },
    {
     "name": "stdout",
     "output_type": "stream",
     "text": [
      "Epoch-100 Train Loss: 0.0023 Train Accuracy: 99.9820\n",
      "Epoch-100 Test Loss: 0.7066 Test Accuracy: 86.7200\n"
     ]
    },
    {
     "name": "stderr",
     "output_type": "stream",
     "text": [
      "\n"
     ]
    }
   ],
   "source": [
    "last_best = 0\n",
    "train_losses = []\n",
    "train_acc = []\n",
    "test_losses = []\n",
    "test_acc = []\n",
    "for epoch in range (EPOCHS):\n",
    "    \n",
    "    train_loss, train_accuracy = trainEpoch(DEVICE, model, train_loader, optimizer, criterion)\n",
    "    test_loss, test_accuracy = testEpoch(DEVICE, model, test_loader, criterion)\n",
    "\n",
    "    train_losses.append(train_loss)\n",
    "    train_acc.append(train_accuracy)\n",
    "    test_losses.append(test_loss)\n",
    "    test_acc.append(test_accuracy)\n",
    "\n",
    "    scheduler.step()\n",
    "\n",
    "    if last_best <= test_accuracy:\n",
    "        torch.save(model.state_dict(), 'vanillaSqzNet.pt')\n",
    "        print(\"Saving new Best Model!\")\n",
    "        last_best = test_accuracy\n",
    "\n",
    "    print(f\"Epoch-{epoch+1} Train Loss: {train_losses[-1]:.4f} Train Accuracy: {train_acc[-1]:.4f}\")\n",
    "    print(f\"Epoch-{epoch+1} Test Loss: {test_losses[-1]:.4f} Test Accuracy: {test_acc[-1]:.4f}\")\n",
    "\n",
    "# dict = {'train_loss': train_losses, 'train_accuracy': train_acc, 'test_loss': test_losses, 'test_accuracy': test_acc}\n",
    "# df = pd.DataFrame(dict)\n",
    "# df.to_csv('loss_and_acc_resnet50_baseline.csv')"
   ]
  },
  {
   "cell_type": "code",
   "execution_count": null,
   "id": "f9db59a6-28cb-47a4-bf42-fcb80e0b7177",
   "metadata": {},
   "outputs": [],
   "source": []
  }
 ],
 "metadata": {
  "kernelspec": {
   "display_name": "Python 3",
   "language": "python",
   "name": "python3"
  },
  "language_info": {
   "codemirror_mode": {
    "name": "ipython",
    "version": 3
   },
   "file_extension": ".py",
   "mimetype": "text/x-python",
   "name": "python",
   "nbconvert_exporter": "python",
   "pygments_lexer": "ipython3",
   "version": "3.8.12"
  }
 },
 "nbformat": 4,
 "nbformat_minor": 5
}
