{
 "cells": [
  {
   "cell_type": "code",
   "execution_count": 1,
   "metadata": {},
   "outputs": [
    {
     "data": {
      "text/plain": [
       "<torch._C.Generator at 0x7f90300db390>"
      ]
     },
     "execution_count": 1,
     "metadata": {},
     "output_type": "execute_result"
    }
   ],
   "source": [
    "import torch\n",
    "import torchvision\n",
    "import torch.nn as nn\n",
    "import torch.nn.functional as F\n",
    "from torch.nn import Conv2d, MaxPool2d, Dropout, BatchNorm2d, ReLU, Module\n",
    "from torch.utils.data import DataLoader, Dataset\n",
    "import torchvision.transforms as transforms\n",
    "from torchvision.io import read_image\n",
    "import numpy as np\n",
    "import pandas as pd\n",
    "import matplotlib.pyplot as plt\n",
    "import os\n",
    "from PIL import Image\n",
    "from tqdm import tqdm\n",
    "import os\n",
    "import cv2\n",
    "torch.manual_seed(22)"
   ]
  },
  {
   "cell_type": "code",
   "execution_count": 2,
   "metadata": {},
   "outputs": [],
   "source": [
    "train_data_path = \"../../DATASETS/classification_datasets/face_expression_recognation/train\"\n",
    "test_data_path = \"../../DATASETS/classification_datasets/face_expression_recognation/validation\"\n",
    "device=torch.device('cuda:2' if torch.cuda.is_available() else 'cpu')\n",
    "epochs=50\n",
    "learning_rate=3e-4\n",
    "momentum=0.9\n",
    "batch_size = 16\n",
    "num_classes=7"
   ]
  },
  {
   "cell_type": "code",
   "execution_count": 3,
   "metadata": {},
   "outputs": [],
   "source": [
    "class FaceRecognationDataset(Dataset):\n",
    "    def __init__(self, data_path, transforms=None):\n",
    "        super(FaceRecognationDataset, self)\n",
    "        self.data_path=data_path\n",
    "        self.transforms=transforms\n",
    "        self.classes = os.listdir(data_path)\n",
    "\n",
    "        images_path = []\n",
    "        labels_dict = {}\n",
    "\n",
    "        for i, class_name in enumerate(self.classes):\n",
    "            class_path = os.path.join(data_path, class_name)\n",
    "            for image_path in os.listdir(class_path):\n",
    "                image_path = os.path.join(class_path, image_path)\n",
    "                images_path.append(image_path)\n",
    "                labels_dict[image_path] = i\n",
    "\n",
    "        self.images_path_list = images_path\n",
    "        self.labels_dict = labels_dict\n",
    "\n",
    "    def __len__(self):\n",
    "        return len(self.images_path_list)\n",
    "\n",
    "    def __getitem__(self,index):\n",
    "        image_path = self.images_path_list[index]\n",
    "        label = self.labels_dict[image_path]\n",
    "        image = Image.open(image_path).convert(\"RGB\")\n",
    "\n",
    "        if self.transforms != None:\n",
    "            image = self.transforms(image)\n",
    "\n",
    "        return image, label"
   ]
  },
  {
   "cell_type": "code",
   "execution_count": 4,
   "metadata": {},
   "outputs": [],
   "source": [
    "my_transforms = transforms.Compose([\n",
    "    transforms.Resize(308),\n",
    "    transforms.CenterCrop(299),\n",
    "    transforms.ToTensor()])"
   ]
  },
  {
   "cell_type": "code",
   "execution_count": 5,
   "metadata": {},
   "outputs": [],
   "source": [
    "train_dataset = FaceRecognationDataset(train_data_path, transforms=my_transforms)\n",
    "test_dataset = FaceRecognationDataset(test_data_path, transforms=my_transforms)\n",
    "\n",
    "train_loader = DataLoader(train_dataset, shuffle=True, batch_size=batch_size, num_workers=2)\n",
    "test_loader = DataLoader(test_dataset, shuffle=True, batch_size=batch_size, num_workers=2)"
   ]
  },
  {
   "cell_type": "code",
   "execution_count": 6,
   "metadata": {},
   "outputs": [
    {
     "name": "stdout",
     "output_type": "stream",
     "text": [
      "Train set: 28821\n",
      "Test set: 7066\n"
     ]
    }
   ],
   "source": [
    "print(f\"Train set: {len(train_dataset)}\")\n",
    "print(f\"Test set: {len(test_dataset)}\")"
   ]
  },
  {
   "cell_type": "code",
   "execution_count": 7,
   "metadata": {},
   "outputs": [
    {
     "data": {
      "text/plain": [
       "{'angry': 3993,\n",
       " 'happy': 7164,\n",
       " 'surprise': 3205,\n",
       " 'sad': 4938,\n",
       " 'neutral': 4982,\n",
       " 'disgust': 436,\n",
       " 'fear': 4103}"
      ]
     },
     "execution_count": 7,
     "metadata": {},
     "output_type": "execute_result"
    }
   ],
   "source": [
    "classes = os.listdir(train_data_path)\n",
    "dist_dict = {}\n",
    "for class_name in classes:\n",
    "    single_class_path = os.path.join(train_data_path, class_name)\n",
    "    num_files = len(os.listdir(single_class_path))\n",
    "    dist_dict[class_name] = num_files\n",
    "dist_dict"
   ]
  },
  {
   "cell_type": "code",
   "execution_count": 8,
   "metadata": {},
   "outputs": [
    {
     "data": {
      "image/png": "[encoded data removed]",
      "text/plain": [
       "<Figure size 432x288 with 1 Axes>"
      ]
     },
     "metadata": {
      "needs_background": "light"
     },
     "output_type": "display_data"
    }
   ],
   "source": [
    "classes = list(dist_dict.keys())\n",
    "counts = list(dist_dict.values())\n",
    "fig, ax = plt.subplots()\n",
    "bars = plt.bar(classes, counts, color='blue')\n",
    "\n",
    "# Add annotations on top of each bar\n",
    "for bar, count in zip(bars, counts):\n",
    "    height = bar.get_height()\n",
    "    ax.annotate(f'{count}', xy=(bar.get_x() + bar.get_width() / 2, height),\n",
    "                xytext=(0, 3),  # 3 points vertical offset\n",
    "                textcoords=\"offset points\",\n",
    "                ha='center', va='bottom')\n",
    "\n",
    "plt.xlabel('Classes')\n",
    "plt.ylabel('Number of Items')\n",
    "plt.title('Class Distribution with Counts')\n",
    "plt.show()"
   ]
  },
  {
   "cell_type": "code",
   "execution_count": 9,
   "metadata": {},
   "outputs": [],
   "source": [
    "\n",
    "class ConvBlock(nn.Module):\n",
    "    def __init__(self, in_channels, out_channels, act = False, **kwargs):\n",
    "        super(ConvBlock, self).__init__()\n",
    "        self.in_channels = in_channels\n",
    "        self.out_channels = out_channels\n",
    "        self.act = act\n",
    "\n",
    "        self.conv = nn.Conv2d(in_channels, out_channels, **kwargs)\n",
    "        self.batchnorm = nn.BatchNorm2d(out_channels)\n",
    "        \n",
    "    def forward(self, x):\n",
    "        x = self.conv(x)\n",
    "        x = self.batchnorm(x)\n",
    "        if self.act == True:\n",
    "            return F.relu(x)\n",
    "        else: \n",
    "            return x"
   ]
  },
  {
   "cell_type": "code",
   "execution_count": 10,
   "metadata": {},
   "outputs": [],
   "source": [
    "class SeparableConv(nn.Module):\n",
    "    def __init__(self, in_channels, out_channels, act=False):\n",
    "        super(SeparableConv, self).__init__()\n",
    "        self.in_channels = in_channels\n",
    "        self.out_channels = out_channels\n",
    "        self.act = act\n",
    "\n",
    "        self.depthwise = nn.Conv2d(in_channels, in_channels, kernel_size = 3, groups=in_channels, padding=1)\n",
    "        self.pointwise = nn.Conv2d(in_channels, out_channels, kernel_size=1)\n",
    "        self.batchnorm = nn.BatchNorm2d(out_channels)\n",
    "    def forward(self, x):\n",
    "        if self.act == True:\n",
    "            x = F.relu(x)\n",
    "        x = self.depthwise(x)\n",
    "        x = self.pointwise(x)\n",
    "        x = self.batchnorm(x)\n",
    "        return x"
   ]
  },
  {
   "cell_type": "code",
   "execution_count": 11,
   "metadata": {},
   "outputs": [],
   "source": [
    "class MiddleFlow(nn.Module):\n",
    "    def __init__(self, channels):\n",
    "        super(MiddleFlow, self).__init__()\n",
    "        self.channels = channels\n",
    "\n",
    "        self.block1 = nn.Sequential(\n",
    "            SeparableConv(channels, channels, act=True),\n",
    "            SeparableConv(channels, channels, act=True),\n",
    "            SeparableConv(channels, channels, act=True))\n",
    "        \n",
    "        self.block2 = nn.Sequential(\n",
    "            SeparableConv(channels, channels, act=True),\n",
    "            SeparableConv(channels, channels, act=True),\n",
    "            SeparableConv(channels, channels, act=True))\n",
    "        \n",
    "        self.block3 = nn.Sequential(\n",
    "            SeparableConv(channels, channels, act=True),\n",
    "            SeparableConv(channels, channels, act=True),\n",
    "            SeparableConv(channels, channels, act=True))\n",
    "\n",
    "        self.block4 = nn.Sequential(\n",
    "            SeparableConv(channels, channels, act=True),\n",
    "            SeparableConv(channels, channels, act=True),\n",
    "            SeparableConv(channels, channels, act=True))\n",
    "\n",
    "        self.block5 = nn.Sequential(\n",
    "            SeparableConv(channels, channels, act=True),\n",
    "            SeparableConv(channels, channels, act=True),\n",
    "            SeparableConv(channels, channels, act=True))\n",
    "        \n",
    "        self.block6 = nn.Sequential(\n",
    "            SeparableConv(channels, channels, act=True),\n",
    "            SeparableConv(channels, channels, act=True),\n",
    "            SeparableConv(channels, channels, act=True))\n",
    "\n",
    "        self.block7 = nn.Sequential(\n",
    "            SeparableConv(channels, channels, act=True),\n",
    "            SeparableConv(channels, channels, act=True),\n",
    "            SeparableConv(channels, channels, act=True))\n",
    "        \n",
    "        self.block8 = nn.Sequential(\n",
    "            SeparableConv(channels, channels, act=True),\n",
    "            SeparableConv(channels, channels, act=True),\n",
    "            SeparableConv(channels, channels, act=True))\n",
    "    def forward(self, x):\n",
    "        block1 = self.block1(x)\n",
    "        fusion1 = x + block1\n",
    "\n",
    "        block2 = self.block2(fusion1)\n",
    "        fusion2 = fusion1 + block2\n",
    "\n",
    "        block3 = self.block3(fusion2)\n",
    "        fusion3 = fusion2 + block3\n",
    "\n",
    "        block4 = self.block4(fusion3)\n",
    "        fusion4 = fusion3 + block4\n",
    "\n",
    "        block5 = self.block5(fusion4)\n",
    "        fusion5 = fusion4 + block5\n",
    "\n",
    "        block6 = self.block6(fusion5)\n",
    "        fusion6 = fusion5 + block6\n",
    "\n",
    "        block7 = self.block7(fusion6)\n",
    "        fusion7 = fusion6 + block7\n",
    "\n",
    "        block8 = self.block8(fusion7)\n",
    "        fusion8 = fusion7 + block8\n",
    "\n",
    "        return fusion8"
   ]
  },
  {
   "cell_type": "code",
   "execution_count": 12,
   "metadata": {},
   "outputs": [],
   "source": [
    "class Xception(nn.Module):\n",
    "    def __init__(self, in_channels, num_classes):\n",
    "        super(Xception, self).__init__()\n",
    "        self.in_channels = in_channels\n",
    "        self.num_classes = num_classes\n",
    "\n",
    "        # Entry flow\n",
    "        self.conv1 = ConvBlock(in_channels, 32, kernel_size=3, stride=2, act=True)\n",
    "        self.conv2 = ConvBlock(32, 64, kernel_size=3, act=True)\n",
    "        self.residual1 = ConvBlock(64, 128, kernel_size=1, stride=2)\n",
    "\n",
    "        self.sepconv1 = SeparableConv(64, 128)\n",
    "        self.sepconv2 = SeparableConv(128, 128, act=True)\n",
    "        self.maxpool1 = nn.MaxPool2d(kernel_size=3, stride=2, padding=1)\n",
    "        self.residual2 = ConvBlock(128, 256, kernel_size=1, stride=2)\n",
    "\n",
    "        self.sepconv3 = SeparableConv(128, 256, act=True)\n",
    "        self.sepconv4 = SeparableConv(256, 256, act=True)\n",
    "        self.maxpool2 = nn.MaxPool2d(kernel_size=3, stride=2, padding=1)\n",
    "        self.residual3 = ConvBlock(256, 728, kernel_size=1, stride=2)\n",
    "\n",
    "        self.sepconv5 = SeparableConv(256, 728, act=True)\n",
    "        self.sepconv6 = SeparableConv(728, 728, act=True)\n",
    "        self.maxpool3 = nn.MaxPool2d(kernel_size=3, stride=2, padding=1)\n",
    "\n",
    "        # Middle flow\n",
    "        self.middleflow = MiddleFlow(728)\n",
    "\n",
    "        # Exit Flow\n",
    "        self.exitsep1 = SeparableConv(728, 728, act=True)\n",
    "        self.exitsep2 = SeparableConv(728, 1024, act=True)\n",
    "        self.exitmaxpool = nn.MaxPool2d(kernel_size=3, stride=2, padding=1)\n",
    "        self.exitresidual = ConvBlock(728, 1024, kernel_size=1, stride=2)\n",
    "\n",
    "        self.exitsep3 = SeparableConv(1024, 1536)\n",
    "        self.exitsep4 = SeparableConv(1536, 2048)\n",
    "        self.globalavgpool = nn.AdaptiveAvgPool2d(1)\n",
    "        self.dropout = nn.Dropout(p=0.5)\n",
    "        self.classifier = nn.Linear(2048, num_classes)\n",
    "        \n",
    "\n",
    "    def forward(self, x):\n",
    "        # Entry Flow\n",
    "        conv1 = self.conv1(x)\n",
    "        conv2 = self.conv2(conv1)\n",
    "        res1 = self.residual1(conv2)\n",
    "        \n",
    "        sep1 = self.sepconv1(conv2)\n",
    "        sep2 = self.sepconv2(sep1)\n",
    "        pool1 = self.maxpool1(sep2)\n",
    "        fusion1 = pool1 + res1\n",
    "        res2 = self.residual2(fusion1)\n",
    "\n",
    "        sep3 = self.sepconv3(fusion1)\n",
    "        sep4 = self.sepconv4(sep3)\n",
    "        pool2 = self.maxpool2(sep4)\n",
    "        fusion2 = pool2 + res2\n",
    "        res3 = self.residual3(fusion2)\n",
    "\n",
    "        sep5 = self.sepconv5(fusion2)\n",
    "        sep6 = self.sepconv6(sep5)\n",
    "        pool3 = self.maxpool3(sep6)\n",
    "        fusion3 = pool3 + res3\n",
    "\n",
    "        # Middle Flow\n",
    "        middleflow = self.middleflow(fusion3)\n",
    "\n",
    "        # Exit Flow\n",
    "        exitsep1 = self.exitsep1(middleflow)\n",
    "        exitsep2 = self.exitsep2(exitsep1)\n",
    "        exitmaxpool = self.exitmaxpool(exitsep2)\n",
    "        exitresidual = self.exitresidual(middleflow)\n",
    "        exitfusion = exitresidual + exitmaxpool\n",
    "\n",
    "        exitsep3 = F.relu(self.exitsep3(exitfusion))\n",
    "        exitsep4 = F.relu(self.exitsep4(exitsep3))\n",
    "        globalavgpool = self.globalavgpool(exitsep4)\n",
    "        dropped = self.dropout(globalavgpool)\n",
    "        x = torch.flatten(dropped, start_dim=1)\n",
    "        classifier = self.classifier(x)\n",
    "\n",
    "        return classifier"
   ]
  },
  {
   "cell_type": "code",
   "execution_count": 13,
   "metadata": {},
   "outputs": [],
   "source": [
    "model  = Xception(3, num_classes)\n",
    "criterion = nn.CrossEntropyLoss()\n",
    "# optimizer = torch.optim.SGD(params = model.parameters(), lr = learning_rate, momentum=momentum)\n",
    "optimizer = torch.optim.Adam(params=model.parameters(), lr = learning_rate)"
   ]
  },
  {
   "cell_type": "code",
   "execution_count": 14,
   "metadata": {},
   "outputs": [],
   "source": [
    "# Writing Custom Learning Rate Scheduler \n",
    "def adjust_learning_rate(optimizer, epoch, initial_lr, decay_rate):\n",
    "    # Exponential decay every 10 epochs\"\n",
    "    if epoch % 5 == 0:\n",
    "        lr = initial_lr * torch.exp(torch.tensor(-decay_rate*epoch))\n",
    "        for param_group in optimizer.param_groups:\n",
    "            param_group['lr'] = lr"
   ]
  },
  {
   "cell_type": "code",
   "execution_count": 15,
   "metadata": {},
   "outputs": [],
   "source": [
    "def trainEpoch(device, model, loader, optimizer, criterion):\n",
    "    loop = tqdm(loader)\n",
    "    model.train()\n",
    "    \n",
    "    losses = []\n",
    "    correct = 0\n",
    "    total = 0\n",
    "    \n",
    "    for batch_id, (images, labels) in enumerate(loop):\n",
    "        images, labels = images.to(device), labels.to(device)\n",
    "        model = model.to(device)\n",
    "        \n",
    "        output = model(images)\n",
    "        \n",
    "        _, predicted = torch.max(output, 1)\n",
    "        total += labels.size(0)\n",
    "        batch_correct = (predicted==labels).sum().item()\n",
    "        batch_acc = 100*batch_correct/labels.size(0)\n",
    "        correct += batch_correct\n",
    "        \n",
    "        loss = criterion(output, labels)\n",
    "        losses.append(loss.item())\n",
    "        \n",
    "        optimizer.zero_grad()\n",
    "        loss.backward()\n",
    "        optimizer.step()\n",
    "        loop.set_postfix(train_loss = loss.item(), train_accuracy = batch_acc)\n",
    "        \n",
    "    return np.mean(losses), 100*correct/total\n",
    "\n",
    "def testEpoch(device, model, loader, criterion):\n",
    "    model.eval()\n",
    "    with torch.no_grad():\n",
    "        losses = []\n",
    "        correct = 0\n",
    "        total = 0\n",
    "        \n",
    "        loop = tqdm(loader)\n",
    "        for batch_id, (images, labels) in enumerate(loop):\n",
    "            images, labels = images.to(device), labels.to(device)\n",
    "            model = model.to(device)\n",
    "            \n",
    "            output = model(images)\n",
    "            \n",
    "            _, predicted = torch.max(output, 1)\n",
    "            total += labels.size(0)\n",
    "            batch_correct = (predicted==labels).sum().item()\n",
    "            batch_acc = 100*batch_correct/labels.size(0)\n",
    "            correct += batch_correct\n",
    "            \n",
    "            loss = criterion(output, labels)\n",
    "            losses.append(loss.item())\n",
    "            loop.set_postfix(test_loss = loss.item(), test_accuracy = batch_acc)\n",
    "\n",
    "        return np.mean(losses), 100*correct/total"
   ]
  },
  {
   "cell_type": "code",
   "execution_count": 16,
   "metadata": {},
   "outputs": [
    {
     "name": "stderr",
     "output_type": "stream",
     "text": [
      "100%|██████████| 1802/1802 [04:33<00:00,  6.59it/s, train_accuracy=60, train_loss=1.2]    \n",
      "100%|██████████| 442/442 [00:24<00:00, 17.94it/s, test_accuracy=60, test_loss=1.1]    \n"
     ]
    },
    {
     "name": "stdout",
     "output_type": "stream",
     "text": [
      "Saving new Best Model!\n",
      "Epoch-1 Train Loss: 1.4424 Train Accuracy: 43.6695\n",
      "Epoch-1 Test Loss: 1.3521 Test Accuracy: 49.0943\n"
     ]
    },
    {
     "name": "stderr",
     "output_type": "stream",
     "text": [
      "100%|██████████| 1802/1802 [04:30<00:00,  6.67it/s, train_accuracy=100, train_loss=0.816] \n",
      "100%|██████████| 442/442 [00:24<00:00, 18.16it/s, test_accuracy=50, test_loss=1.67]   \n"
     ]
    },
    {
     "name": "stdout",
     "output_type": "stream",
     "text": [
      "Saving new Best Model!\n",
      "Epoch-2 Train Loss: 1.1966 Train Accuracy: 54.5713\n",
      "Epoch-2 Test Loss: 1.1260 Test Accuracy: 57.7271\n"
     ]
    },
    {
     "name": "stderr",
     "output_type": "stream",
     "text": [
      "100%|██████████| 1802/1802 [04:30<00:00,  6.65it/s, train_accuracy=80, train_loss=1.38]   \n",
      "100%|██████████| 442/442 [00:25<00:00, 17.64it/s, test_accuracy=60, test_loss=1.22]   \n"
     ]
    },
    {
     "name": "stdout",
     "output_type": "stream",
     "text": [
      "Saving new Best Model!\n",
      "Epoch-3 Train Loss: 1.0940 Train Accuracy: 59.1374\n",
      "Epoch-3 Test Loss: 1.0569 Test Accuracy: 59.9349\n"
     ]
    },
    {
     "name": "stderr",
     "output_type": "stream",
     "text": [
      "100%|██████████| 1802/1802 [04:33<00:00,  6.59it/s, train_accuracy=40, train_loss=0.818]  \n",
      "100%|██████████| 442/442 [00:24<00:00, 18.14it/s, test_accuracy=60, test_loss=0.917]  \n"
     ]
    },
    {
     "name": "stdout",
     "output_type": "stream",
     "text": [
      "Saving new Best Model!\n",
      "Epoch-4 Train Loss: 0.9993 Train Accuracy: 62.4961\n",
      "Epoch-4 Test Loss: 1.0094 Test Accuracy: 62.7371\n"
     ]
    },
    {
     "name": "stderr",
     "output_type": "stream",
     "text": [
      "100%|██████████| 1802/1802 [04:34<00:00,  6.56it/s, train_accuracy=80, train_loss=0.526]  \n",
      "100%|██████████| 442/442 [00:24<00:00, 18.10it/s, test_accuracy=70, test_loss=0.983]  \n"
     ]
    },
    {
     "name": "stdout",
     "output_type": "stream",
     "text": [
      "Epoch-5 Train Loss: 0.8993 Train Accuracy: 66.5973\n",
      "Epoch-5 Test Loss: 1.0293 Test Accuracy: 62.3549\n"
     ]
    },
    {
     "name": "stderr",
     "output_type": "stream",
     "text": [
      "100%|██████████| 1802/1802 [04:36<00:00,  6.52it/s, train_accuracy=100, train_loss=0.221] \n",
      "100%|██████████| 442/442 [00:24<00:00, 17.92it/s, test_accuracy=70, test_loss=0.756]  \n"
     ]
    },
    {
     "name": "stdout",
     "output_type": "stream",
     "text": [
      "Saving new Best Model!\n",
      "Epoch-6 Train Loss: 0.6768 Train Accuracy: 75.2646\n",
      "Epoch-6 Test Loss: 1.0104 Test Accuracy: 65.4967\n"
     ]
    },
    {
     "name": "stderr",
     "output_type": "stream",
     "text": [
      "100%|██████████| 1802/1802 [04:35<00:00,  6.54it/s, train_accuracy=100, train_loss=0.392]  \n",
      "100%|██████████| 442/442 [00:24<00:00, 17.97it/s, test_accuracy=60, test_loss=1.09]   \n"
     ]
    },
    {
     "name": "stdout",
     "output_type": "stream",
     "text": [
      "Epoch-7 Train Loss: 0.4500 Train Accuracy: 83.9180\n",
      "Epoch-7 Test Loss: 1.1682 Test Accuracy: 64.0249\n"
     ]
    },
    {
     "name": "stderr",
     "output_type": "stream",
     "text": [
      "100%|██████████| 1802/1802 [04:36<00:00,  6.52it/s, train_accuracy=100, train_loss=0.0431] \n",
      "100%|██████████| 442/442 [00:24<00:00, 17.77it/s, test_accuracy=60, test_loss=1.15]   \n"
     ]
    },
    {
     "name": "stdout",
     "output_type": "stream",
     "text": [
      "Epoch-8 Train Loss: 0.2413 Train Accuracy: 91.8775\n",
      "Epoch-8 Test Loss: 1.4533 Test Accuracy: 61.7464\n"
     ]
    },
    {
     "name": "stderr",
     "output_type": "stream",
     "text": [
      "100%|██████████| 1802/1802 [04:54<00:00,  6.13it/s, train_accuracy=60, train_loss=0.832]   \n",
      "100%|██████████| 442/442 [00:24<00:00, 17.73it/s, test_accuracy=60, test_loss=2.97]   \n"
     ]
    },
    {
     "name": "stdout",
     "output_type": "stream",
     "text": [
      "Epoch-9 Train Loss: 0.1737 Train Accuracy: 94.3618\n",
      "Epoch-9 Test Loss: 1.5793 Test Accuracy: 63.7843\n"
     ]
    },
    {
     "name": "stderr",
     "output_type": "stream",
     "text": [
      "100%|██████████| 1802/1802 [04:33<00:00,  6.60it/s, train_accuracy=100, train_loss=0.0095] \n",
      "100%|██████████| 442/442 [00:24<00:00, 18.13it/s, test_accuracy=50, test_loss=2.85]   \n"
     ]
    },
    {
     "name": "stdout",
     "output_type": "stream",
     "text": [
      "Epoch-10 Train Loss: 0.1361 Train Accuracy: 95.7184\n",
      "Epoch-10 Test Loss: 1.7445 Test Accuracy: 62.7371\n"
     ]
    },
    {
     "name": "stderr",
     "output_type": "stream",
     "text": [
      "100%|██████████| 1802/1802 [04:29<00:00,  6.69it/s, train_accuracy=100, train_loss=0.00574] \n",
      "100%|██████████| 442/442 [00:25<00:00, 17.43it/s, test_accuracy=80, test_loss=1.6]    \n"
     ]
    },
    {
     "name": "stdout",
     "output_type": "stream",
     "text": [
      "Epoch-11 Train Loss: 0.0715 Train Accuracy: 98.1507\n",
      "Epoch-11 Test Loss: 1.7154 Test Accuracy: 65.0014\n"
     ]
    },
    {
     "name": "stderr",
     "output_type": "stream",
     "text": [
      "100%|██████████| 1802/1802 [04:34<00:00,  6.56it/s, train_accuracy=80, train_loss=0.273]    \n",
      "100%|██████████| 442/442 [00:24<00:00, 17.76it/s, test_accuracy=40, test_loss=3.25]   \n"
     ]
    },
    {
     "name": "stdout",
     "output_type": "stream",
     "text": [
      "Epoch-12 Train Loss: 0.0561 Train Accuracy: 98.6191\n",
      "Epoch-12 Test Loss: 1.8006 Test Accuracy: 64.7042\n"
     ]
    },
    {
     "name": "stderr",
     "output_type": "stream",
     "text": [
      "100%|██████████| 1802/1802 [04:33<00:00,  6.60it/s, train_accuracy=100, train_loss=0.0273]  \n",
      "100%|██████████| 442/442 [00:24<00:00, 18.05it/s, test_accuracy=90, test_loss=0.693]  \n"
     ]
    },
    {
     "name": "stdout",
     "output_type": "stream",
     "text": [
      "Epoch-13 Train Loss: 0.0514 Train Accuracy: 98.6815\n",
      "Epoch-13 Test Loss: 1.9997 Test Accuracy: 64.2938\n"
     ]
    },
    {
     "name": "stderr",
     "output_type": "stream",
     "text": [
      "100%|██████████| 1802/1802 [04:35<00:00,  6.54it/s, train_accuracy=100, train_loss=0.0157]  \n",
      "100%|██████████| 442/442 [00:24<00:00, 18.28it/s, test_accuracy=40, test_loss=3.09]   \n"
     ]
    },
    {
     "name": "stdout",
     "output_type": "stream",
     "text": [
      "Epoch-14 Train Loss: 0.0485 Train Accuracy: 98.6468\n",
      "Epoch-14 Test Loss: 2.0104 Test Accuracy: 64.7184\n"
     ]
    },
    {
     "name": "stderr",
     "output_type": "stream",
     "text": [
      "100%|██████████| 1802/1802 [04:35<00:00,  6.54it/s, train_accuracy=80, train_loss=0.537]    \n",
      "100%|██████████| 442/442 [00:24<00:00, 17.89it/s, test_accuracy=50, test_loss=2.42]   \n"
     ]
    },
    {
     "name": "stdout",
     "output_type": "stream",
     "text": [
      "Epoch-15 Train Loss: 0.0468 Train Accuracy: 98.7232\n",
      "Epoch-15 Test Loss: 1.9781 Test Accuracy: 64.9165\n"
     ]
    },
    {
     "name": "stderr",
     "output_type": "stream",
     "text": [
      "100%|██████████| 1802/1802 [04:31<00:00,  6.63it/s, train_accuracy=80, train_loss=0.659]    \n",
      "100%|██████████| 442/442 [00:25<00:00, 17.31it/s, test_accuracy=50, test_loss=2.59]    \n"
     ]
    },
    {
     "name": "stdout",
     "output_type": "stream",
     "text": [
      "Epoch-16 Train Loss: 0.0237 Train Accuracy: 99.3477\n",
      "Epoch-16 Test Loss: 2.0337 Test Accuracy: 65.0156\n"
     ]
    },
    {
     "name": "stderr",
     "output_type": "stream",
     "text": [
      " 32%|███▏      | 578/1802 [01:28<02:58,  6.86it/s, train_accuracy=100, train_loss=0.0141]  "
     ]
    }
   ],
   "source": [
    "import copy\n",
    "last_best = 0\n",
    "train_losses = []\n",
    "train_acc = []\n",
    "test_losses = []\n",
    "test_acc = []\n",
    "for epoch in range (epochs):\n",
    "    \n",
    "    train_loss, train_accuracy = trainEpoch(device, model, train_loader, optimizer, criterion)\n",
    "    test_loss, test_accuracy = testEpoch(device, model, test_loader, criterion)\n",
    "    adjust_learning_rate(optimizer, epoch+1, learning_rate, 0.1)\n",
    "\n",
    "    train_losses.append(train_loss)\n",
    "    train_acc.append(train_accuracy)\n",
    "    test_losses.append(test_loss)\n",
    "    test_acc.append(test_accuracy)\n",
    "\n",
    "    # scheduler.step()\n",
    "\n",
    "    if last_best <= test_accuracy:\n",
    "        torch.save(copy.deepcopy(model.state_dict()), 'xception.pth')\n",
    "        print(\"Saving new Best Model!\")\n",
    "        last_best = test_accuracy\n",
    "\n",
    "    print(f\"Epoch-{epoch+1} Train Loss: {train_losses[-1]:.4f} Train Accuracy: {train_acc[-1]:.4f}\")\n",
    "    print(f\"Epoch-{epoch+1} Test Loss: {test_losses[-1]:.4f} Test Accuracy: {test_acc[-1]:.4f}\")\n",
    "\n",
    "dict = {'train_loss': train_losses, 'train_accuracy': train_acc, 'test_loss': test_losses, 'test_accuracy': test_acc}\n",
    "df = pd.DataFrame(dict)\n",
    "df.to_csv('loss_and_acc_xception.csv')"
   ]
  },
  {
   "cell_type": "code",
   "execution_count": null,
   "metadata": {},
   "outputs": [],
   "source": [
    "train_loss = df[\"train_loss\"]\n",
    "train_acc = df[\"train_accuracy\"]\n",
    "valid_loss = df[\"test_loss\"]\n",
    "valid_acc = df[\"test_accuracy\"]"
   ]
  },
  {
   "cell_type": "code",
   "execution_count": null,
   "metadata": {},
   "outputs": [],
   "source": [
    "plt.plot(train_loss, label=\"Train loss\")\n",
    "plt.plot(valid_loss, label=\"Validation loss\")\n",
    "plt.title(\"Loss per epoch\")\n",
    "plt.xlabel(\"Epochs\")\n",
    "plt.ylabel(\"Loss value\")\n",
    "plt.legend()\n",
    "plt.grid()\n",
    "plt.show()"
   ]
  },
  {
   "cell_type": "code",
   "execution_count": null,
   "metadata": {},
   "outputs": [],
   "source": [
    "plt.plot(train_acc, label=\"Train accuracy\")\n",
    "plt.plot(valid_acc, label=\"Validation accuracy\")\n",
    "plt.title(\"Accuracy per epoch\")\n",
    "plt.xlabel(\"Epochs\")\n",
    "plt.ylabel(\"Accuracy (%)\")\n",
    "plt.legend()\n",
    "plt.grid()\n",
    "plt.show()"
   ]
  },
  {
   "cell_type": "code",
   "execution_count": null,
   "metadata": {},
   "outputs": [],
   "source": [
    "# Now, let's load the trained model\n",
    "model = Xception(in_channels=3, num_classes=7)\n",
    "model.load_state_dict(torch.load(\"xception.pth\"))"
   ]
  },
  {
   "cell_type": "code",
   "execution_count": null,
   "metadata": {},
   "outputs": [],
   "source": [
    "correct = 0\n",
    "total = 0\n",
    "model = model.to(device)\n",
    "# since we're not training, we don't need to calculate the gradients for our outputs\n",
    "with torch.no_grad():\n",
    "    model.eval()\n",
    "    for data in tqdm(test_loader):\n",
    "        images, labels = data\n",
    "        images, labels = images.to(device), labels.to(device)\n",
    "       \n",
    "        \n",
    "        # calculate outputs by running images through the network\n",
    "        outputs = model(images)\n",
    "        # the class with the highest energy is what we choose as prediction\n",
    "        _, predicted = torch.max(outputs.data, 1)\n",
    "        total += labels.size(0)\n",
    "        correct += (predicted == labels).sum().item()\n",
    "\n",
    "print(f'Accuracy of the network on the test images: {100 * correct // total} %')"
   ]
  },
  {
   "cell_type": "code",
   "execution_count": null,
   "metadata": {},
   "outputs": [],
   "source": [
    "# prepare to count predictions for each class\n",
    "correct_pred = {classname: 0 for classname in classes}\n",
    "total_pred = {classname: 0 for classname in classes}\n",
    "\n",
    "# again no gradients needed\n",
    "with torch.no_grad():\n",
    "    for data in tqdm(test_loader):\n",
    "        images, labels = data\n",
    "        images, labels = images.to(device), labels.to(device)\n",
    "        model=model.to(device)\n",
    "        outputs = model(images)\n",
    "        _, predictions = torch.max(outputs, 1)\n",
    "        # collect the correct predictions for each class\n",
    "        for label, prediction in zip(labels, predictions):\n",
    "            if label == prediction:\n",
    "                correct_pred[classes[label]] += 1\n",
    "            total_pred[classes[label]] += 1\n",
    "\n",
    "\n",
    "# print accuracy for each class\n",
    "for classname, correct_count in correct_pred.items():\n",
    "    accuracy = 100 * float(correct_count) / total_pred[classname]\n",
    "    print(f'Accuracy for class: {classname:5s} is {accuracy:.1f} %')"
   ]
  },
  {
   "cell_type": "code",
   "execution_count": null,
   "metadata": {},
   "outputs": [],
   "source": [
    "import matplotlib.pyplot as plt\n",
    "\n",
    "def show_images(images, true_labels, predicted_labels, nrows, ncols, classes):\n",
    "    fig, axes = plt.subplots(nrows=nrows, ncols=ncols, figsize=(10, 10))\n",
    "\n",
    "    for i, ax in enumerate(axes.flat):\n",
    "        # Convert the tensor image to a NumPy array\n",
    "        img = images[i]\n",
    "        img = transforms.ToPILImage()(img)\n",
    "        true_label = classes[true_labels[i]]\n",
    "        predicted_label = classes[predicted_labels[i]]\n",
    "\n",
    "        # Display the image\n",
    "        ax.imshow(img)\n",
    "\n",
    "        # Display the label below the image\n",
    "        if true_label == predicted_label:\n",
    "            font_color  = \"green\"\n",
    "        else:\n",
    "            font_color = \"red\"\n",
    "        ax.set_xlabel(f\"GT: {true_label} | Predicted: {predicted_label}\", color=font_color)\n",
    "\n",
    "        # Remove ticks and labels\n",
    "        ax.set_xticks([])\n",
    "        ax.set_yticks([])\n",
    "        ax.set_xticklabels([])\n",
    "        ax.set_yticklabels([])\n",
    "        ax.set_facecolor(\"white\")\n",
    "\n",
    "    plt.tight_layout()\n",
    "    plt.show()"
   ]
  },
  {
   "cell_type": "code",
   "execution_count": null,
   "metadata": {},
   "outputs": [],
   "source": [
    "images, true_labels = next(iter(test_loader))\n",
    "images = images.to(device)\n",
    "model = model.to(device)\n",
    "outputs = model(images)\n",
    "_, predicted_labels = torch.max(outputs.data, 1)\n",
    "true_labels = true_labels.numpy()\n",
    "predicted_labels = predicted_labels.cpu().detach().numpy()"
   ]
  },
  {
   "cell_type": "code",
   "execution_count": null,
   "metadata": {},
   "outputs": [],
   "source": [
    "show_images(images, true_labels, predicted_labels, 4,4, classes)"
   ]
  }
 ],
 "metadata": {
  "kernelspec": {
   "display_name": "ict11-smp",
   "language": "python",
   "name": "python3"
  },
  "language_info": {
   "codemirror_mode": {
    "name": "ipython",
    "version": 3
   },
   "file_extension": ".py",
   "mimetype": "text/x-python",
   "name": "python",
   "nbconvert_exporter": "python",
   "pygments_lexer": "ipython3",
   "version": "3.8.12"
  }
 },
 "nbformat": 4,
 "nbformat_minor": 2
}
